{
 "cells": [
  {
   "cell_type": "markdown",
   "metadata": {},
   "source": [
    "**Chapter 10 – Introduction to Artificial Neural Networks with Keras**\n",
    "\n",
    "_This notebook contains all the sample code and solutions to the exercises in chapter 10._"
   ]
  },
  {
   "cell_type": "markdown",
   "metadata": {},
   "source": [
    "<table align=\"left\">\n",
    "  <td>\n",
    "    <a target=\"_blank\" href=\"https://colab.research.google.com/github/ageron/handson-ml2/blob/master/10_neural_nets_with_keras.ipynb\"><img src=\"https://www.tensorflow.org/images/colab_logo_32px.png\" />Run in Google Colab</a>\n",
    "  </td>\n",
    "</table>"
   ]
  },
  {
   "cell_type": "markdown",
   "metadata": {},
   "source": [
    "# Setup"
   ]
  },
  {
   "cell_type": "markdown",
   "metadata": {},
   "source": [
    "First, let's import a few common modules, ensure MatplotLib plots figures inline and prepare a function to save the figures. We also check that Python 3.5 or later is installed (although Python 2.x may work, it is deprecated so we strongly recommend you use Python 3 instead), as well as Scikit-Learn ≥0.20 and TensorFlow ≥2.0."
   ]
  },
  {
   "cell_type": "code",
   "execution_count": 76,
   "metadata": {},
   "outputs": [],
   "source": [
    "# Python ≥3.5 is required\n",
    "import sys\n",
    "assert sys.version_info >= (3, 5)\n",
    "\n",
    "# Scikit-Learn ≥0.20 is required\n",
    "import sklearn\n",
    "assert sklearn.__version__ >= \"0.20\"\n",
    "\n",
    "try:\n",
    "    # %tensorflow_version only exists in Colab.\n",
    "    %tensorflow_version 2.x\n",
    "except Exception:\n",
    "    pass\n",
    "\n",
    "# TensorFlow ≥2.0 is required\n",
    "import tensorflow as tf\n",
    "assert tf.__version__ >= \"2.0\"\n",
    "\n",
    "# Common imports\n",
    "import numpy as np\n",
    "import os\n",
    "\n",
    "# to make this notebook's output stable across runs\n",
    "np.random.seed(42)\n",
    "\n",
    "# To plot pretty figures\n",
    "%matplotlib inline\n",
    "import matplotlib as mpl\n",
    "import matplotlib.pyplot as plt\n",
    "mpl.rc('axes', labelsize=14)\n",
    "mpl.rc('xtick', labelsize=12)\n",
    "mpl.rc('ytick', labelsize=12)\n",
    "\n",
    "# Where to save the figures\n",
    "PROJECT_ROOT_DIR = \".\"\n",
    "CHAPTER_ID = \"ann\"\n",
    "IMAGES_PATH = os.path.join(PROJECT_ROOT_DIR, \"images\", CHAPTER_ID)\n",
    "os.makedirs(IMAGES_PATH, exist_ok=True)\n",
    "\n",
    "def save_fig(fig_id, tight_layout=True, fig_extension=\"png\", resolution=300):\n",
    "    path = os.path.join(IMAGES_PATH, fig_id + \".\" + fig_extension)\n",
    "    print(\"Saving figure\", fig_id)\n",
    "    if tight_layout:\n",
    "        plt.tight_layout()\n",
    "    plt.savefig(path, format=fig_extension, dpi=resolution)\n",
    "\n",
    "# Ignore useless warnings (see SciPy issue #5998)\n",
    "import warnings\n",
    "warnings.filterwarnings(action=\"ignore\", message=\"^internal gelsd\")"
   ]
  },
  {
   "cell_type": "markdown",
   "metadata": {},
   "source": [
    "# Perceptrons"
   ]
  },
  {
   "cell_type": "markdown",
   "metadata": {},
   "source": [
    "**Note**: we set `max_iter` and `tol` explicitly to avoid warnings about the fact that their default value will change in future versions of Scikit-Learn."
   ]
  },
  {
   "cell_type": "code",
   "execution_count": 77,
   "metadata": {},
   "outputs": [],
   "source": [
    "import numpy as np\n",
    "from sklearn.datasets import load_iris\n",
    "from sklearn.linear_model import Perceptron\n",
    "\n",
    "iris = load_iris()\n",
    "X = iris.data[:, (2, 3)]  # petal length, petal width\n",
    "y = (iris.target == 0).astype(np.int)\n",
    "\n",
    "per_clf = Perceptron(max_iter=1000, tol=1e-3, random_state=42)\n",
    "per_clf.fit(X, y)\n",
    "\n",
    "y_pred = per_clf.predict([[2, 0.5]])"
   ]
  },
  {
   "cell_type": "code",
   "execution_count": 78,
   "metadata": {},
   "outputs": [
    {
     "data": {
      "text/plain": [
       "array([1])"
      ]
     },
     "execution_count": 78,
     "metadata": {},
     "output_type": "execute_result"
    }
   ],
   "source": [
    "y_pred"
   ]
  },
  {
   "cell_type": "code",
   "execution_count": 79,
   "metadata": {},
   "outputs": [
    {
     "name": "stdout",
     "output_type": "stream",
     "text": [
      "Saving figure perceptron_iris_plot\n"
     ]
    },
    {
     "data": {
      "image/png": "[encoded data removed]",
      "text/plain": [
       "<Figure size 720x288 with 1 Axes>"
      ]
     },
     "metadata": {
      "needs_background": "light"
     },
     "output_type": "display_data"
    }
   ],
   "source": [
    "a = -per_clf.coef_[0][0] / per_clf.coef_[0][1]\n",
    "b = -per_clf.intercept_ / per_clf.coef_[0][1]\n",
    "\n",
    "axes = [0, 5, 0, 2]\n",
    "\n",
    "x0, x1 = np.meshgrid(\n",
    "        np.linspace(axes[0], axes[1], 500).reshape(-1, 1),\n",
    "        np.linspace(axes[2], axes[3], 200).reshape(-1, 1),\n",
    "    )\n",
    "X_new = np.c_[x0.ravel(), x1.ravel()]\n",
    "y_predict = per_clf.predict(X_new)\n",
    "zz = y_predict.reshape(x0.shape)\n",
    "\n",
    "plt.figure(figsize=(10, 4))\n",
    "plt.plot(X[y==0, 0], X[y==0, 1], \"bs\", label=\"Not Iris-Setosa\")\n",
    "plt.plot(X[y==1, 0], X[y==1, 1], \"yo\", label=\"Iris-Setosa\")\n",
    "\n",
    "plt.plot([axes[0], axes[1]], [a * axes[0] + b, a * axes[1] + b], \"k-\", linewidth=3)\n",
    "from matplotlib.colors import ListedColormap\n",
    "custom_cmap = ListedColormap(['#9898ff', '#fafab0'])\n",
    "\n",
    "plt.contourf(x0, x1, zz, cmap=custom_cmap)\n",
    "plt.xlabel(\"Petal length\", fontsize=14)\n",
    "plt.ylabel(\"Petal width\", fontsize=14)\n",
    "plt.legend(loc=\"lower right\", fontsize=14)\n",
    "plt.axis(axes)\n",
    "\n",
    "save_fig(\"perceptron_iris_plot\")\n",
    "plt.show()"
   ]
  },
  {
   "cell_type": "markdown",
   "metadata": {},
   "source": [
    "# Activation functions"
   ]
  },
  {
   "cell_type": "code",
   "execution_count": 80,
   "metadata": {},
   "outputs": [],
   "source": [
    "def sigmoid(z):\n",
    "    return 1 / (1 + np.exp(-z))\n",
    "\n",
    "def relu(z):\n",
    "    return np.maximum(0, z)\n",
    "\n",
    "def derivative(f, z, eps=0.000001):\n",
    "    return (f(z + eps) - f(z - eps))/(2 * eps)"
   ]
  },
  {
   "cell_type": "code",
   "execution_count": 81,
   "metadata": {},
   "outputs": [
    {
     "name": "stdout",
     "output_type": "stream",
     "text": [
      "Saving figure activation_functions_plot\n"
     ]
    },
    {
     "data": {
      "image/png": "[encoded data removed]",
      "text/plain": [
       "<Figure size 792x288 with 2 Axes>"
      ]
     },
     "metadata": {
      "needs_background": "light"
     },
     "output_type": "display_data"
    }
   ],
   "source": [
    "z = np.linspace(-5, 5, 200)\n",
    "\n",
    "plt.figure(figsize=(11,4))\n",
    "\n",
    "plt.subplot(121)\n",
    "plt.plot(z, np.sign(z), \"r-\", linewidth=1, label=\"Step\")\n",
    "plt.plot(z, sigmoid(z), \"g--\", linewidth=2, label=\"Sigmoid\")\n",
    "plt.plot(z, np.tanh(z), \"b-\", linewidth=2, label=\"Tanh\")\n",
    "plt.plot(z, relu(z), \"m-.\", linewidth=2, label=\"ReLU\")\n",
    "plt.grid(True)\n",
    "plt.legend(loc=\"center right\", fontsize=14)\n",
    "plt.title(\"Activation functions\", fontsize=14)\n",
    "plt.axis([-5, 5, -1.2, 1.2])\n",
    "\n",
    "plt.subplot(122)\n",
    "plt.plot(z, derivative(np.sign, z), \"r-\", linewidth=1, label=\"Step\")\n",
    "plt.plot(0, 0, \"ro\", markersize=5)\n",
    "plt.plot(0, 0, \"rx\", markersize=10)\n",
    "plt.plot(z, derivative(sigmoid, z), \"g--\", linewidth=2, label=\"Sigmoid\")\n",
    "plt.plot(z, derivative(np.tanh, z), \"b-\", linewidth=2, label=\"Tanh\")\n",
    "plt.plot(z, derivative(relu, z), \"m-.\", linewidth=2, label=\"ReLU\")\n",
    "plt.grid(True)\n",
    "#plt.legend(loc=\"center right\", fontsize=14)\n",
    "plt.title(\"Derivatives\", fontsize=14)\n",
    "plt.axis([-5, 5, -0.2, 1.2])\n",
    "\n",
    "save_fig(\"activation_functions_plot\")\n",
    "plt.show()"
   ]
  },
  {
   "cell_type": "code",
   "execution_count": 82,
   "metadata": {},
   "outputs": [],
   "source": [
    "def heaviside(z):\n",
    "    return (z >= 0).astype(z.dtype)\n",
    "\n",
    "def mlp_xor(x1, x2, activation=heaviside):\n",
    "    return activation(-activation(x1 + x2 - 1.5) + activation(x1 + x2 - 0.5) - 0.5)"
   ]
  },
  {
   "cell_type": "code",
   "execution_count": 83,
   "metadata": {
    "scrolled": true
   },
   "outputs": [
    {
     "data": {
      "image/png": "[encoded data removed]",
      "text/plain": [
       "<Figure size 720x288 with 2 Axes>"
      ]
     },
     "metadata": {
      "needs_background": "light"
     },
     "output_type": "display_data"
    }
   ],
   "source": [
    "x1s = np.linspace(-0.2, 1.2, 100)\n",
    "x2s = np.linspace(-0.2, 1.2, 100)\n",
    "x1, x2 = np.meshgrid(x1s, x2s)\n",
    "\n",
    "z1 = mlp_xor(x1, x2, activation=heaviside)\n",
    "z2 = mlp_xor(x1, x2, activation=sigmoid)\n",
    "\n",
    "plt.figure(figsize=(10,4))\n",
    "\n",
    "plt.subplot(121)\n",
    "plt.contourf(x1, x2, z1)\n",
    "plt.plot([0, 1], [0, 1], \"gs\", markersize=20)\n",
    "plt.plot([0, 1], [1, 0], \"y^\", markersize=20)\n",
    "plt.title(\"Activation function: heaviside\", fontsize=14)\n",
    "plt.grid(True)\n",
    "\n",
    "plt.subplot(122)\n",
    "plt.contourf(x1, x2, z2)\n",
    "plt.plot([0, 1], [0, 1], \"gs\", markersize=20)\n",
    "plt.plot([0, 1], [1, 0], \"y^\", markersize=20)\n",
    "plt.title(\"Activation function: sigmoid\", fontsize=14)\n",
    "plt.grid(True)"
   ]
  },
  {
   "cell_type": "markdown",
   "metadata": {},
   "source": [
    "# Building an Image Classifier"
   ]
  },
  {
   "cell_type": "markdown",
   "metadata": {},
   "source": [
    "First let's import TensorFlow and Keras."
   ]
  },
  {
   "cell_type": "code",
   "execution_count": 84,
   "metadata": {},
   "outputs": [],
   "source": [
    "import tensorflow as tf\n",
    "from tensorflow import keras"
   ]
  },
  {
   "cell_type": "code",
   "execution_count": 85,
   "metadata": {},
   "outputs": [
    {
     "data": {
      "text/plain": [
       "'2.1.0'"
      ]
     },
     "execution_count": 85,
     "metadata": {},
     "output_type": "execute_result"
    }
   ],
   "source": [
    "tf.__version__"
   ]
  },
  {
   "cell_type": "code",
   "execution_count": 86,
   "metadata": {},
   "outputs": [
    {
     "data": {
      "text/plain": [
       "'2.2.4-tf'"
      ]
     },
     "execution_count": 86,
     "metadata": {},
     "output_type": "execute_result"
    }
   ],
   "source": [
    "keras.__version__"
   ]
  },
  {
   "cell_type": "markdown",
   "metadata": {},
   "source": [
    "Let's start by loading the fashion MNIST dataset. Keras has a number of functions to load popular datasets in `keras.datasets`. The dataset is already split for you between a training set and a test set, but it can be useful to split the training set further to have a validation set:"
   ]
  },
  {
   "cell_type": "code",
   "execution_count": 87,
   "metadata": {},
   "outputs": [],
   "source": [
    "fashion_mnist = keras.datasets.fashion_mnist\n",
    "(X_train_full, y_train_full), (X_test, y_test) = fashion_mnist.load_data()"
   ]
  },
  {
   "cell_type": "markdown",
   "metadata": {},
   "source": [
    "The training set contains 60,000 grayscale images, each 28x28 pixels:"
   ]
  },
  {
   "cell_type": "code",
   "execution_count": 88,
   "metadata": {},
   "outputs": [
    {
     "data": {
      "text/plain": [
       "(60000, 28, 28)"
      ]
     },
     "execution_count": 88,
     "metadata": {},
     "output_type": "execute_result"
    }
   ],
   "source": [
    "X_train_full.shape"
   ]
  },
  {
   "cell_type": "markdown",
   "metadata": {},
   "source": [
    "Each pixel intensity is represented as a byte (0 to 255):"
   ]
  },
  {
   "cell_type": "code",
   "execution_count": 89,
   "metadata": {},
   "outputs": [
    {
     "data": {
      "text/plain": [
       "dtype('uint8')"
      ]
     },
     "execution_count": 89,
     "metadata": {},
     "output_type": "execute_result"
    }
   ],
   "source": [
    "X_train_full.dtype"
   ]
  },
  {
   "cell_type": "markdown",
   "metadata": {},
   "source": [
    "Let's split the full training set into a validation set and a (smaller) training set. We also scale the pixel intensities down to the 0-1 range and convert them to floats, by dividing by 255."
   ]
  },
  {
   "cell_type": "code",
   "execution_count": 90,
   "metadata": {},
   "outputs": [],
   "source": [
    "X_valid, X_train = X_train_full[:5000] / 255., X_train_full[5000:] / 255.\n",
    "y_valid, y_train = y_train_full[:5000], y_train_full[5000:]\n",
    "X_test = X_test / 255."
   ]
  },
  {
   "cell_type": "markdown",
   "metadata": {},
   "source": [
    "You can plot an image using Matplotlib's `imshow()` function, with a `'binary'`\n",
    " color map:"
   ]
  },
  {
   "cell_type": "code",
   "execution_count": 91,
   "metadata": {},
   "outputs": [
    {
     "data": {
      "image/png": "[encoded data removed]",
      "text/plain": [
       "<Figure size 432x288 with 1 Axes>"
      ]
     },
     "metadata": {
      "needs_background": "light"
     },
     "output_type": "display_data"
    }
   ],
   "source": [
    "plt.imshow(X_train[0], cmap=\"binary\")\n",
    "plt.axis('off')\n",
    "plt.show()"
   ]
  },
  {
   "cell_type": "markdown",
   "metadata": {},
   "source": [
    "The labels are the class IDs (represented as uint8), from 0 to 9:"
   ]
  },
  {
   "cell_type": "code",
   "execution_count": 92,
   "metadata": {},
   "outputs": [
    {
     "data": {
      "text/plain": [
       "array([4, 0, 7, ..., 3, 0, 5], dtype=uint8)"
      ]
     },
     "execution_count": 92,
     "metadata": {},
     "output_type": "execute_result"
    }
   ],
   "source": [
    "y_train"
   ]
  },
  {
   "cell_type": "markdown",
   "metadata": {},
   "source": [
    "Here are the corresponding class names:"
   ]
  },
  {
   "cell_type": "code",
   "execution_count": 93,
   "metadata": {},
   "outputs": [],
   "source": [
    "class_names = [\"T-shirt/top\", \"Trouser\", \"Pullover\", \"Dress\", \"Coat\",\n",
    "               \"Sandal\", \"Shirt\", \"Sneaker\", \"Bag\", \"Ankle boot\"]"
   ]
  },
  {
   "cell_type": "markdown",
   "metadata": {},
   "source": [
    "So the first image in the training set is a coat:"
   ]
  },
  {
   "cell_type": "code",
   "execution_count": 94,
   "metadata": {},
   "outputs": [
    {
     "data": {
      "text/plain": [
       "'Coat'"
      ]
     },
     "execution_count": 94,
     "metadata": {},
     "output_type": "execute_result"
    }
   ],
   "source": [
    "class_names[y_train[0]]"
   ]
  },
  {
   "cell_type": "markdown",
   "metadata": {},
   "source": [
    "The validation set contains 5,000 images, and the test set contains 10,000 images:"
   ]
  },
  {
   "cell_type": "code",
   "execution_count": 95,
   "metadata": {},
   "outputs": [
    {
     "data": {
      "text/plain": [
       "(5000, 28, 28)"
      ]
     },
     "execution_count": 95,
     "metadata": {},
     "output_type": "execute_result"
    }
   ],
   "source": [
    "X_valid.shape"
   ]
  },
  {
   "cell_type": "code",
   "execution_count": 96,
   "metadata": {},
   "outputs": [
    {
     "data": {
      "text/plain": [
       "(10000, 28, 28)"
      ]
     },
     "execution_count": 96,
     "metadata": {},
     "output_type": "execute_result"
    }
   ],
   "source": [
    "X_test.shape"
   ]
  },
  {
   "cell_type": "markdown",
   "metadata": {},
   "source": [
    "Let's take a look at a sample of the images in the dataset:"
   ]
  },
  {
   "cell_type": "code",
   "execution_count": 97,
   "metadata": {},
   "outputs": [
    {
     "name": "stdout",
     "output_type": "stream",
     "text": [
      "Saving figure fashion_mnist_plot\n"
     ]
    },
    {
     "data": {
      "image/png": "[encoded data removed]",
      "text/plain": [
       "<Figure size 864x345.6 with 40 Axes>"
      ]
     },
     "metadata": {
      "needs_background": "light"
     },
     "output_type": "display_data"
    }
   ],
   "source": [
    "n_rows = 4\n",
    "n_cols = 10\n",
    "plt.figure(figsize=(n_cols * 1.2, n_rows * 1.2))\n",
    "for row in range(n_rows):\n",
    "    for col in range(n_cols):\n",
    "        index = n_cols * row + col\n",
    "        plt.subplot(n_rows, n_cols, index + 1)\n",
    "        plt.imshow(X_train[index], cmap=\"binary\", interpolation=\"nearest\")\n",
    "        plt.axis('off')\n",
    "        plt.title(class_names[y_train[index]], fontsize=12)\n",
    "plt.subplots_adjust(wspace=0.2, hspace=0.5)\n",
    "save_fig('fashion_mnist_plot', tight_layout=False)\n",
    "plt.show()"
   ]
  },
  {
   "cell_type": "code",
   "execution_count": 98,
   "metadata": {},
   "outputs": [],
   "source": [
    "model = keras.models.Sequential()\n",
    "model.add(keras.layers.Flatten(input_shape=[28, 28]))\n",
    "model.add(keras.layers.Dense(300, activation=\"relu\"))\n",
    "model.add(keras.layers.Dense(100, activation=\"relu\"))\n",
    "model.add(keras.layers.Dense(10, activation=\"softmax\"))"
   ]
  },
  {
   "cell_type": "code",
   "execution_count": 99,
   "metadata": {},
   "outputs": [],
   "source": [
    "keras.backend.clear_session()\n",
    "np.random.seed(42)\n",
    "tf.random.set_seed(42)"
   ]
  },
  {
   "cell_type": "code",
   "execution_count": 100,
   "metadata": {},
   "outputs": [],
   "source": [
    "model = keras.models.Sequential([\n",
    "    keras.layers.Flatten(input_shape=[28, 28]),\n",
    "    keras.layers.Dense(300, activation=\"relu\"),\n",
    "    keras.layers.Dense(100, activation=\"relu\"),\n",
    "    keras.layers.Dense(10, activation=\"softmax\")\n",
    "])"
   ]
  },
  {
   "cell_type": "code",
   "execution_count": 101,
   "metadata": {},
   "outputs": [
    {
     "data": {
      "text/plain": [
       "[<tensorflow.python.keras.layers.core.Flatten at 0x15381ecec88>,\n",
       " <tensorflow.python.keras.layers.core.Dense at 0x15381ecee88>,\n",
       " <tensorflow.python.keras.layers.core.Dense at 0x15381ecf108>,\n",
       " <tensorflow.python.keras.layers.core.Dense at 0x15381ecf348>]"
      ]
     },
     "execution_count": 101,
     "metadata": {},
     "output_type": "execute_result"
    }
   ],
   "source": [
    "model.layers"
   ]
  },
  {
   "cell_type": "code",
   "execution_count": 102,
   "metadata": {},
   "outputs": [
    {
     "name": "stdout",
     "output_type": "stream",
     "text": [
      "Model: \"sequential\"\n",
      "_________________________________________________________________\n",
      "Layer (type)                 Output Shape              Param #   \n",
      "=================================================================\n",
      "flatten (Flatten)            (None, 784)               0         \n",
      "_________________________________________________________________\n",
      "dense (Dense)                (None, 300)               235500    \n",
      "_________________________________________________________________\n",
      "dense_1 (Dense)              (None, 100)               30100     \n",
      "_________________________________________________________________\n",
      "dense_2 (Dense)              (None, 10)                1010      \n",
      "=================================================================\n",
      "Total params: 266,610\n",
      "Trainable params: 266,610\n",
      "Non-trainable params: 0\n",
      "_________________________________________________________________\n"
     ]
    }
   ],
   "source": [
    "model.summary()"
   ]
  },
  {
   "cell_type": "code",
   "execution_count": 103,
   "metadata": {},
   "outputs": [
    {
     "data": {
      "image/png": "[encoded data removed]",
      "text/plain": [
       "<IPython.core.display.Image object>"
      ]
     },
     "execution_count": 103,
     "metadata": {},
     "output_type": "execute_result"
    }
   ],
   "source": [
    "keras.utils.plot_model(model, \"my_fashion_mnist_model.png\", show_shapes=True)"
   ]
  },
  {
   "cell_type": "code",
   "execution_count": 104,
   "metadata": {},
   "outputs": [
    {
     "data": {
      "text/plain": [
       "'dense'"
      ]
     },
     "execution_count": 104,
     "metadata": {},
     "output_type": "execute_result"
    }
   ],
   "source": [
    "hidden1 = model.layers[1]\n",
    "hidden1.name"
   ]
  },
  {
   "cell_type": "code",
   "execution_count": 105,
   "metadata": {},
   "outputs": [
    {
     "data": {
      "text/plain": [
       "True"
      ]
     },
     "execution_count": 105,
     "metadata": {},
     "output_type": "execute_result"
    }
   ],
   "source": [
    "model.get_layer(hidden1.name) is hidden1"
   ]
  },
  {
   "cell_type": "code",
   "execution_count": 106,
   "metadata": {},
   "outputs": [],
   "source": [
    "weights, biases = hidden1.get_weights()"
   ]
  },
  {
   "cell_type": "code",
   "execution_count": 107,
   "metadata": {},
   "outputs": [
    {
     "data": {
      "text/plain": [
       "array([[ 0.02448617, -0.00877795, -0.02189048, ..., -0.02766046,\n",
       "         0.03859074, -0.06889391],\n",
       "       [ 0.00476504, -0.03105379, -0.0586676 , ...,  0.00602964,\n",
       "        -0.02763776, -0.04165364],\n",
       "       [-0.06189284, -0.06901957,  0.07102345, ..., -0.04238207,\n",
       "         0.07121518, -0.07331658],\n",
       "       ...,\n",
       "       [-0.03048757,  0.02155137, -0.05400612, ..., -0.00113463,\n",
       "         0.00228987,  0.05581069],\n",
       "       [ 0.07061854, -0.06960931,  0.07038955, ..., -0.00384101,\n",
       "         0.00034875,  0.02878492],\n",
       "       [-0.06022581,  0.01577859, -0.02585464, ..., -0.00527829,\n",
       "         0.00272203, -0.06793761]], dtype=float32)"
      ]
     },
     "execution_count": 107,
     "metadata": {},
     "output_type": "execute_result"
    }
   ],
   "source": [
    "weights"
   ]
  },
  {
   "cell_type": "code",
   "execution_count": 108,
   "metadata": {},
   "outputs": [
    {
     "data": {
      "text/plain": [
       "(784, 300)"
      ]
     },
     "execution_count": 108,
     "metadata": {},
     "output_type": "execute_result"
    }
   ],
   "source": [
    "weights.shape"
   ]
  },
  {
   "cell_type": "code",
   "execution_count": 109,
   "metadata": {},
   "outputs": [
    {
     "data": {
      "text/plain": [
       "array([0., 0., 0., 0., 0., 0., 0., 0., 0., 0., 0., 0., 0., 0., 0., 0., 0.,\n",
       "       0., 0., 0., 0., 0., 0., 0., 0., 0., 0., 0., 0., 0., 0., 0., 0., 0.,\n",
       "       0., 0., 0., 0., 0., 0., 0., 0., 0., 0., 0., 0., 0., 0., 0., 0., 0.,\n",
       "       0., 0., 0., 0., 0., 0., 0., 0., 0., 0., 0., 0., 0., 0., 0., 0., 0.,\n",
       "       0., 0., 0., 0., 0., 0., 0., 0., 0., 0., 0., 0., 0., 0., 0., 0., 0.,\n",
       "       0., 0., 0., 0., 0., 0., 0., 0., 0., 0., 0., 0., 0., 0., 0., 0., 0.,\n",
       "       0., 0., 0., 0., 0., 0., 0., 0., 0., 0., 0., 0., 0., 0., 0., 0., 0.,\n",
       "       0., 0., 0., 0., 0., 0., 0., 0., 0., 0., 0., 0., 0., 0., 0., 0., 0.,\n",
       "       0., 0., 0., 0., 0., 0., 0., 0., 0., 0., 0., 0., 0., 0., 0., 0., 0.,\n",
       "       0., 0., 0., 0., 0., 0., 0., 0., 0., 0., 0., 0., 0., 0., 0., 0., 0.,\n",
       "       0., 0., 0., 0., 0., 0., 0., 0., 0., 0., 0., 0., 0., 0., 0., 0., 0.,\n",
       "       0., 0., 0., 0., 0., 0., 0., 0., 0., 0., 0., 0., 0., 0., 0., 0., 0.,\n",
       "       0., 0., 0., 0., 0., 0., 0., 0., 0., 0., 0., 0., 0., 0., 0., 0., 0.,\n",
       "       0., 0., 0., 0., 0., 0., 0., 0., 0., 0., 0., 0., 0., 0., 0., 0., 0.,\n",
       "       0., 0., 0., 0., 0., 0., 0., 0., 0., 0., 0., 0., 0., 0., 0., 0., 0.,\n",
       "       0., 0., 0., 0., 0., 0., 0., 0., 0., 0., 0., 0., 0., 0., 0., 0., 0.,\n",
       "       0., 0., 0., 0., 0., 0., 0., 0., 0., 0., 0., 0., 0., 0., 0., 0., 0.,\n",
       "       0., 0., 0., 0., 0., 0., 0., 0., 0., 0., 0.], dtype=float32)"
      ]
     },
     "execution_count": 109,
     "metadata": {},
     "output_type": "execute_result"
    }
   ],
   "source": [
    "biases"
   ]
  },
  {
   "cell_type": "code",
   "execution_count": 110,
   "metadata": {},
   "outputs": [
    {
     "data": {
      "text/plain": [
       "(300,)"
      ]
     },
     "execution_count": 110,
     "metadata": {},
     "output_type": "execute_result"
    }
   ],
   "source": [
    "biases.shape"
   ]
  },
  {
   "cell_type": "code",
   "execution_count": 111,
   "metadata": {},
   "outputs": [],
   "source": [
    "model.compile(loss=\"sparse_categorical_crossentropy\",\n",
    "              optimizer=\"sgd\",\n",
    "              metrics=[\"accuracy\"])"
   ]
  },
  {
   "cell_type": "markdown",
   "metadata": {},
   "source": [
    "This is equivalent to:"
   ]
  },
  {
   "cell_type": "markdown",
   "metadata": {},
   "source": [
    "```python\n",
    "model.compile(loss=keras.losses.sparse_categorical_crossentropy,\n",
    "              optimizer=keras.optimizers.SGD(),\n",
    "              metrics=[keras.metrics.sparse_categorical_accuracy])\n",
    "```"
   ]
  },
  {
   "cell_type": "code",
   "execution_count": 112,
   "metadata": {},
   "outputs": [
    {
     "name": "stdout",
     "output_type": "stream",
     "text": [
      "Train on 55000 samples, validate on 5000 samples\n",
      "Epoch 1/30\n",
      "55000/55000 [==============================] - 3s 63us/sample - loss: 0.7226 - accuracy: 0.7641 - val_loss: 0.5073 - val_accuracy: 0.8320\n",
      "Epoch 2/30\n",
      "55000/55000 [==============================] - 3s 57us/sample - loss: 0.4844 - accuracy: 0.8323 - val_loss: 0.4538 - val_accuracy: 0.8488\n",
      "Epoch 3/30\n",
      "55000/55000 [==============================] - 3s 58us/sample - loss: 0.4414 - accuracy: 0.8463 - val_loss: 0.4378 - val_accuracy: 0.8498\n",
      "Epoch 4/30\n",
      "55000/55000 [==============================] - 3s 57us/sample - loss: 0.4129 - accuracy: 0.8547 - val_loss: 0.4164 - val_accuracy: 0.8556\n",
      "Epoch 5/30\n",
      "55000/55000 [==============================] - 3s 56us/sample - loss: 0.3927 - accuracy: 0.8617 - val_loss: 0.3809 - val_accuracy: 0.8652\n",
      "Epoch 6/30\n",
      "55000/55000 [==============================] - 3s 60us/sample - loss: 0.3771 - accuracy: 0.8665 - val_loss: 0.3728 - val_accuracy: 0.8680\n",
      "Epoch 7/30\n",
      "55000/55000 [==============================] - 3s 56us/sample - loss: 0.3627 - accuracy: 0.8729 - val_loss: 0.3703 - val_accuracy: 0.8704\n",
      "Epoch 8/30\n",
      "55000/55000 [==============================] - 3s 56us/sample - loss: 0.3518 - accuracy: 0.8749 - val_loss: 0.3659 - val_accuracy: 0.8704\n",
      "Epoch 9/30\n",
      "55000/55000 [==============================] - 3s 56us/sample - loss: 0.3421 - accuracy: 0.8772 - val_loss: 0.3441 - val_accuracy: 0.8782\n",
      "Epoch 10/30\n",
      "55000/55000 [==============================] - 3s 58us/sample - loss: 0.3327 - accuracy: 0.8815 - val_loss: 0.3508 - val_accuracy: 0.8784\n",
      "Epoch 11/30\n",
      "55000/55000 [==============================] - 3s 61us/sample - loss: 0.3241 - accuracy: 0.8836 - val_loss: 0.3368 - val_accuracy: 0.8794\n",
      "Epoch 12/30\n",
      "55000/55000 [==============================] - 3s 58us/sample - loss: 0.3160 - accuracy: 0.8869 - val_loss: 0.3313 - val_accuracy: 0.8844\n",
      "Epoch 13/30\n",
      "55000/55000 [==============================] - 3s 56us/sample - loss: 0.3074 - accuracy: 0.8899 - val_loss: 0.3332 - val_accuracy: 0.8820\n",
      "Epoch 14/30\n",
      "55000/55000 [==============================] - 3s 56us/sample - loss: 0.3018 - accuracy: 0.8923 - val_loss: 0.3239 - val_accuracy: 0.8870\n",
      "Epoch 15/30\n",
      "55000/55000 [==============================] - 3s 56us/sample - loss: 0.2953 - accuracy: 0.8937 - val_loss: 0.3167 - val_accuracy: 0.8886\n",
      "Epoch 16/30\n",
      "55000/55000 [==============================] - 3s 56us/sample - loss: 0.2898 - accuracy: 0.8963 - val_loss: 0.3247 - val_accuracy: 0.8868\n",
      "Epoch 17/30\n",
      "55000/55000 [==============================] - 3s 56us/sample - loss: 0.2834 - accuracy: 0.8985 - val_loss: 0.3173 - val_accuracy: 0.8916\n",
      "Epoch 18/30\n",
      "55000/55000 [==============================] - 3s 56us/sample - loss: 0.2783 - accuracy: 0.8998 - val_loss: 0.3096 - val_accuracy: 0.8908\n",
      "Epoch 19/30\n",
      "55000/55000 [==============================] - 3s 58us/sample - loss: 0.2729 - accuracy: 0.9015 - val_loss: 0.3179 - val_accuracy: 0.8846\n",
      "Epoch 20/30\n",
      "55000/55000 [==============================] - 3s 58us/sample - loss: 0.2681 - accuracy: 0.9039 - val_loss: 0.3215 - val_accuracy: 0.8836\n",
      "Epoch 21/30\n",
      "55000/55000 [==============================] - 3s 58us/sample - loss: 0.2634 - accuracy: 0.9042 - val_loss: 0.2993 - val_accuracy: 0.8948\n",
      "Epoch 22/30\n",
      "55000/55000 [==============================] - 3s 57us/sample - loss: 0.2575 - accuracy: 0.9073 - val_loss: 0.3099 - val_accuracy: 0.8878\n",
      "Epoch 23/30\n",
      "55000/55000 [==============================] - 3s 57us/sample - loss: 0.2538 - accuracy: 0.9089 - val_loss: 0.2999 - val_accuracy: 0.8906\n",
      "Epoch 24/30\n",
      "55000/55000 [==============================] - 3s 56us/sample - loss: 0.2492 - accuracy: 0.9107 - val_loss: 0.3109 - val_accuracy: 0.8868\n",
      "Epoch 25/30\n",
      "55000/55000 [==============================] - 3s 57us/sample - loss: 0.2452 - accuracy: 0.9131 - val_loss: 0.3071 - val_accuracy: 0.8914\n",
      "Epoch 26/30\n",
      "55000/55000 [==============================] - 3s 57us/sample - loss: 0.2408 - accuracy: 0.9142 - val_loss: 0.3257 - val_accuracy: 0.8854\n",
      "Epoch 27/30\n",
      "55000/55000 [==============================] - 3s 58us/sample - loss: 0.2368 - accuracy: 0.9151 - val_loss: 0.3133 - val_accuracy: 0.8866\n",
      "Epoch 28/30\n",
      "55000/55000 [==============================] - 3s 57us/sample - loss: 0.2322 - accuracy: 0.9173 - val_loss: 0.2934 - val_accuracy: 0.8954\n",
      "Epoch 29/30\n",
      "55000/55000 [==============================] - 3s 56us/sample - loss: 0.2287 - accuracy: 0.9188 - val_loss: 0.2989 - val_accuracy: 0.8934\n",
      "Epoch 30/30\n",
      "55000/55000 [==============================] - 3s 57us/sample - loss: 0.2256 - accuracy: 0.9193 - val_loss: 0.3030 - val_accuracy: 0.8902\n"
     ]
    }
   ],
   "source": [
    "history = model.fit(X_train, y_train, epochs=30,\n",
    "                    validation_data=(X_valid, y_valid))"
   ]
  },
  {
   "cell_type": "code",
   "execution_count": 113,
   "metadata": {},
   "outputs": [
    {
     "data": {
      "text/plain": [
       "{'batch_size': 32,\n",
       " 'epochs': 30,\n",
       " 'steps': 1719,\n",
       " 'samples': 55000,\n",
       " 'verbose': 0,\n",
       " 'do_validation': True,\n",
       " 'metrics': ['loss', 'accuracy', 'val_loss', 'val_accuracy']}"
      ]
     },
     "execution_count": 113,
     "metadata": {},
     "output_type": "execute_result"
    }
   ],
   "source": [
    "history.params"
   ]
  },
  {
   "cell_type": "code",
   "execution_count": 114,
   "metadata": {},
   "outputs": [
    {
     "name": "stdout",
     "output_type": "stream",
     "text": [
      "[0, 1, 2, 3, 4, 5, 6, 7, 8, 9, 10, 11, 12, 13, 14, 15, 16, 17, 18, 19, 20, 21, 22, 23, 24, 25, 26, 27, 28, 29]\n"
     ]
    }
   ],
   "source": [
    "print(history.epoch)"
   ]
  },
  {
   "cell_type": "code",
   "execution_count": 115,
   "metadata": {},
   "outputs": [
    {
     "data": {
      "text/plain": [
       "dict_keys(['loss', 'accuracy', 'val_loss', 'val_accuracy'])"
      ]
     },
     "execution_count": 115,
     "metadata": {},
     "output_type": "execute_result"
    }
   ],
   "source": [
    "history.history.keys()"
   ]
  },
  {
   "cell_type": "code",
   "execution_count": 116,
   "metadata": {},
   "outputs": [
    {
     "name": "stdout",
     "output_type": "stream",
     "text": [
      "Saving figure keras_learning_curves_plot\n"
     ]
    },
    {
     "data": {
      "image/png": "[encoded data removed]",
      "text/plain": [
       "<Figure size 576x360 with 1 Axes>"
      ]
     },
     "metadata": {
      "needs_background": "light"
     },
     "output_type": "display_data"
    }
   ],
   "source": [
    "import pandas as pd\n",
    "\n",
    "pd.DataFrame(history.history).plot(figsize=(8, 5))\n",
    "plt.grid(True)\n",
    "plt.gca().set_ylim(0, 1)\n",
    "save_fig(\"keras_learning_curves_plot\")\n",
    "plt.show()"
   ]
  },
  {
   "cell_type": "code",
   "execution_count": 117,
   "metadata": {},
   "outputs": [
    {
     "name": "stdout",
     "output_type": "stream",
     "text": [
      "10000/10000 [==============================] - 0s 40us/sample - loss: 0.3366 - accuracy: 0.8783\n"
     ]
    },
    {
     "data": {
      "text/plain": [
       "[0.3366130582332611, 0.8783]"
      ]
     },
     "execution_count": 117,
     "metadata": {},
     "output_type": "execute_result"
    }
   ],
   "source": [
    "model.evaluate(X_test, y_test)"
   ]
  },
  {
   "cell_type": "code",
   "execution_count": 118,
   "metadata": {},
   "outputs": [
    {
     "data": {
      "text/plain": [
       "array([[0.  , 0.  , 0.  , 0.  , 0.  , 0.  , 0.  , 0.01, 0.  , 0.98],\n",
       "       [0.  , 0.  , 0.99, 0.  , 0.01, 0.  , 0.  , 0.  , 0.  , 0.  ],\n",
       "       [0.  , 1.  , 0.  , 0.  , 0.  , 0.  , 0.  , 0.  , 0.  , 0.  ]],\n",
       "      dtype=float32)"
      ]
     },
     "execution_count": 118,
     "metadata": {},
     "output_type": "execute_result"
    }
   ],
   "source": [
    "X_new = X_test[:3]\n",
    "y_proba = model.predict(X_new)\n",
    "y_proba.round(2)"
   ]
  },
  {
   "cell_type": "code",
   "execution_count": 119,
   "metadata": {},
   "outputs": [
    {
     "data": {
      "text/plain": [
       "array([9, 2, 1], dtype=int64)"
      ]
     },
     "execution_count": 119,
     "metadata": {},
     "output_type": "execute_result"
    }
   ],
   "source": [
    "y_pred = model.predict_classes(X_new)\n",
    "y_pred"
   ]
  },
  {
   "cell_type": "code",
   "execution_count": 120,
   "metadata": {},
   "outputs": [
    {
     "data": {
      "text/plain": [
       "array(['Ankle boot', 'Pullover', 'Trouser'], dtype='<U11')"
      ]
     },
     "execution_count": 120,
     "metadata": {},
     "output_type": "execute_result"
    }
   ],
   "source": [
    "np.array(class_names)[y_pred]"
   ]
  },
  {
   "cell_type": "code",
   "execution_count": 121,
   "metadata": {},
   "outputs": [
    {
     "data": {
      "text/plain": [
       "array([9, 2, 1], dtype=uint8)"
      ]
     },
     "execution_count": 121,
     "metadata": {},
     "output_type": "execute_result"
    }
   ],
   "source": [
    "y_new = y_test[:3]\n",
    "y_new"
   ]
  },
  {
   "cell_type": "code",
   "execution_count": 122,
   "metadata": {},
   "outputs": [
    {
     "name": "stdout",
     "output_type": "stream",
     "text": [
      "Saving figure fashion_mnist_images_plot\n"
     ]
    },
    {
     "data": {
      "image/png": "[encoded data removed]",
      "text/plain": [
       "<Figure size 518.4x172.8 with 3 Axes>"
      ]
     },
     "metadata": {
      "needs_background": "light"
     },
     "output_type": "display_data"
    }
   ],
   "source": [
    "plt.figure(figsize=(7.2, 2.4))\n",
    "for index, image in enumerate(X_new):\n",
    "    plt.subplot(1, 3, index + 1)\n",
    "    plt.imshow(image, cmap=\"binary\", interpolation=\"nearest\")\n",
    "    plt.axis('off')\n",
    "    plt.title(class_names[y_test[index]], fontsize=12)\n",
    "plt.subplots_adjust(wspace=0.2, hspace=0.5)\n",
    "save_fig('fashion_mnist_images_plot', tight_layout=False)\n",
    "plt.show()"
   ]
  },
  {
   "cell_type": "markdown",
   "metadata": {},
   "source": [
    "# Regression MLP"
   ]
  },
  {
   "cell_type": "markdown",
   "metadata": {},
   "source": [
    "Let's load, split and scale the California housing dataset (the original one, not the modified one as in chapter 2):"
   ]
  },
  {
   "cell_type": "code",
   "execution_count": 123,
   "metadata": {},
   "outputs": [],
   "source": [
    "from sklearn.datasets import fetch_california_housing\n",
    "from sklearn.model_selection import train_test_split\n",
    "from sklearn.preprocessing import StandardScaler\n",
    "\n",
    "housing = fetch_california_housing()\n",
    "\n",
    "X_train_full, X_test, y_train_full, y_test = train_test_split(housing.data, housing.target, random_state=42)\n",
    "X_train, X_valid, y_train, y_valid = train_test_split(X_train_full, y_train_full, random_state=42)\n",
    "\n",
    "scaler = StandardScaler()\n",
    "X_train = scaler.fit_transform(X_train)\n",
    "X_valid = scaler.transform(X_valid)\n",
    "X_test = scaler.transform(X_test)"
   ]
  },
  {
   "cell_type": "code",
   "execution_count": 124,
   "metadata": {},
   "outputs": [],
   "source": [
    "np.random.seed(42)\n",
    "tf.random.set_seed(42)"
   ]
  },
  {
   "cell_type": "code",
   "execution_count": 125,
   "metadata": {},
   "outputs": [
    {
     "name": "stdout",
     "output_type": "stream",
     "text": [
      "Train on 11610 samples, validate on 3870 samples\n",
      "Epoch 1/20\n",
      "11610/11610 [==============================] - 1s 70us/sample - loss: 1.6205 - val_loss: 2.0374\n",
      "Epoch 2/20\n",
      "11610/11610 [==============================] - 1s 55us/sample - loss: 0.7162 - val_loss: 0.6571\n",
      "Epoch 3/20\n",
      "11610/11610 [==============================] - 1s 56us/sample - loss: 0.6356 - val_loss: 0.5996\n",
      "Epoch 4/20\n",
      "11610/11610 [==============================] - 1s 53us/sample - loss: 0.5989 - val_loss: 0.5662\n",
      "Epoch 5/20\n",
      "11610/11610 [==============================] - 1s 54us/sample - loss: 0.5713 - val_loss: 0.5489\n",
      "Epoch 6/20\n",
      "11610/11610 [==============================] - 1s 55us/sample - loss: 0.5491 - val_loss: 0.5204\n",
      "Epoch 7/20\n",
      "11610/11610 [==============================] - 1s 53us/sample - loss: 0.5301 - val_loss: 0.5018\n",
      "Epoch 8/20\n",
      "11610/11610 [==============================] - 1s 53us/sample - loss: 0.5142 - val_loss: 0.4815\n",
      "Epoch 9/20\n",
      "11610/11610 [==============================] - 1s 53us/sample - loss: 0.5004 - val_loss: 0.4695\n",
      "Epoch 10/20\n",
      "11610/11610 [==============================] - 1s 53us/sample - loss: 0.4883 - val_loss: 0.4605\n",
      "Epoch 11/20\n",
      "11610/11610 [==============================] - 1s 53us/sample - loss: 0.4786 - val_loss: 0.4495\n",
      "Epoch 12/20\n",
      "11610/11610 [==============================] - 1s 53us/sample - loss: 0.4697 - val_loss: 0.4382\n",
      "Epoch 13/20\n",
      "11610/11610 [==============================] - 1s 53us/sample - loss: 0.4621 - val_loss: 0.4309\n",
      "Epoch 14/20\n",
      "11610/11610 [==============================] - 1s 53us/sample - loss: 0.4556 - val_loss: 0.4247\n",
      "Epoch 15/20\n",
      "11610/11610 [==============================] - 1s 53us/sample - loss: 0.4497 - val_loss: 0.4200\n",
      "Epoch 16/20\n",
      "11610/11610 [==============================] - 1s 53us/sample - loss: 0.4443 - val_loss: 0.4149\n",
      "Epoch 17/20\n",
      "11610/11610 [==============================] - 1s 53us/sample - loss: 0.4397 - val_loss: 0.4108\n",
      "Epoch 18/20\n",
      "11610/11610 [==============================] - 1s 53us/sample - loss: 0.4354 - val_loss: 0.4059\n",
      "Epoch 19/20\n",
      "11610/11610 [==============================] - 1s 53us/sample - loss: 0.4315 - val_loss: 0.4003\n",
      "Epoch 20/20\n",
      "11610/11610 [==============================] - 1s 54us/sample - loss: 0.4281 - val_loss: 0.3981\n",
      "5160/5160 [==============================] - 0s 27us/sample - loss: 0.4218\n"
     ]
    }
   ],
   "source": [
    "model = keras.models.Sequential([\n",
    "    keras.layers.Dense(30, activation=\"relu\", input_shape=X_train.shape[1:]),\n",
    "    keras.layers.Dense(1)\n",
    "])\n",
    "model.compile(loss=\"mean_squared_error\", optimizer=keras.optimizers.SGD(lr=1e-3))\n",
    "history = model.fit(X_train, y_train, epochs=20, validation_data=(X_valid, y_valid))\n",
    "mse_test = model.evaluate(X_test, y_test)\n",
    "X_new = X_test[:3]\n",
    "y_pred = model.predict(X_new)"
   ]
  },
  {
   "cell_type": "code",
   "execution_count": 126,
   "metadata": {},
   "outputs": [
    {
     "data": {
      "image/png": "[encoded data removed]",
      "text/plain": [
       "<Figure size 432x288 with 1 Axes>"
      ]
     },
     "metadata": {
      "needs_background": "light"
     },
     "output_type": "display_data"
    }
   ],
   "source": [
    "plt.plot(pd.DataFrame(history.history))\n",
    "plt.grid(True)\n",
    "plt.gca().set_ylim(0, 1)\n",
    "plt.show()"
   ]
  },
  {
   "cell_type": "code",
   "execution_count": 127,
   "metadata": {},
   "outputs": [
    {
     "data": {
      "text/plain": [
       "array([[0.37310085],\n",
       "       [1.679079  ],\n",
       "       [3.0817142 ]], dtype=float32)"
      ]
     },
     "execution_count": 127,
     "metadata": {},
     "output_type": "execute_result"
    }
   ],
   "source": [
    "y_pred"
   ]
  },
  {
   "cell_type": "markdown",
   "metadata": {},
   "source": [
    "# Functional API"
   ]
  },
  {
   "cell_type": "markdown",
   "metadata": {},
   "source": [
    "Not all neural network models are simply sequential. Some may have complex topologies. Some may have multiple inputs and/or multiple outputs. For example, a Wide & Deep neural network (see [paper](https://ai.google/research/pubs/pub45413)) connects all or part of the inputs directly to the output layer."
   ]
  },
  {
   "cell_type": "code",
   "execution_count": 128,
   "metadata": {},
   "outputs": [],
   "source": [
    "np.random.seed(42)\n",
    "tf.random.set_seed(42)"
   ]
  },
  {
   "cell_type": "code",
   "execution_count": 129,
   "metadata": {},
   "outputs": [],
   "source": [
    "input_ = keras.layers.Input(shape=X_train.shape[1:])\n",
    "hidden1 = keras.layers.Dense(30, activation=\"relu\")(input_)\n",
    "hidden2 = keras.layers.Dense(30, activation=\"relu\")(hidden1)\n",
    "concat = keras.layers.concatenate([input_, hidden2])\n",
    "output = keras.layers.Dense(1)(concat)\n",
    "model = keras.models.Model(inputs=[input_], outputs=[output])"
   ]
  },
  {
   "cell_type": "code",
   "execution_count": 130,
   "metadata": {},
   "outputs": [
    {
     "name": "stdout",
     "output_type": "stream",
     "text": [
      "Model: \"model\"\n",
      "__________________________________________________________________________________________________\n",
      "Layer (type)                    Output Shape         Param #     Connected to                     \n",
      "==================================================================================================\n",
      "input_1 (InputLayer)            [(None, 8)]          0                                            \n",
      "__________________________________________________________________________________________________\n",
      "dense_5 (Dense)                 (None, 30)           270         input_1[0][0]                    \n",
      "__________________________________________________________________________________________________\n",
      "dense_6 (Dense)                 (None, 30)           930         dense_5[0][0]                    \n",
      "__________________________________________________________________________________________________\n",
      "concatenate (Concatenate)       (None, 38)           0           input_1[0][0]                    \n",
      "                                                                 dense_6[0][0]                    \n",
      "__________________________________________________________________________________________________\n",
      "dense_7 (Dense)                 (None, 1)            39          concatenate[0][0]                \n",
      "==================================================================================================\n",
      "Total params: 1,239\n",
      "Trainable params: 1,239\n",
      "Non-trainable params: 0\n",
      "__________________________________________________________________________________________________\n"
     ]
    }
   ],
   "source": [
    "model.summary()"
   ]
  },
  {
   "cell_type": "code",
   "execution_count": 131,
   "metadata": {},
   "outputs": [
    {
     "name": "stdout",
     "output_type": "stream",
     "text": [
      "Train on 11610 samples, validate on 3870 samples\n",
      "Epoch 1/20\n",
      "11610/11610 [==============================] - 1s 76us/sample - loss: 1.2390 - val_loss: 0.6566\n",
      "Epoch 2/20\n",
      "11610/11610 [==============================] - 1s 60us/sample - loss: 0.6312 - val_loss: 0.6734\n",
      "Epoch 3/20\n",
      "11610/11610 [==============================] - 1s 59us/sample - loss: 0.5886 - val_loss: 0.5574\n",
      "Epoch 4/20\n",
      "11610/11610 [==============================] - 1s 58us/sample - loss: 0.5595 - val_loss: 0.5235\n",
      "Epoch 5/20\n",
      "11610/11610 [==============================] - 1s 58us/sample - loss: 0.5361 - val_loss: 0.5011\n",
      "Epoch 6/20\n",
      "11610/11610 [==============================] - 1s 60us/sample - loss: 0.5178 - val_loss: 0.5065\n",
      "Epoch 7/20\n",
      "11610/11610 [==============================] - 1s 59us/sample - loss: 0.5016 - val_loss: 0.4699\n",
      "Epoch 8/20\n",
      "11610/11610 [==============================] - 1s 58us/sample - loss: 0.4888 - val_loss: 0.4745\n",
      "Epoch 9/20\n",
      "11610/11610 [==============================] - 1s 60us/sample - loss: 0.4772 - val_loss: 0.4425\n",
      "Epoch 10/20\n",
      "11610/11610 [==============================] - 1s 60us/sample - loss: 0.4673 - val_loss: 0.4384\n",
      "Epoch 11/20\n",
      "11610/11610 [==============================] - 1s 58us/sample - loss: 0.4586 - val_loss: 0.4533\n",
      "Epoch 12/20\n",
      "11610/11610 [==============================] - 1s 58us/sample - loss: 0.4504 - val_loss: 0.4179\n",
      "Epoch 13/20\n",
      "11610/11610 [==============================] - 1s 58us/sample - loss: 0.4435 - val_loss: 0.4137\n",
      "Epoch 14/20\n",
      "11610/11610 [==============================] - 1s 58us/sample - loss: 0.4376 - val_loss: 0.4062\n",
      "Epoch 15/20\n",
      "11610/11610 [==============================] - 1s 60us/sample - loss: 0.4318 - val_loss: 0.4541\n",
      "Epoch 16/20\n",
      "11610/11610 [==============================] - 1s 58us/sample - loss: 0.4266 - val_loss: 0.3952\n",
      "Epoch 17/20\n",
      "11610/11610 [==============================] - 1s 58us/sample - loss: 0.4221 - val_loss: 0.3910\n",
      "Epoch 18/20\n",
      "11610/11610 [==============================] - 1s 58us/sample - loss: 0.4173 - val_loss: 0.4205\n",
      "Epoch 19/20\n",
      "11610/11610 [==============================] - 1s 58us/sample - loss: 0.4132 - val_loss: 0.3830\n",
      "Epoch 20/20\n",
      "11610/11610 [==============================] - 1s 58us/sample - loss: 0.4096 - val_loss: 0.3923\n",
      "5160/5160 [==============================] - 0s 29us/sample - loss: 0.4042\n"
     ]
    }
   ],
   "source": [
    "model.compile(loss=\"mean_squared_error\", optimizer=keras.optimizers.SGD(lr=1e-3))\n",
    "history = model.fit(X_train, y_train, epochs=20,\n",
    "                    validation_data=(X_valid, y_valid))\n",
    "mse_test = model.evaluate(X_test, y_test)\n",
    "y_pred = model.predict(X_new)"
   ]
  },
  {
   "cell_type": "markdown",
   "metadata": {},
   "source": [
    "What if you want to send different subsets of input features through the wide or deep paths? We will send 5 features (features 0 to 4), and 6 through the deep path (features 2 to 7). Note that 3 features will go through both (features 2, 3 and 4)."
   ]
  },
  {
   "cell_type": "code",
   "execution_count": 132,
   "metadata": {},
   "outputs": [],
   "source": [
    "np.random.seed(42)\n",
    "tf.random.set_seed(42)"
   ]
  },
  {
   "cell_type": "code",
   "execution_count": 133,
   "metadata": {},
   "outputs": [],
   "source": [
    "input_A = keras.layers.Input(shape=[5], name=\"wide_input\")\n",
    "input_B = keras.layers.Input(shape=[6], name=\"deep_input\")\n",
    "hidden1 = keras.layers.Dense(30, activation=\"relu\")(input_B)\n",
    "hidden2 = keras.layers.Dense(30, activation=\"relu\")(hidden1)\n",
    "concat = keras.layers.concatenate([input_A, hidden2])\n",
    "output = keras.layers.Dense(1, name=\"output\")(concat)\n",
    "model = keras.models.Model(inputs=[input_A, input_B], outputs=[output])"
   ]
  },
  {
   "cell_type": "code",
   "execution_count": 134,
   "metadata": {},
   "outputs": [
    {
     "name": "stdout",
     "output_type": "stream",
     "text": [
      "Train on 11610 samples, validate on 3870 samples\n",
      "Epoch 1/20\n",
      "11610/11610 [==============================] - 1s 76us/sample - loss: 1.8127 - val_loss: 2.1165\n",
      "Epoch 2/20\n",
      "11610/11610 [==============================] - 1s 64us/sample - loss: 0.6852 - val_loss: 0.6178\n",
      "Epoch 3/20\n",
      "11610/11610 [==============================] - 1s 62us/sample - loss: 0.5965 - val_loss: 0.5600\n",
      "Epoch 4/20\n",
      "11610/11610 [==============================] - 1s 62us/sample - loss: 0.5587 - val_loss: 0.5269\n",
      "Epoch 5/20\n",
      "11610/11610 [==============================] - 1s 61us/sample - loss: 0.5321 - val_loss: 0.5185\n",
      "Epoch 6/20\n",
      "11610/11610 [==============================] - 1s 61us/sample - loss: 0.5129 - val_loss: 0.4803\n",
      "Epoch 7/20\n",
      "11610/11610 [==============================] - 1s 61us/sample - loss: 0.4959 - val_loss: 0.4689\n",
      "Epoch 8/20\n",
      "11610/11610 [==============================] - 1s 62us/sample - loss: 0.4837 - val_loss: 0.4498\n",
      "Epoch 9/20\n",
      "11610/11610 [==============================] - 1s 61us/sample - loss: 0.4734 - val_loss: 0.4387\n",
      "Epoch 10/20\n",
      "11610/11610 [==============================] - 1s 61us/sample - loss: 0.4646 - val_loss: 0.4306\n",
      "Epoch 11/20\n",
      "11610/11610 [==============================] - 1s 61us/sample - loss: 0.4571 - val_loss: 0.4262\n",
      "Epoch 12/20\n",
      "11610/11610 [==============================] - 1s 61us/sample - loss: 0.4507 - val_loss: 0.4173\n",
      "Epoch 13/20\n",
      "11610/11610 [==============================] - 1s 61us/sample - loss: 0.4456 - val_loss: 0.4124\n",
      "Epoch 14/20\n",
      "11610/11610 [==============================] - 1s 61us/sample - loss: 0.4422 - val_loss: 0.4084\n",
      "Epoch 15/20\n",
      "11610/11610 [==============================] - 1s 63us/sample - loss: 0.4386 - val_loss: 0.4351\n",
      "Epoch 16/20\n",
      "11610/11610 [==============================] - 1s 61us/sample - loss: 0.4361 - val_loss: 0.4017\n",
      "Epoch 17/20\n",
      "11610/11610 [==============================] - 1s 61us/sample - loss: 0.4326 - val_loss: 0.3990\n",
      "Epoch 18/20\n",
      "11610/11610 [==============================] - 1s 64us/sample - loss: 0.4296 - val_loss: 0.4148\n",
      "Epoch 19/20\n",
      "11610/11610 [==============================] - 1s 62us/sample - loss: 0.4278 - val_loss: 0.3957\n",
      "Epoch 20/20\n",
      "11610/11610 [==============================] - 1s 61us/sample - loss: 0.4259 - val_loss: 0.3976\n",
      "5160/5160 [==============================] - 0s 32us/sample - loss: 0.4202\n"
     ]
    }
   ],
   "source": [
    "model.compile(loss=\"mse\", optimizer=keras.optimizers.SGD(lr=1e-3))\n",
    "\n",
    "X_train_A, X_train_B = X_train[:, :5], X_train[:, 2:]\n",
    "X_valid_A, X_valid_B = X_valid[:, :5], X_valid[:, 2:]\n",
    "X_test_A, X_test_B = X_test[:, :5], X_test[:, 2:]\n",
    "X_new_A, X_new_B = X_test_A[:3], X_test_B[:3]\n",
    "\n",
    "history = model.fit((X_train_A, X_train_B), y_train, epochs=20,\n",
    "                    validation_data=((X_valid_A, X_valid_B), y_valid))\n",
    "mse_test = model.evaluate((X_test_A, X_test_B), y_test)\n",
    "y_pred = model.predict((X_new_A, X_new_B))"
   ]
  },
  {
   "cell_type": "markdown",
   "metadata": {},
   "source": [
    "Adding an auxiliary output for regularization:"
   ]
  },
  {
   "cell_type": "code",
   "execution_count": 135,
   "metadata": {},
   "outputs": [],
   "source": [
    "np.random.seed(42)\n",
    "tf.random.set_seed(42)"
   ]
  },
  {
   "cell_type": "code",
   "execution_count": 136,
   "metadata": {},
   "outputs": [],
   "source": [
    "input_A = keras.layers.Input(shape=[5], name=\"wide_input\")\n",
    "input_B = keras.layers.Input(shape=[6], name=\"deep_input\")\n",
    "hidden1 = keras.layers.Dense(30, activation=\"relu\")(input_B)\n",
    "hidden2 = keras.layers.Dense(30, activation=\"relu\")(hidden1)\n",
    "concat = keras.layers.concatenate([input_A, hidden2])\n",
    "output = keras.layers.Dense(1, name=\"main_output\")(concat)\n",
    "aux_output = keras.layers.Dense(1, name=\"aux_output\")(hidden2)\n",
    "model = keras.models.Model(inputs=[input_A, input_B],\n",
    "                           outputs=[output, aux_output])"
   ]
  },
  {
   "cell_type": "code",
   "execution_count": 137,
   "metadata": {},
   "outputs": [],
   "source": [
    "model.compile(loss=[\"mse\", \"mse\"], loss_weights=[0.9, 0.1], optimizer=keras.optimizers.SGD(lr=1e-3))"
   ]
  },
  {
   "cell_type": "code",
   "execution_count": 138,
   "metadata": {},
   "outputs": [
    {
     "name": "stdout",
     "output_type": "stream",
     "text": [
      "Train on 11610 samples, validate on 3870 samples\n",
      "Epoch 1/20\n",
      "11610/11610 [==============================] - 1s 111us/sample - loss: 2.1346 - main_output_loss: 1.9194 - aux_output_loss: 4.0632 - val_loss: 2.9120 - val_main_output_loss: 2.2555 - val_aux_output_loss: 8.8088\n",
      "Epoch 2/20\n",
      "11610/11610 [==============================] - 1s 79us/sample - loss: 0.8954 - main_output_loss: 0.7048 - aux_output_loss: 2.6119 - val_loss: 1.4135 - val_main_output_loss: 0.6348 - val_aux_output_loss: 8.4172\n",
      "Epoch 3/20\n",
      "11610/11610 [==============================] - 1s 79us/sample - loss: 0.7400 - main_output_loss: 0.6077 - aux_output_loss: 1.9305 - val_loss: 1.3594 - val_main_output_loss: 0.5885 - val_aux_output_loss: 8.2925\n",
      "Epoch 4/20\n",
      "11610/11610 [==============================] - 1s 81us/sample - loss: 0.6749 - main_output_loss: 0.5690 - aux_output_loss: 1.6264 - val_loss: 1.2789 - val_main_output_loss: 0.5611 - val_aux_output_loss: 7.7340\n",
      "Epoch 5/20\n",
      "11610/11610 [==============================] - 1s 79us/sample - loss: 0.6351 - main_output_loss: 0.5420 - aux_output_loss: 1.4729 - val_loss: 1.1841 - val_main_output_loss: 0.5656 - val_aux_output_loss: 6.7464\n",
      "Epoch 6/20\n",
      "11610/11610 [==============================] - 1s 79us/sample - loss: 0.6068 - main_output_loss: 0.5213 - aux_output_loss: 1.3763 - val_loss: 1.0614 - val_main_output_loss: 0.5202 - val_aux_output_loss: 5.9282\n",
      "Epoch 7/20\n",
      "11610/11610 [==============================] - 1s 79us/sample - loss: 0.5832 - main_output_loss: 0.5028 - aux_output_loss: 1.3072 - val_loss: 0.9555 - val_main_output_loss: 0.5111 - val_aux_output_loss: 4.9515\n",
      "Epoch 8/20\n",
      "11610/11610 [==============================] - 1s 80us/sample - loss: 0.5651 - main_output_loss: 0.4892 - aux_output_loss: 1.2463 - val_loss: 0.8426 - val_main_output_loss: 0.4713 - val_aux_output_loss: 4.1805\n",
      "Epoch 9/20\n",
      "11610/11610 [==============================] - 1s 80us/sample - loss: 0.5497 - main_output_loss: 0.4772 - aux_output_loss: 1.2017 - val_loss: 0.7632 - val_main_output_loss: 0.4633 - val_aux_output_loss: 3.4589\n",
      "Epoch 10/20\n",
      "11610/11610 [==============================] - 1s 94us/sample - loss: 0.5368 - main_output_loss: 0.4671 - aux_output_loss: 1.1631 - val_loss: 0.6954 - val_main_output_loss: 0.4467 - val_aux_output_loss: 2.9307\n",
      "Epoch 11/20\n",
      "11610/11610 [==============================] - 1s 82us/sample - loss: 0.5257 - main_output_loss: 0.4586 - aux_output_loss: 1.1297 - val_loss: 0.6413 - val_main_output_loss: 0.4292 - val_aux_output_loss: 2.5478\n",
      "Epoch 12/20\n",
      "11610/11610 [==============================] - 1s 80us/sample - loss: 0.5162 - main_output_loss: 0.4516 - aux_output_loss: 1.0989 - val_loss: 0.5950 - val_main_output_loss: 0.4232 - val_aux_output_loss: 2.1396\n",
      "Epoch 13/20\n",
      "11610/11610 [==============================] - 1s 83us/sample - loss: 0.5082 - main_output_loss: 0.4454 - aux_output_loss: 1.0729 - val_loss: 0.5608 - val_main_output_loss: 0.4203 - val_aux_output_loss: 1.8236\n",
      "Epoch 14/20\n",
      "11610/11610 [==============================] - 1s 80us/sample - loss: 0.5022 - main_output_loss: 0.4416 - aux_output_loss: 1.0487 - val_loss: 0.5324 - val_main_output_loss: 0.4142 - val_aux_output_loss: 1.5944\n",
      "Epoch 15/20\n",
      "11610/11610 [==============================] - 1s 82us/sample - loss: 0.4964 - main_output_loss: 0.4376 - aux_output_loss: 1.0240 - val_loss: 0.5206 - val_main_output_loss: 0.4118 - val_aux_output_loss: 1.4985\n",
      "Epoch 16/20\n",
      "11610/11610 [==============================] - 1s 80us/sample - loss: 0.4914 - main_output_loss: 0.4344 - aux_output_loss: 1.0054 - val_loss: 0.4939 - val_main_output_loss: 0.4017 - val_aux_output_loss: 1.3221\n",
      "Epoch 17/20\n",
      "11610/11610 [==============================] - 1s 80us/sample - loss: 0.4865 - main_output_loss: 0.4312 - aux_output_loss: 0.9841 - val_loss: 0.4803 - val_main_output_loss: 0.3993 - val_aux_output_loss: 1.2082\n",
      "Epoch 18/20\n",
      "11610/11610 [==============================] - 1s 80us/sample - loss: 0.4820 - main_output_loss: 0.4281 - aux_output_loss: 0.9663 - val_loss: 0.4820 - val_main_output_loss: 0.4053 - val_aux_output_loss: 1.1710\n",
      "Epoch 19/20\n",
      "11610/11610 [==============================] - 1s 79us/sample - loss: 0.4786 - main_output_loss: 0.4264 - aux_output_loss: 0.9490 - val_loss: 0.4661 - val_main_output_loss: 0.3979 - val_aux_output_loss: 1.0790\n",
      "Epoch 20/20\n",
      "11610/11610 [==============================] - 1s 79us/sample - loss: 0.4753 - main_output_loss: 0.4245 - aux_output_loss: 0.9320 - val_loss: 0.4598 - val_main_output_loss: 0.3968 - val_aux_output_loss: 1.0257\n"
     ]
    }
   ],
   "source": [
    "history = model.fit([X_train_A, X_train_B], [y_train, y_train], epochs=20,\n",
    "                    validation_data=([X_valid_A, X_valid_B], [y_valid, y_valid]))"
   ]
  },
  {
   "cell_type": "code",
   "execution_count": 139,
   "metadata": {},
   "outputs": [
    {
     "name": "stdout",
     "output_type": "stream",
     "text": [
      "5160/5160 [==============================] - 0s 43us/sample - loss: 0.4656 - main_output_loss: 0.4165 - aux_output_loss: 0.9111\n"
     ]
    }
   ],
   "source": [
    "total_loss, main_loss, aux_loss = model.evaluate(\n",
    "    [X_test_A, X_test_B], [y_test, y_test])\n",
    "y_pred_main, y_pred_aux = model.predict([X_new_A, X_new_B])"
   ]
  },
  {
   "cell_type": "markdown",
   "metadata": {},
   "source": [
    "# The subclassing API"
   ]
  },
  {
   "cell_type": "code",
   "execution_count": 140,
   "metadata": {},
   "outputs": [],
   "source": [
    "class WideAndDeepModel(keras.models.Model):\n",
    "    def __init__(self, units=30, activation=\"relu\", **kwargs):\n",
    "        super().__init__(**kwargs)\n",
    "        self.hidden1 = keras.layers.Dense(units, activation=activation)\n",
    "        self.hidden2 = keras.layers.Dense(units, activation=activation)\n",
    "        self.main_output = keras.layers.Dense(1)\n",
    "        self.aux_output = keras.layers.Dense(1)\n",
    "        \n",
    "    def call(self, inputs):\n",
    "        input_A, input_B = inputs\n",
    "        hidden1 = self.hidden1(input_B)\n",
    "        hidden2 = self.hidden2(hidden1)\n",
    "        concat = keras.layers.concatenate([input_A, hidden2])\n",
    "        main_output = self.main_output(concat)\n",
    "        aux_output = self.aux_output(hidden2)\n",
    "        return main_output, aux_output\n",
    "\n",
    "model = WideAndDeepModel(30, activation=\"relu\")"
   ]
  },
  {
   "cell_type": "code",
   "execution_count": 141,
   "metadata": {},
   "outputs": [
    {
     "name": "stdout",
     "output_type": "stream",
     "text": [
      "WARNING:tensorflow:AutoGraph could not transform <bound method WideAndDeepModel.call of <__main__.WideAndDeepModel object at 0x0000015381715308>> and will run it as-is.\n",
      "Please report this to the TensorFlow team. When filing the bug, set the verbosity to 10 (on Linux, `export AUTOGRAPH_VERBOSITY=10`) and attach the full output.\n",
      "Cause: Bad argument number for Name: 3, expecting 4\n",
      "WARNING: AutoGraph could not transform <bound method WideAndDeepModel.call of <__main__.WideAndDeepModel object at 0x0000015381715308>> and will run it as-is.\n",
      "Please report this to the TensorFlow team. When filing the bug, set the verbosity to 10 (on Linux, `export AUTOGRAPH_VERBOSITY=10`) and attach the full output.\n",
      "Cause: Bad argument number for Name: 3, expecting 4\n",
      "Train on 11610 samples, validate on 3870 samples\n",
      "Epoch 1/10\n",
      "11610/11610 [==============================] - 1s 106us/sample - loss: 2.2719 - output_1_loss: 2.1554 - output_2_loss: 3.3117 - val_loss: 4.3377 - val_output_1_loss: 2.7732 - val_output_2_loss: 18.3999\n",
      "Epoch 2/10\n",
      "11610/11610 [==============================] - 1s 83us/sample - loss: 0.9891 - output_1_loss: 0.8653 - output_2_loss: 2.1062 - val_loss: 2.0073 - val_output_1_loss: 0.7581 - val_output_2_loss: 13.2427\n",
      "Epoch 3/10\n",
      "11610/11610 [==============================] - 1s 78us/sample - loss: 0.8320 - output_1_loss: 0.7303 - output_2_loss: 1.7468 - val_loss: 1.7215 - val_output_1_loss: 0.7114 - val_output_2_loss: 10.8051\n",
      "Epoch 4/10\n",
      "11610/11610 [==============================] - 1s 78us/sample - loss: 0.7658 - output_1_loss: 0.6760 - output_2_loss: 1.5726 - val_loss: 1.4708 - val_output_1_loss: 0.6454 - val_output_2_loss: 8.8938\n",
      "Epoch 5/10\n",
      "11610/11610 [==============================] - 1s 78us/sample - loss: 0.7223 - output_1_loss: 0.6394 - output_2_loss: 1.4683 - val_loss: 1.3057 - val_output_1_loss: 0.6852 - val_output_2_loss: 6.8846\n",
      "Epoch 6/10\n",
      "11610/11610 [==============================] - 1s 79us/sample - loss: 0.6909 - output_1_loss: 0.6132 - output_2_loss: 1.3901 - val_loss: 1.1005 - val_output_1_loss: 0.5915 - val_output_2_loss: 5.6773\n",
      "Epoch 7/10\n",
      "11610/11610 [==============================] - 1s 79us/sample - loss: 0.6636 - output_1_loss: 0.5894 - output_2_loss: 1.3330 - val_loss: 0.9605 - val_output_1_loss: 0.5611 - val_output_2_loss: 4.5516\n",
      "Epoch 8/10\n",
      "11610/11610 [==============================] - 1s 80us/sample - loss: 0.6406 - output_1_loss: 0.5691 - output_2_loss: 1.2833 - val_loss: 0.8480 - val_output_1_loss: 0.5263 - val_output_2_loss: 3.7399\n",
      "Epoch 9/10\n",
      "11610/11610 [==============================] - 1s 80us/sample - loss: 0.6199 - output_1_loss: 0.5507 - output_2_loss: 1.2416 - val_loss: 0.7650 - val_output_1_loss: 0.5085 - val_output_2_loss: 3.0718\n",
      "Epoch 10/10\n",
      "11610/11610 [==============================] - 1s 81us/sample - loss: 0.6019 - output_1_loss: 0.5351 - output_2_loss: 1.2026 - val_loss: 0.7004 - val_output_1_loss: 0.4916 - val_output_2_loss: 2.5772\n",
      "5160/5160 [==============================] - 0s 43us/sample - loss: 0.5819 - output_1_loss: 0.5174 - output_2_loss: 1.1749\n"
     ]
    }
   ],
   "source": [
    "model.compile(loss=\"mse\", loss_weights=[0.9, 0.1], optimizer=keras.optimizers.SGD(lr=1e-3))\n",
    "history = model.fit((X_train_A, X_train_B), (y_train, y_train), epochs=10,\n",
    "                    validation_data=((X_valid_A, X_valid_B), (y_valid, y_valid)))\n",
    "total_loss, main_loss, aux_loss = model.evaluate((X_test_A, X_test_B), (y_test, y_test))\n",
    "y_pred_main, y_pred_aux = model.predict((X_new_A, X_new_B))"
   ]
  },
  {
   "cell_type": "code",
   "execution_count": 142,
   "metadata": {},
   "outputs": [],
   "source": [
    "model = WideAndDeepModel(30, activation=\"relu\")"
   ]
  },
  {
   "cell_type": "markdown",
   "metadata": {},
   "source": [
    "# Saving and Restoring"
   ]
  },
  {
   "cell_type": "code",
   "execution_count": 143,
   "metadata": {},
   "outputs": [],
   "source": [
    "np.random.seed(42)\n",
    "tf.random.set_seed(42)"
   ]
  },
  {
   "cell_type": "code",
   "execution_count": 144,
   "metadata": {},
   "outputs": [],
   "source": [
    "model = keras.models.Sequential([\n",
    "    keras.layers.Dense(30, activation=\"relu\", input_shape=[8]),\n",
    "    keras.layers.Dense(30, activation=\"relu\"),\n",
    "    keras.layers.Dense(1)\n",
    "])    "
   ]
  },
  {
   "cell_type": "code",
   "execution_count": 145,
   "metadata": {},
   "outputs": [
    {
     "name": "stdout",
     "output_type": "stream",
     "text": [
      "Train on 11610 samples, validate on 3870 samples\n",
      "Epoch 1/10\n",
      "11610/11610 [==============================] - 1s 72us/sample - loss: 1.8423 - val_loss: 5.2165\n",
      "Epoch 2/10\n",
      "11610/11610 [==============================] - 1s 59us/sample - loss: 0.6876 - val_loss: 0.7732\n",
      "Epoch 3/10\n",
      "11610/11610 [==============================] - 1s 58us/sample - loss: 0.5954 - val_loss: 0.5446\n",
      "Epoch 4/10\n",
      "11610/11610 [==============================] - 1s 59us/sample - loss: 0.5553 - val_loss: 0.5425\n",
      "Epoch 5/10\n",
      "11610/11610 [==============================] - 1s 58us/sample - loss: 0.5268 - val_loss: 0.5539\n",
      "Epoch 6/10\n",
      "11610/11610 [==============================] - 1s 58us/sample - loss: 0.5049 - val_loss: 0.4701\n",
      "Epoch 7/10\n",
      "11610/11610 [==============================] - 1s 59us/sample - loss: 0.4852 - val_loss: 0.4562\n",
      "Epoch 8/10\n",
      "11610/11610 [==============================] - 1s 57us/sample - loss: 0.4706 - val_loss: 0.4452\n",
      "Epoch 9/10\n",
      "11610/11610 [==============================] - 1s 58us/sample - loss: 0.4576 - val_loss: 0.4406\n",
      "Epoch 10/10\n",
      "11610/11610 [==============================] - 1s 59us/sample - loss: 0.4476 - val_loss: 0.4185\n",
      "5160/5160 [==============================] - 0s 29us/sample - loss: 0.4376\n"
     ]
    }
   ],
   "source": [
    "model.compile(loss=\"mse\", optimizer=keras.optimizers.SGD(lr=1e-3))\n",
    "history = model.fit(X_train, y_train, epochs=10, validation_data=(X_valid, y_valid))\n",
    "mse_test = model.evaluate(X_test, y_test)"
   ]
  },
  {
   "cell_type": "code",
   "execution_count": 146,
   "metadata": {},
   "outputs": [],
   "source": [
    "model.save(\"my_keras_model.h5\")"
   ]
  },
  {
   "cell_type": "code",
   "execution_count": 147,
   "metadata": {},
   "outputs": [],
   "source": [
    "model = keras.models.load_model(\"my_keras_model.h5\")"
   ]
  },
  {
   "cell_type": "code",
   "execution_count": 148,
   "metadata": {},
   "outputs": [
    {
     "data": {
      "text/plain": [
       "array([[0.55155903],\n",
       "       [1.6555369 ],\n",
       "       [3.0014236 ]], dtype=float32)"
      ]
     },
     "execution_count": 148,
     "metadata": {},
     "output_type": "execute_result"
    }
   ],
   "source": [
    "model.predict(X_new)"
   ]
  },
  {
   "cell_type": "code",
   "execution_count": 149,
   "metadata": {},
   "outputs": [
    {
     "name": "stdout",
     "output_type": "stream",
     "text": [
      "C:\\Users\\joshu\\OneDrive - Georgia Institute of Technology\\Hands-On Machine Learning with Scikit-Learn, Keras & Tensorflow 2nd\\Chapter 10 - Introduction to Artificial Neural Networks with Keras\n"
     ]
    }
   ],
   "source": [
    "a = os.getcwd()\n",
    "print(a)"
   ]
  },
  {
   "cell_type": "code",
   "execution_count": 150,
   "metadata": {},
   "outputs": [
    {
     "ename": "NotFoundError",
     "evalue": "Failed to create a directory: my_keras_weights.ckpt_temp_472eed0fb3404219a808e30496d2a614; No such file or directory [Op:SaveV2]",
     "output_type": "error",
     "traceback": [
      "\u001b[1;31m---------------------------------------------------------------------------\u001b[0m",
      "\u001b[1;31mNotFoundError\u001b[0m                             Traceback (most recent call last)",
      "\u001b[1;32m<ipython-input-150-00fe1af8f315>\u001b[0m in \u001b[0;36m<module>\u001b[1;34m\u001b[0m\n\u001b[0;32m      2\u001b[0m \u001b[1;32mimport\u001b[0m \u001b[0msys\u001b[0m\u001b[1;33m\u001b[0m\u001b[1;33m\u001b[0m\u001b[0m\n\u001b[0;32m      3\u001b[0m \u001b[1;33m\u001b[0m\u001b[0m\n\u001b[1;32m----> 4\u001b[1;33m \u001b[0mmodel\u001b[0m\u001b[1;33m.\u001b[0m\u001b[0msave_weights\u001b[0m\u001b[1;33m(\u001b[0m\u001b[1;34m\"my_keras_weights.ckpt\"\u001b[0m\u001b[1;33m)\u001b[0m\u001b[1;33m\u001b[0m\u001b[1;33m\u001b[0m\u001b[0m\n\u001b[0m",
      "\u001b[1;32m~\\.conda\\envs\\tf2\\lib\\site-packages\\tensorflow_core\\python\\keras\\engine\\network.py\u001b[0m in \u001b[0;36msave_weights\u001b[1;34m(self, filepath, overwrite, save_format)\u001b[0m\n\u001b[0;32m   1121\u001b[0m              'saved.\\n\\nConsider using a TensorFlow optimizer from `tf.train`.')\n\u001b[0;32m   1122\u001b[0m             % (optimizer,))\n\u001b[1;32m-> 1123\u001b[1;33m       \u001b[0mself\u001b[0m\u001b[1;33m.\u001b[0m\u001b[0m_trackable_saver\u001b[0m\u001b[1;33m.\u001b[0m\u001b[0msave\u001b[0m\u001b[1;33m(\u001b[0m\u001b[0mfilepath\u001b[0m\u001b[1;33m,\u001b[0m \u001b[0msession\u001b[0m\u001b[1;33m=\u001b[0m\u001b[0msession\u001b[0m\u001b[1;33m)\u001b[0m\u001b[1;33m\u001b[0m\u001b[1;33m\u001b[0m\u001b[0m\n\u001b[0m\u001b[0;32m   1124\u001b[0m       \u001b[1;31m# Record this checkpoint so it's visible from tf.train.latest_checkpoint.\u001b[0m\u001b[1;33m\u001b[0m\u001b[1;33m\u001b[0m\u001b[1;33m\u001b[0m\u001b[0m\n\u001b[0;32m   1125\u001b[0m       checkpoint_management.update_checkpoint_state_internal(\n",
      "\u001b[1;32m~\\.conda\\envs\\tf2\\lib\\site-packages\\tensorflow_core\\python\\training\\tracking\\util.py\u001b[0m in \u001b[0;36msave\u001b[1;34m(self, file_prefix, checkpoint_number, session)\u001b[0m\n\u001b[0;32m   1166\u001b[0m     \u001b[0mfile_io\u001b[0m\u001b[1;33m.\u001b[0m\u001b[0mrecursive_create_dir\u001b[0m\u001b[1;33m(\u001b[0m\u001b[0mos\u001b[0m\u001b[1;33m.\u001b[0m\u001b[0mpath\u001b[0m\u001b[1;33m.\u001b[0m\u001b[0mdirname\u001b[0m\u001b[1;33m(\u001b[0m\u001b[0mfile_prefix\u001b[0m\u001b[1;33m)\u001b[0m\u001b[1;33m)\u001b[0m\u001b[1;33m\u001b[0m\u001b[1;33m\u001b[0m\u001b[0m\n\u001b[0;32m   1167\u001b[0m     save_path, new_feed_additions = self._save_cached_when_graph_building(\n\u001b[1;32m-> 1168\u001b[1;33m         file_prefix=file_prefix_tensor, object_graph_tensor=object_graph_tensor)\n\u001b[0m\u001b[0;32m   1169\u001b[0m     \u001b[1;32mif\u001b[0m \u001b[0mnew_feed_additions\u001b[0m\u001b[1;33m:\u001b[0m\u001b[1;33m\u001b[0m\u001b[1;33m\u001b[0m\u001b[0m\n\u001b[0;32m   1170\u001b[0m       \u001b[0mfeed_dict\u001b[0m\u001b[1;33m.\u001b[0m\u001b[0mupdate\u001b[0m\u001b[1;33m(\u001b[0m\u001b[0mnew_feed_additions\u001b[0m\u001b[1;33m)\u001b[0m\u001b[1;33m\u001b[0m\u001b[1;33m\u001b[0m\u001b[0m\n",
      "\u001b[1;32m~\\.conda\\envs\\tf2\\lib\\site-packages\\tensorflow_core\\python\\training\\tracking\\util.py\u001b[0m in \u001b[0;36m_save_cached_when_graph_building\u001b[1;34m(self, file_prefix, object_graph_tensor)\u001b[0m\n\u001b[0;32m   1114\u001b[0m         or context.executing_eagerly() or ops.inside_function()):\n\u001b[0;32m   1115\u001b[0m       \u001b[0msaver\u001b[0m \u001b[1;33m=\u001b[0m \u001b[0mfunctional_saver\u001b[0m\u001b[1;33m.\u001b[0m\u001b[0mMultiDeviceSaver\u001b[0m\u001b[1;33m(\u001b[0m\u001b[0mnamed_saveable_objects\u001b[0m\u001b[1;33m)\u001b[0m\u001b[1;33m\u001b[0m\u001b[1;33m\u001b[0m\u001b[0m\n\u001b[1;32m-> 1116\u001b[1;33m       \u001b[0msave_op\u001b[0m \u001b[1;33m=\u001b[0m \u001b[0msaver\u001b[0m\u001b[1;33m.\u001b[0m\u001b[0msave\u001b[0m\u001b[1;33m(\u001b[0m\u001b[0mfile_prefix\u001b[0m\u001b[1;33m)\u001b[0m\u001b[1;33m\u001b[0m\u001b[1;33m\u001b[0m\u001b[0m\n\u001b[0m\u001b[0;32m   1117\u001b[0m       \u001b[1;32mwith\u001b[0m \u001b[0mops\u001b[0m\u001b[1;33m.\u001b[0m\u001b[0mdevice\u001b[0m\u001b[1;33m(\u001b[0m\u001b[1;34m\"/cpu:0\"\u001b[0m\u001b[1;33m)\u001b[0m\u001b[1;33m:\u001b[0m\u001b[1;33m\u001b[0m\u001b[1;33m\u001b[0m\u001b[0m\n\u001b[0;32m   1118\u001b[0m         \u001b[1;32mwith\u001b[0m \u001b[0mops\u001b[0m\u001b[1;33m.\u001b[0m\u001b[0mcontrol_dependencies\u001b[0m\u001b[1;33m(\u001b[0m\u001b[1;33m[\u001b[0m\u001b[0msave_op\u001b[0m\u001b[1;33m]\u001b[0m\u001b[1;33m)\u001b[0m\u001b[1;33m:\u001b[0m\u001b[1;33m\u001b[0m\u001b[1;33m\u001b[0m\u001b[0m\n",
      "\u001b[1;32m~\\.conda\\envs\\tf2\\lib\\site-packages\\tensorflow_core\\python\\training\\saving\\functional_saver.py\u001b[0m in \u001b[0;36msave\u001b[1;34m(self, file_prefix)\u001b[0m\n\u001b[0;32m    228\u001b[0m         \u001b[1;31m# _SingleDeviceSaver will use the CPU device when necessary, but initial\u001b[0m\u001b[1;33m\u001b[0m\u001b[1;33m\u001b[0m\u001b[1;33m\u001b[0m\u001b[0m\n\u001b[0;32m    229\u001b[0m         \u001b[1;31m# read operations should be placed on the SaveableObject's device.\u001b[0m\u001b[1;33m\u001b[0m\u001b[1;33m\u001b[0m\u001b[1;33m\u001b[0m\u001b[0m\n\u001b[1;32m--> 230\u001b[1;33m         \u001b[0msharded_saves\u001b[0m\u001b[1;33m.\u001b[0m\u001b[0mappend\u001b[0m\u001b[1;33m(\u001b[0m\u001b[0msaver\u001b[0m\u001b[1;33m.\u001b[0m\u001b[0msave\u001b[0m\u001b[1;33m(\u001b[0m\u001b[0mshard_prefix\u001b[0m\u001b[1;33m)\u001b[0m\u001b[1;33m)\u001b[0m\u001b[1;33m\u001b[0m\u001b[1;33m\u001b[0m\u001b[0m\n\u001b[0m\u001b[0;32m    231\u001b[0m \u001b[1;33m\u001b[0m\u001b[0m\n\u001b[0;32m    232\u001b[0m     \u001b[1;32mwith\u001b[0m \u001b[0mops\u001b[0m\u001b[1;33m.\u001b[0m\u001b[0mcontrol_dependencies\u001b[0m\u001b[1;33m(\u001b[0m\u001b[0msharded_saves\u001b[0m\u001b[1;33m)\u001b[0m\u001b[1;33m:\u001b[0m\u001b[1;33m\u001b[0m\u001b[1;33m\u001b[0m\u001b[0m\n",
      "\u001b[1;32m~\\.conda\\envs\\tf2\\lib\\site-packages\\tensorflow_core\\python\\training\\saving\\functional_saver.py\u001b[0m in \u001b[0;36msave\u001b[1;34m(self, file_prefix)\u001b[0m\n\u001b[0;32m     70\u001b[0m         \u001b[0mtensor_slices\u001b[0m\u001b[1;33m.\u001b[0m\u001b[0mappend\u001b[0m\u001b[1;33m(\u001b[0m\u001b[0mspec\u001b[0m\u001b[1;33m.\u001b[0m\u001b[0mslice_spec\u001b[0m\u001b[1;33m)\u001b[0m\u001b[1;33m\u001b[0m\u001b[1;33m\u001b[0m\u001b[0m\n\u001b[0;32m     71\u001b[0m     \u001b[1;32mwith\u001b[0m \u001b[0mops\u001b[0m\u001b[1;33m.\u001b[0m\u001b[0mdevice\u001b[0m\u001b[1;33m(\u001b[0m\u001b[1;34m\"cpu:0\"\u001b[0m\u001b[1;33m)\u001b[0m\u001b[1;33m:\u001b[0m\u001b[1;33m\u001b[0m\u001b[1;33m\u001b[0m\u001b[0m\n\u001b[1;32m---> 72\u001b[1;33m       \u001b[1;32mreturn\u001b[0m \u001b[0mio_ops\u001b[0m\u001b[1;33m.\u001b[0m\u001b[0msave_v2\u001b[0m\u001b[1;33m(\u001b[0m\u001b[0mfile_prefix\u001b[0m\u001b[1;33m,\u001b[0m \u001b[0mtensor_names\u001b[0m\u001b[1;33m,\u001b[0m \u001b[0mtensor_slices\u001b[0m\u001b[1;33m,\u001b[0m \u001b[0mtensors\u001b[0m\u001b[1;33m)\u001b[0m\u001b[1;33m\u001b[0m\u001b[1;33m\u001b[0m\u001b[0m\n\u001b[0m\u001b[0;32m     73\u001b[0m \u001b[1;33m\u001b[0m\u001b[0m\n\u001b[0;32m     74\u001b[0m   \u001b[1;32mdef\u001b[0m \u001b[0mrestore\u001b[0m\u001b[1;33m(\u001b[0m\u001b[0mself\u001b[0m\u001b[1;33m,\u001b[0m \u001b[0mfile_prefix\u001b[0m\u001b[1;33m)\u001b[0m\u001b[1;33m:\u001b[0m\u001b[1;33m\u001b[0m\u001b[1;33m\u001b[0m\u001b[0m\n",
      "\u001b[1;32m~\\.conda\\envs\\tf2\\lib\\site-packages\\tensorflow_core\\python\\ops\\gen_io_ops.py\u001b[0m in \u001b[0;36msave_v2\u001b[1;34m(prefix, tensor_names, shape_and_slices, tensors, name)\u001b[0m\n\u001b[0;32m   1706\u001b[0m         return save_v2_eager_fallback(\n\u001b[0;32m   1707\u001b[0m             \u001b[0mprefix\u001b[0m\u001b[1;33m,\u001b[0m \u001b[0mtensor_names\u001b[0m\u001b[1;33m,\u001b[0m \u001b[0mshape_and_slices\u001b[0m\u001b[1;33m,\u001b[0m \u001b[0mtensors\u001b[0m\u001b[1;33m,\u001b[0m \u001b[0mname\u001b[0m\u001b[1;33m=\u001b[0m\u001b[0mname\u001b[0m\u001b[1;33m,\u001b[0m\u001b[1;33m\u001b[0m\u001b[1;33m\u001b[0m\u001b[0m\n\u001b[1;32m-> 1708\u001b[1;33m             ctx=_ctx)\n\u001b[0m\u001b[0;32m   1709\u001b[0m       \u001b[1;32mexcept\u001b[0m \u001b[0m_core\u001b[0m\u001b[1;33m.\u001b[0m\u001b[0m_SymbolicException\u001b[0m\u001b[1;33m:\u001b[0m\u001b[1;33m\u001b[0m\u001b[1;33m\u001b[0m\u001b[0m\n\u001b[0;32m   1710\u001b[0m         \u001b[1;32mpass\u001b[0m  \u001b[1;31m# Add nodes to the TensorFlow graph.\u001b[0m\u001b[1;33m\u001b[0m\u001b[1;33m\u001b[0m\u001b[0m\n",
      "\u001b[1;32m~\\.conda\\envs\\tf2\\lib\\site-packages\\tensorflow_core\\python\\ops\\gen_io_ops.py\u001b[0m in \u001b[0;36msave_v2_eager_fallback\u001b[1;34m(prefix, tensor_names, shape_and_slices, tensors, name, ctx)\u001b[0m\n\u001b[0;32m   1728\u001b[0m   \u001b[0m_attrs\u001b[0m \u001b[1;33m=\u001b[0m \u001b[1;33m(\u001b[0m\u001b[1;34m\"dtypes\"\u001b[0m\u001b[1;33m,\u001b[0m \u001b[0m_attr_dtypes\u001b[0m\u001b[1;33m)\u001b[0m\u001b[1;33m\u001b[0m\u001b[1;33m\u001b[0m\u001b[0m\n\u001b[0;32m   1729\u001b[0m   _result = _execute.execute(b\"SaveV2\", 0, inputs=_inputs_flat, attrs=_attrs,\n\u001b[1;32m-> 1730\u001b[1;33m                              ctx=ctx, name=name)\n\u001b[0m\u001b[0;32m   1731\u001b[0m   \u001b[0m_result\u001b[0m \u001b[1;33m=\u001b[0m \u001b[1;32mNone\u001b[0m\u001b[1;33m\u001b[0m\u001b[1;33m\u001b[0m\u001b[0m\n\u001b[0;32m   1732\u001b[0m   \u001b[1;32mreturn\u001b[0m \u001b[0m_result\u001b[0m\u001b[1;33m\u001b[0m\u001b[1;33m\u001b[0m\u001b[0m\n",
      "\u001b[1;32m~\\.conda\\envs\\tf2\\lib\\site-packages\\tensorflow_core\\python\\eager\\execute.py\u001b[0m in \u001b[0;36mquick_execute\u001b[1;34m(op_name, num_outputs, inputs, attrs, ctx, name)\u001b[0m\n\u001b[0;32m     65\u001b[0m     \u001b[1;32melse\u001b[0m\u001b[1;33m:\u001b[0m\u001b[1;33m\u001b[0m\u001b[1;33m\u001b[0m\u001b[0m\n\u001b[0;32m     66\u001b[0m       \u001b[0mmessage\u001b[0m \u001b[1;33m=\u001b[0m \u001b[0me\u001b[0m\u001b[1;33m.\u001b[0m\u001b[0mmessage\u001b[0m\u001b[1;33m\u001b[0m\u001b[1;33m\u001b[0m\u001b[0m\n\u001b[1;32m---> 67\u001b[1;33m     \u001b[0msix\u001b[0m\u001b[1;33m.\u001b[0m\u001b[0mraise_from\u001b[0m\u001b[1;33m(\u001b[0m\u001b[0mcore\u001b[0m\u001b[1;33m.\u001b[0m\u001b[0m_status_to_exception\u001b[0m\u001b[1;33m(\u001b[0m\u001b[0me\u001b[0m\u001b[1;33m.\u001b[0m\u001b[0mcode\u001b[0m\u001b[1;33m,\u001b[0m \u001b[0mmessage\u001b[0m\u001b[1;33m)\u001b[0m\u001b[1;33m,\u001b[0m \u001b[1;32mNone\u001b[0m\u001b[1;33m)\u001b[0m\u001b[1;33m\u001b[0m\u001b[1;33m\u001b[0m\u001b[0m\n\u001b[0m\u001b[0;32m     68\u001b[0m   \u001b[1;32mexcept\u001b[0m \u001b[0mTypeError\u001b[0m \u001b[1;32mas\u001b[0m \u001b[0me\u001b[0m\u001b[1;33m:\u001b[0m\u001b[1;33m\u001b[0m\u001b[1;33m\u001b[0m\u001b[0m\n\u001b[0;32m     69\u001b[0m     keras_symbolic_tensors = [\n",
      "\u001b[1;32m~\\.conda\\envs\\tf2\\lib\\site-packages\\six.py\u001b[0m in \u001b[0;36mraise_from\u001b[1;34m(value, from_value)\u001b[0m\n",
      "\u001b[1;31mNotFoundError\u001b[0m: Failed to create a directory: my_keras_weights.ckpt_temp_472eed0fb3404219a808e30496d2a614; No such file or directory [Op:SaveV2]"
     ]
    }
   ],
   "source": [
    "import os\n",
    "import sys\n",
    "\n",
    "model.save_weights(\"my_keras_weights.ckpt\")"
   ]
  },
  {
   "cell_type": "code",
   "execution_count": null,
   "metadata": {},
   "outputs": [],
   "source": [
    "model.load_weights(\"my_keras_weights.ckpt\")"
   ]
  },
  {
   "cell_type": "markdown",
   "metadata": {},
   "source": [
    "# Using Callbacks during Training"
   ]
  },
  {
   "cell_type": "code",
   "execution_count": 151,
   "metadata": {},
   "outputs": [],
   "source": [
    "keras.backend.clear_session()\n",
    "np.random.seed(42)\n",
    "tf.random.set_seed(42)"
   ]
  },
  {
   "cell_type": "code",
   "execution_count": 152,
   "metadata": {},
   "outputs": [],
   "source": [
    "model = keras.models.Sequential([\n",
    "    keras.layers.Dense(30, activation=\"relu\", input_shape=[8]),\n",
    "    keras.layers.Dense(30, activation=\"relu\"),\n",
    "    keras.layers.Dense(1)\n",
    "])    "
   ]
  },
  {
   "cell_type": "code",
   "execution_count": 153,
   "metadata": {},
   "outputs": [
    {
     "name": "stdout",
     "output_type": "stream",
     "text": [
      "Train on 11610 samples, validate on 3870 samples\n",
      "Epoch 1/10\n",
      "11610/11610 [==============================] - 1s 80us/sample - loss: 1.8423 - val_loss: 5.2165\n",
      "Epoch 2/10\n",
      "11610/11610 [==============================] - 1s 62us/sample - loss: 0.6876 - val_loss: 0.7732\n",
      "Epoch 3/10\n",
      "11610/11610 [==============================] - 1s 60us/sample - loss: 0.5954 - val_loss: 0.5446\n",
      "Epoch 4/10\n",
      "11610/11610 [==============================] - 1s 59us/sample - loss: 0.5553 - val_loss: 0.5425\n",
      "Epoch 5/10\n",
      "11610/11610 [==============================] - 1s 58us/sample - loss: 0.5268 - val_loss: 0.5539\n",
      "Epoch 6/10\n",
      "11610/11610 [==============================] - 1s 60us/sample - loss: 0.5049 - val_loss: 0.4701\n",
      "Epoch 7/10\n",
      "11610/11610 [==============================] - 1s 59us/sample - loss: 0.4852 - val_loss: 0.4562\n",
      "Epoch 8/10\n",
      "11610/11610 [==============================] - 1s 61us/sample - loss: 0.4706 - val_loss: 0.4452\n",
      "Epoch 9/10\n",
      "11610/11610 [==============================] - 1s 60us/sample - loss: 0.4576 - val_loss: 0.4406\n",
      "Epoch 10/10\n",
      "11610/11610 [==============================] - 1s 58us/sample - loss: 0.4476 - val_loss: 0.4185\n",
      "5160/5160 [==============================] - 0s 35us/sample - loss: 0.4376\n"
     ]
    }
   ],
   "source": [
    "model.compile(loss=\"mse\", optimizer=keras.optimizers.SGD(lr=1e-3))\n",
    "checkpoint_cb = keras.callbacks.ModelCheckpoint(\"my_keras_model.h5\", save_best_only=True)\n",
    "history = model.fit(X_train, y_train, epochs=10,\n",
    "                    validation_data=(X_valid, y_valid),\n",
    "                    callbacks=[checkpoint_cb])\n",
    "model = keras.models.load_model(\"my_keras_model.h5\") # rollback to best model\n",
    "mse_test = model.evaluate(X_test, y_test)"
   ]
  },
  {
   "cell_type": "code",
   "execution_count": 154,
   "metadata": {},
   "outputs": [
    {
     "name": "stdout",
     "output_type": "stream",
     "text": [
      "Train on 11610 samples, validate on 3870 samples\n",
      "Epoch 1/100\n",
      "11610/11610 [==============================] - 1s 73us/sample - loss: 0.4385 - val_loss: 0.4287\n",
      "Epoch 2/100\n",
      "11610/11610 [==============================] - 1s 57us/sample - loss: 0.4319 - val_loss: 0.4117\n",
      "Epoch 3/100\n",
      "11610/11610 [==============================] - 1s 58us/sample - loss: 0.4252 - val_loss: 0.3975\n",
      "Epoch 4/100\n",
      "11610/11610 [==============================] - 1s 58us/sample - loss: 0.4199 - val_loss: 0.3943\n",
      "Epoch 5/100\n",
      "11610/11610 [==============================] - 1s 57us/sample - loss: 0.4150 - val_loss: 0.3964\n",
      "Epoch 6/100\n",
      "11610/11610 [==============================] - 1s 58us/sample - loss: 0.4110 - val_loss: 0.3907\n",
      "Epoch 7/100\n",
      "11610/11610 [==============================] - 1s 58us/sample - loss: 0.4070 - val_loss: 0.3823\n",
      "Epoch 8/100\n",
      "11610/11610 [==============================] - 1s 58us/sample - loss: 0.4036 - val_loss: 0.3786\n",
      "Epoch 9/100\n",
      "11610/11610 [==============================] - 1s 58us/sample - loss: 0.4003 - val_loss: 0.3739\n",
      "Epoch 10/100\n",
      "11610/11610 [==============================] - 1s 58us/sample - loss: 0.3973 - val_loss: 0.3724\n",
      "Epoch 11/100\n",
      "11610/11610 [==============================] - 1s 58us/sample - loss: 0.3944 - val_loss: 0.3697\n",
      "Epoch 12/100\n",
      "11610/11610 [==============================] - 1s 59us/sample - loss: 0.3916 - val_loss: 0.3670\n",
      "Epoch 13/100\n",
      "11610/11610 [==============================] - 1s 58us/sample - loss: 0.3892 - val_loss: 0.3638\n",
      "Epoch 14/100\n",
      "11610/11610 [==============================] - 1s 58us/sample - loss: 0.3869 - val_loss: 0.3633\n",
      "Epoch 15/100\n",
      "11610/11610 [==============================] - 1s 57us/sample - loss: 0.3845 - val_loss: 0.4051\n",
      "Epoch 16/100\n",
      "11610/11610 [==============================] - 1s 57us/sample - loss: 0.3826 - val_loss: 0.3662\n",
      "Epoch 17/100\n",
      "11610/11610 [==============================] - 1s 57us/sample - loss: 0.3805 - val_loss: 0.3554\n",
      "Epoch 18/100\n",
      "11610/11610 [==============================] - 1s 57us/sample - loss: 0.3782 - val_loss: 0.3684\n",
      "Epoch 19/100\n",
      "11610/11610 [==============================] - 1s 60us/sample - loss: 0.3762 - val_loss: 0.3523\n",
      "Epoch 20/100\n",
      "11610/11610 [==============================] - 1s 57us/sample - loss: 0.3744 - val_loss: 0.3622\n",
      "Epoch 21/100\n",
      "11610/11610 [==============================] - 1s 58us/sample - loss: 0.3727 - val_loss: 0.3498\n",
      "Epoch 22/100\n",
      "11610/11610 [==============================] - 1s 58us/sample - loss: 0.3709 - val_loss: 0.3650\n",
      "Epoch 23/100\n",
      "11610/11610 [==============================] - 1s 62us/sample - loss: 0.3694 - val_loss: 0.3538\n",
      "Epoch 24/100\n",
      "11610/11610 [==============================] - 1s 58us/sample - loss: 0.3681 - val_loss: 0.3479\n",
      "Epoch 25/100\n",
      "11610/11610 [==============================] - 1s 60us/sample - loss: 0.3668 - val_loss: 0.3475\n",
      "Epoch 26/100\n",
      "11610/11610 [==============================] - 1s 57us/sample - loss: 0.3654 - val_loss: 0.3483\n",
      "Epoch 27/100\n",
      "11610/11610 [==============================] - 1s 57us/sample - loss: 0.3641 - val_loss: 0.3787\n",
      "Epoch 28/100\n",
      "11610/11610 [==============================] - 1s 58us/sample - loss: 0.3631 - val_loss: 0.3461\n",
      "Epoch 29/100\n",
      "11610/11610 [==============================] - 1s 57us/sample - loss: 0.3618 - val_loss: 0.3709\n",
      "Epoch 30/100\n",
      "11610/11610 [==============================] - 1s 57us/sample - loss: 0.3607 - val_loss: 0.3530\n",
      "Epoch 31/100\n",
      "11610/11610 [==============================] - 1s 58us/sample - loss: 0.3596 - val_loss: 0.3428\n",
      "Epoch 32/100\n",
      "11610/11610 [==============================] - 1s 57us/sample - loss: 0.3586 - val_loss: 0.3442\n",
      "Epoch 33/100\n",
      "11610/11610 [==============================] - 1s 57us/sample - loss: 0.3577 - val_loss: 0.3533\n",
      "Epoch 34/100\n",
      "11610/11610 [==============================] - 1s 58us/sample - loss: 0.3567 - val_loss: 0.3359\n",
      "Epoch 35/100\n",
      "11610/11610 [==============================] - 1s 57us/sample - loss: 0.3557 - val_loss: 0.3828\n",
      "Epoch 36/100\n",
      "11610/11610 [==============================] - 1s 61us/sample - loss: 0.3551 - val_loss: 0.3345\n",
      "Epoch 37/100\n",
      "11610/11610 [==============================] - 1s 57us/sample - loss: 0.3541 - val_loss: 0.3843\n",
      "Epoch 38/100\n",
      "11610/11610 [==============================] - 1s 59us/sample - loss: 0.3534 - val_loss: 0.3329\n",
      "Epoch 39/100\n",
      "11610/11610 [==============================] - 1s 58us/sample - loss: 0.3524 - val_loss: 0.3934\n",
      "Epoch 40/100\n",
      "11610/11610 [==============================] - 1s 58us/sample - loss: 0.3522 - val_loss: 0.3314\n",
      "Epoch 41/100\n",
      "11610/11610 [==============================] - 1s 59us/sample - loss: 0.3510 - val_loss: 0.3986\n",
      "Epoch 42/100\n",
      "11610/11610 [==============================] - 1s 62us/sample - loss: 0.3507 - val_loss: 0.3299\n",
      "Epoch 43/100\n",
      "11610/11610 [==============================] - 1s 65us/sample - loss: 0.3498 - val_loss: 0.3467\n",
      "Epoch 44/100\n",
      "11610/11610 [==============================] - 1s 61us/sample - loss: 0.3488 - val_loss: 0.3414\n",
      "Epoch 45/100\n",
      "11610/11610 [==============================] - 1s 59us/sample - loss: 0.3484 - val_loss: 0.3437\n",
      "Epoch 46/100\n",
      "11610/11610 [==============================] - 1s 58us/sample - loss: 0.3479 - val_loss: 0.3289\n",
      "Epoch 47/100\n",
      "11610/11610 [==============================] - 1s 57us/sample - loss: 0.3468 - val_loss: 0.3654\n",
      "Epoch 48/100\n",
      "11610/11610 [==============================] - 1s 57us/sample - loss: 0.3467 - val_loss: 0.3285\n",
      "Epoch 49/100\n",
      "11610/11610 [==============================] - 1s 56us/sample - loss: 0.3461 - val_loss: 0.3964\n",
      "Epoch 50/100\n",
      "11610/11610 [==============================] - 1s 58us/sample - loss: 0.3456 - val_loss: 0.3299\n",
      "Epoch 51/100\n",
      "11610/11610 [==============================] - 1s 62us/sample - loss: 0.3451 - val_loss: 0.3349\n",
      "Epoch 52/100\n",
      "11610/11610 [==============================] - 1s 61us/sample - loss: 0.3446 - val_loss: 0.3329\n",
      "Epoch 53/100\n",
      "11610/11610 [==============================] - 1s 56us/sample - loss: 0.3440 - val_loss: 0.3580\n",
      "Epoch 54/100\n",
      "11610/11610 [==============================] - 1s 56us/sample - loss: 0.3433 - val_loss: 0.3316\n",
      "Epoch 55/100\n",
      "11610/11610 [==============================] - 1s 56us/sample - loss: 0.3429 - val_loss: 0.3252\n",
      "Epoch 56/100\n",
      "11610/11610 [==============================] - 1s 58us/sample - loss: 0.3423 - val_loss: 0.3858\n",
      "Epoch 57/100\n",
      "11610/11610 [==============================] - 1s 58us/sample - loss: 0.3422 - val_loss: 0.3237\n",
      "Epoch 58/100\n",
      "11610/11610 [==============================] - 1s 58us/sample - loss: 0.3414 - val_loss: 0.3387\n",
      "Epoch 59/100\n",
      "11610/11610 [==============================] - 1s 57us/sample - loss: 0.3409 - val_loss: 0.3226\n",
      "Epoch 60/100\n",
      "11610/11610 [==============================] - 1s 59us/sample - loss: 0.3403 - val_loss: 0.4004\n",
      "Epoch 61/100\n",
      "11610/11610 [==============================] - 1s 57us/sample - loss: 0.3406 - val_loss: 0.3220\n",
      "Epoch 62/100\n",
      "11610/11610 [==============================] - 1s 56us/sample - loss: 0.3396 - val_loss: 0.3941\n",
      "Epoch 63/100\n",
      "11610/11610 [==============================] - 1s 56us/sample - loss: 0.3393 - val_loss: 0.3282\n",
      "Epoch 64/100\n",
      "11610/11610 [==============================] - 1s 57us/sample - loss: 0.3391 - val_loss: 0.3584\n",
      "Epoch 65/100\n",
      "11610/11610 [==============================] - 1s 57us/sample - loss: 0.3383 - val_loss: 0.3217\n",
      "Epoch 66/100\n",
      "11610/11610 [==============================] - 1s 55us/sample - loss: 0.3380 - val_loss: 0.3740\n",
      "Epoch 67/100\n",
      "11610/11610 [==============================] - 1s 56us/sample - loss: 0.3378 - val_loss: 0.3397\n",
      "Epoch 68/100\n",
      "11610/11610 [==============================] - 1s 56us/sample - loss: 0.3373 - val_loss: 0.3194\n",
      "Epoch 69/100\n",
      "11610/11610 [==============================] - 1s 55us/sample - loss: 0.3367 - val_loss: 0.3785\n",
      "Epoch 70/100\n",
      "11610/11610 [==============================] - 1s 57us/sample - loss: 0.3368 - val_loss: 0.3206\n",
      "Epoch 71/100\n",
      "11610/11610 [==============================] - 1s 59us/sample - loss: 0.3358 - val_loss: 0.3811\n",
      "Epoch 72/100\n",
      "11610/11610 [==============================] - 1s 56us/sample - loss: 0.3358 - val_loss: 0.3352\n",
      "Epoch 73/100\n",
      "11610/11610 [==============================] - 1s 55us/sample - loss: 0.3350 - val_loss: 0.3333\n",
      "Epoch 74/100\n",
      "11610/11610 [==============================] - 1s 60us/sample - loss: 0.3350 - val_loss: 0.3179\n",
      "Epoch 75/100\n",
      "11610/11610 [==============================] - 1s 101us/sample - loss: 0.3345 - val_loss: 0.3474\n"
     ]
    },
    {
     "name": "stdout",
     "output_type": "stream",
     "text": [
      "Epoch 76/100\n",
      "11610/11610 [==============================] - 1s 79us/sample - loss: 0.3341 - val_loss: 0.3196\n",
      "Epoch 77/100\n",
      "11610/11610 [==============================] - 1s 84us/sample - loss: 0.3338 - val_loss: 0.3608\n",
      "Epoch 78/100\n",
      "11610/11610 [==============================] - 1s 60us/sample - loss: 0.3336 - val_loss: 0.3294\n",
      "Epoch 79/100\n",
      "11610/11610 [==============================] - 1s 97us/sample - loss: 0.3331 - val_loss: 0.3934\n",
      "Epoch 80/100\n",
      "11610/11610 [==============================] - 1s 65us/sample - loss: 0.3332 - val_loss: 0.3166\n",
      "Epoch 81/100\n",
      "11610/11610 [==============================] - 1s 65us/sample - loss: 0.3317 - val_loss: 0.3795\n",
      "Epoch 82/100\n",
      "11610/11610 [==============================] - 1s 62us/sample - loss: 0.3322 - val_loss: 0.3155\n",
      "Epoch 83/100\n",
      "11610/11610 [==============================] - 1s 60us/sample - loss: 0.3316 - val_loss: 0.3550\n",
      "Epoch 84/100\n",
      "11610/11610 [==============================] - 1s 61us/sample - loss: 0.3312 - val_loss: 0.3279\n",
      "Epoch 85/100\n",
      "11610/11610 [==============================] - 1s 73us/sample - loss: 0.3308 - val_loss: 0.3381\n",
      "Epoch 86/100\n",
      "11610/11610 [==============================] - 1s 65us/sample - loss: 0.3306 - val_loss: 0.3163\n",
      "Epoch 87/100\n",
      "11610/11610 [==============================] - 1s 60us/sample - loss: 0.3302 - val_loss: 0.3378\n",
      "Epoch 88/100\n",
      "11610/11610 [==============================] - 1s 59us/sample - loss: 0.3300 - val_loss: 0.3343\n",
      "Epoch 89/100\n",
      "11610/11610 [==============================] - 1s 78us/sample - loss: 0.3295 - val_loss: 0.3158\n",
      "Epoch 90/100\n",
      "11610/11610 [==============================] - 1s 59us/sample - loss: 0.3294 - val_loss: 0.3523\n",
      "Epoch 91/100\n",
      "11610/11610 [==============================] - 1s 61us/sample - loss: 0.3289 - val_loss: 0.3142\n",
      "Epoch 92/100\n",
      "11610/11610 [==============================] - 1s 71us/sample - loss: 0.3286 - val_loss: 0.3620\n",
      "Epoch 93/100\n",
      "11610/11610 [==============================] - 1s 74us/sample - loss: 0.3283 - val_loss: 0.3272\n",
      "Epoch 94/100\n",
      "11610/11610 [==============================] - 1s 72us/sample - loss: 0.3282 - val_loss: 0.4629\n",
      "Epoch 95/100\n",
      "11610/11610 [==============================] - 1s 75us/sample - loss: 0.3284 - val_loss: 0.3367\n",
      "Epoch 96/100\n",
      "11610/11610 [==============================] - 1s 74us/sample - loss: 0.3275 - val_loss: 0.4651\n",
      "Epoch 97/100\n",
      "11610/11610 [==============================] - 1s 83us/sample - loss: 0.3278 - val_loss: 0.3154\n",
      "Epoch 98/100\n",
      "11610/11610 [==============================] - 1s 65us/sample - loss: 0.3265 - val_loss: 0.3258\n",
      "Epoch 99/100\n",
      "11610/11610 [==============================] - 1s 61us/sample - loss: 0.3262 - val_loss: 0.3411\n",
      "Epoch 100/100\n",
      "11610/11610 [==============================] - 1s 60us/sample - loss: 0.3264 - val_loss: 0.3177\n",
      "5160/5160 [==============================] - 0s 32us/sample - loss: 0.3270\n"
     ]
    }
   ],
   "source": [
    "model.compile(loss=\"mse\", optimizer=keras.optimizers.SGD(lr=1e-3))\n",
    "early_stopping_cb = keras.callbacks.EarlyStopping(patience=10,\n",
    "                                                  restore_best_weights=True)\n",
    "history = model.fit(X_train, y_train, epochs=100,\n",
    "                    validation_data=(X_valid, y_valid),\n",
    "                    callbacks=[checkpoint_cb, early_stopping_cb])\n",
    "mse_test = model.evaluate(X_test, y_test)"
   ]
  },
  {
   "cell_type": "code",
   "execution_count": 155,
   "metadata": {},
   "outputs": [],
   "source": [
    "class PrintValTrainRatioCallback(keras.callbacks.Callback):\n",
    "    def on_epoch_end(self, epoch, logs):\n",
    "        print(\"\\nval/train: {:.2f}\".format(logs[\"val_loss\"] / logs[\"loss\"]))"
   ]
  },
  {
   "cell_type": "code",
   "execution_count": 156,
   "metadata": {},
   "outputs": [
    {
     "name": "stdout",
     "output_type": "stream",
     "text": [
      "Train on 11610 samples, validate on 3870 samples\n",
      "11520/11610 [============================>.] - ETA: 0s - loss: 0.3265\n",
      "val/train: 1.16\n",
      "11610/11610 [==============================] - 1s 70us/sample - loss: 0.3256 - val_loss: 0.3789\n"
     ]
    }
   ],
   "source": [
    "val_train_ratio_cb = PrintValTrainRatioCallback()\n",
    "history = model.fit(X_train, y_train, epochs=1,\n",
    "                    validation_data=(X_valid, y_valid),\n",
    "                    callbacks=[val_train_ratio_cb])"
   ]
  },
  {
   "cell_type": "markdown",
   "metadata": {},
   "source": [
    "# TensorBoard"
   ]
  },
  {
   "cell_type": "code",
   "execution_count": 157,
   "metadata": {},
   "outputs": [],
   "source": [
    "root_logdir = os.path.join(os.curdir, \"my_logs\")"
   ]
  },
  {
   "cell_type": "code",
   "execution_count": 158,
   "metadata": {},
   "outputs": [
    {
     "data": {
      "text/plain": [
       "'.\\\\my_logs\\\\run_2020_07_23-17_53_57'"
      ]
     },
     "execution_count": 158,
     "metadata": {},
     "output_type": "execute_result"
    }
   ],
   "source": [
    "def get_run_logdir():\n",
    "    import time\n",
    "    run_id = time.strftime(\"run_%Y_%m_%d-%H_%M_%S\")\n",
    "    return os.path.join(root_logdir, run_id)\n",
    "\n",
    "run_logdir = get_run_logdir()\n",
    "run_logdir"
   ]
  },
  {
   "cell_type": "code",
   "execution_count": 159,
   "metadata": {},
   "outputs": [],
   "source": [
    "keras.backend.clear_session()\n",
    "np.random.seed(42)\n",
    "tf.random.set_seed(42)"
   ]
  },
  {
   "cell_type": "code",
   "execution_count": 160,
   "metadata": {},
   "outputs": [],
   "source": [
    "model = keras.models.Sequential([\n",
    "    keras.layers.Dense(30, activation=\"relu\", input_shape=[8]),\n",
    "    keras.layers.Dense(30, activation=\"relu\"),\n",
    "    keras.layers.Dense(1)\n",
    "])    \n",
    "model.compile(loss=\"mse\", optimizer=keras.optimizers.SGD(lr=1e-3))"
   ]
  },
  {
   "cell_type": "code",
   "execution_count": 161,
   "metadata": {},
   "outputs": [
    {
     "name": "stdout",
     "output_type": "stream",
     "text": [
      "Train on 11610 samples, validate on 3870 samples\n"
     ]
    },
    {
     "ename": "NotFoundError",
     "evalue": "Failed to create a NewWriteableFile: .\\my_logs\\run_2020_07_23-17_53_57\\train/events.out.tfevents.1595541237.DESKTOP-SUN2TVD.15340.723032.v2 : The system cannot find the path specified.\r\n; No such process\n\tCreating writable file .\\my_logs\\run_2020_07_23-17_53_57\\train/events.out.tfevents.1595541237.DESKTOP-SUN2TVD.15340.723032.v2\n\tCould not initialize events writer. [Op:CreateSummaryFileWriter]",
     "output_type": "error",
     "traceback": [
      "\u001b[1;31m---------------------------------------------------------------------------\u001b[0m",
      "\u001b[1;31mNotFoundError\u001b[0m                             Traceback (most recent call last)",
      "\u001b[1;32m<ipython-input-161-108ab6d0f3bc>\u001b[0m in \u001b[0;36m<module>\u001b[1;34m\u001b[0m\n\u001b[0;32m      2\u001b[0m history = model.fit(X_train, y_train, epochs=30,\n\u001b[0;32m      3\u001b[0m                     \u001b[0mvalidation_data\u001b[0m\u001b[1;33m=\u001b[0m\u001b[1;33m(\u001b[0m\u001b[0mX_valid\u001b[0m\u001b[1;33m,\u001b[0m \u001b[0my_valid\u001b[0m\u001b[1;33m)\u001b[0m\u001b[1;33m,\u001b[0m\u001b[1;33m\u001b[0m\u001b[1;33m\u001b[0m\u001b[0m\n\u001b[1;32m----> 4\u001b[1;33m                     callbacks=[checkpoint_cb, tensorboard_cb])\n\u001b[0m",
      "\u001b[1;32m~\\.conda\\envs\\tf2\\lib\\site-packages\\tensorflow_core\\python\\keras\\engine\\training.py\u001b[0m in \u001b[0;36mfit\u001b[1;34m(self, x, y, batch_size, epochs, verbose, callbacks, validation_split, validation_data, shuffle, class_weight, sample_weight, initial_epoch, steps_per_epoch, validation_steps, validation_freq, max_queue_size, workers, use_multiprocessing, **kwargs)\u001b[0m\n\u001b[0;32m    817\u001b[0m         \u001b[0mmax_queue_size\u001b[0m\u001b[1;33m=\u001b[0m\u001b[0mmax_queue_size\u001b[0m\u001b[1;33m,\u001b[0m\u001b[1;33m\u001b[0m\u001b[1;33m\u001b[0m\u001b[0m\n\u001b[0;32m    818\u001b[0m         \u001b[0mworkers\u001b[0m\u001b[1;33m=\u001b[0m\u001b[0mworkers\u001b[0m\u001b[1;33m,\u001b[0m\u001b[1;33m\u001b[0m\u001b[1;33m\u001b[0m\u001b[0m\n\u001b[1;32m--> 819\u001b[1;33m         use_multiprocessing=use_multiprocessing)\n\u001b[0m\u001b[0;32m    820\u001b[0m \u001b[1;33m\u001b[0m\u001b[0m\n\u001b[0;32m    821\u001b[0m   def evaluate(self,\n",
      "\u001b[1;32m~\\.conda\\envs\\tf2\\lib\\site-packages\\tensorflow_core\\python\\keras\\engine\\training_v2.py\u001b[0m in \u001b[0;36mfit\u001b[1;34m(self, model, x, y, batch_size, epochs, verbose, callbacks, validation_split, validation_data, shuffle, class_weight, sample_weight, initial_epoch, steps_per_epoch, validation_steps, validation_freq, max_queue_size, workers, use_multiprocessing, **kwargs)\u001b[0m\n\u001b[0;32m    305\u001b[0m           \u001b[0mcount_mode\u001b[0m\u001b[1;33m=\u001b[0m\u001b[1;34m'samples'\u001b[0m \u001b[1;32mif\u001b[0m \u001b[0muse_sample\u001b[0m \u001b[1;32melse\u001b[0m \u001b[1;34m'steps'\u001b[0m\u001b[1;33m,\u001b[0m\u001b[1;33m\u001b[0m\u001b[1;33m\u001b[0m\u001b[0m\n\u001b[0;32m    306\u001b[0m           \u001b[0mverbose\u001b[0m\u001b[1;33m=\u001b[0m\u001b[1;36m0\u001b[0m\u001b[1;33m,\u001b[0m  \u001b[1;31m# Handle ProgBarLogger separately in this loop.\u001b[0m\u001b[1;33m\u001b[0m\u001b[1;33m\u001b[0m\u001b[0m\n\u001b[1;32m--> 307\u001b[1;33m           mode=ModeKeys.TRAIN)\n\u001b[0m\u001b[0;32m    308\u001b[0m \u001b[1;33m\u001b[0m\u001b[0m\n\u001b[0;32m    309\u001b[0m       with training_context.on_start(model, training_callbacks, use_sample,\n",
      "\u001b[1;32m~\\.conda\\envs\\tf2\\lib\\site-packages\\tensorflow_core\\python\\keras\\callbacks.py\u001b[0m in \u001b[0;36mconfigure_callbacks\u001b[1;34m(callbacks, model, do_validation, batch_size, epochs, steps_per_epoch, samples, verbose, count_mode, mode)\u001b[0m\n\u001b[0;32m    105\u001b[0m   \u001b[1;31m# Set callback model\u001b[0m\u001b[1;33m\u001b[0m\u001b[1;33m\u001b[0m\u001b[1;33m\u001b[0m\u001b[0m\n\u001b[0;32m    106\u001b[0m   \u001b[0mcallback_model\u001b[0m \u001b[1;33m=\u001b[0m \u001b[0mmodel\u001b[0m\u001b[1;33m.\u001b[0m\u001b[0m_get_callback_model\u001b[0m\u001b[1;33m(\u001b[0m\u001b[1;33m)\u001b[0m  \u001b[1;31m# pylint: disable=protected-access\u001b[0m\u001b[1;33m\u001b[0m\u001b[1;33m\u001b[0m\u001b[0m\n\u001b[1;32m--> 107\u001b[1;33m   \u001b[0mcallback_list\u001b[0m\u001b[1;33m.\u001b[0m\u001b[0mset_model\u001b[0m\u001b[1;33m(\u001b[0m\u001b[0mcallback_model\u001b[0m\u001b[1;33m)\u001b[0m\u001b[1;33m\u001b[0m\u001b[1;33m\u001b[0m\u001b[0m\n\u001b[0m\u001b[0;32m    108\u001b[0m \u001b[1;33m\u001b[0m\u001b[0m\n\u001b[0;32m    109\u001b[0m   set_callback_parameters(\n",
      "\u001b[1;32m~\\.conda\\envs\\tf2\\lib\\site-packages\\tensorflow_core\\python\\keras\\callbacks.py\u001b[0m in \u001b[0;36mset_model\u001b[1;34m(self, model)\u001b[0m\n\u001b[0;32m    220\u001b[0m     \u001b[0mself\u001b[0m\u001b[1;33m.\u001b[0m\u001b[0mmodel\u001b[0m \u001b[1;33m=\u001b[0m \u001b[0mmodel\u001b[0m\u001b[1;33m\u001b[0m\u001b[1;33m\u001b[0m\u001b[0m\n\u001b[0;32m    221\u001b[0m     \u001b[1;32mfor\u001b[0m \u001b[0mcallback\u001b[0m \u001b[1;32min\u001b[0m \u001b[0mself\u001b[0m\u001b[1;33m.\u001b[0m\u001b[0mcallbacks\u001b[0m\u001b[1;33m:\u001b[0m\u001b[1;33m\u001b[0m\u001b[1;33m\u001b[0m\u001b[0m\n\u001b[1;32m--> 222\u001b[1;33m       \u001b[0mcallback\u001b[0m\u001b[1;33m.\u001b[0m\u001b[0mset_model\u001b[0m\u001b[1;33m(\u001b[0m\u001b[0mmodel\u001b[0m\u001b[1;33m)\u001b[0m\u001b[1;33m\u001b[0m\u001b[1;33m\u001b[0m\u001b[0m\n\u001b[0m\u001b[0;32m    223\u001b[0m \u001b[1;33m\u001b[0m\u001b[0m\n\u001b[0;32m    224\u001b[0m   \u001b[1;32mdef\u001b[0m \u001b[0m_call_batch_hook\u001b[0m\u001b[1;33m(\u001b[0m\u001b[0mself\u001b[0m\u001b[1;33m,\u001b[0m \u001b[0mmode\u001b[0m\u001b[1;33m,\u001b[0m \u001b[0mhook\u001b[0m\u001b[1;33m,\u001b[0m \u001b[0mbatch\u001b[0m\u001b[1;33m,\u001b[0m \u001b[0mlogs\u001b[0m\u001b[1;33m=\u001b[0m\u001b[1;32mNone\u001b[0m\u001b[1;33m)\u001b[0m\u001b[1;33m:\u001b[0m\u001b[1;33m\u001b[0m\u001b[1;33m\u001b[0m\u001b[0m\n",
      "\u001b[1;32m~\\.conda\\envs\\tf2\\lib\\site-packages\\tensorflow_core\\python\\keras\\callbacks.py\u001b[0m in \u001b[0;36mset_model\u001b[1;34m(self, model)\u001b[0m\n\u001b[0;32m   1535\u001b[0m       \u001b[0mself\u001b[0m\u001b[1;33m.\u001b[0m\u001b[0m_close_writers\u001b[0m\u001b[1;33m(\u001b[0m\u001b[1;33m)\u001b[0m\u001b[1;33m\u001b[0m\u001b[1;33m\u001b[0m\u001b[0m\n\u001b[0;32m   1536\u001b[0m       \u001b[1;32mif\u001b[0m \u001b[0mself\u001b[0m\u001b[1;33m.\u001b[0m\u001b[0mwrite_graph\u001b[0m\u001b[1;33m:\u001b[0m\u001b[1;33m\u001b[0m\u001b[1;33m\u001b[0m\u001b[0m\n\u001b[1;32m-> 1537\u001b[1;33m         \u001b[1;32mwith\u001b[0m \u001b[0mself\u001b[0m\u001b[1;33m.\u001b[0m\u001b[0m_get_writer\u001b[0m\u001b[1;33m(\u001b[0m\u001b[0mself\u001b[0m\u001b[1;33m.\u001b[0m\u001b[0m_train_run_name\u001b[0m\u001b[1;33m)\u001b[0m\u001b[1;33m.\u001b[0m\u001b[0mas_default\u001b[0m\u001b[1;33m(\u001b[0m\u001b[1;33m)\u001b[0m\u001b[1;33m:\u001b[0m\u001b[1;33m\u001b[0m\u001b[1;33m\u001b[0m\u001b[0m\n\u001b[0m\u001b[0;32m   1538\u001b[0m           \u001b[1;32mwith\u001b[0m \u001b[0msummary_ops_v2\u001b[0m\u001b[1;33m.\u001b[0m\u001b[0malways_record_summaries\u001b[0m\u001b[1;33m(\u001b[0m\u001b[1;33m)\u001b[0m\u001b[1;33m:\u001b[0m\u001b[1;33m\u001b[0m\u001b[1;33m\u001b[0m\u001b[0m\n\u001b[0;32m   1539\u001b[0m             \u001b[1;32mif\u001b[0m \u001b[1;32mnot\u001b[0m \u001b[0mmodel\u001b[0m\u001b[1;33m.\u001b[0m\u001b[0mrun_eagerly\u001b[0m\u001b[1;33m:\u001b[0m\u001b[1;33m\u001b[0m\u001b[1;33m\u001b[0m\u001b[0m\n",
      "\u001b[1;32m~\\.conda\\envs\\tf2\\lib\\site-packages\\tensorflow_core\\python\\keras\\callbacks.py\u001b[0m in \u001b[0;36m_get_writer\u001b[1;34m(self, writer_name)\u001b[0m\n\u001b[0;32m   1618\u001b[0m     \u001b[1;32mif\u001b[0m \u001b[0mwriter_name\u001b[0m \u001b[1;32mnot\u001b[0m \u001b[1;32min\u001b[0m \u001b[0mself\u001b[0m\u001b[1;33m.\u001b[0m\u001b[0m_writers\u001b[0m\u001b[1;33m:\u001b[0m\u001b[1;33m\u001b[0m\u001b[1;33m\u001b[0m\u001b[0m\n\u001b[0;32m   1619\u001b[0m       \u001b[0mpath\u001b[0m \u001b[1;33m=\u001b[0m \u001b[0mos\u001b[0m\u001b[1;33m.\u001b[0m\u001b[0mpath\u001b[0m\u001b[1;33m.\u001b[0m\u001b[0mjoin\u001b[0m\u001b[1;33m(\u001b[0m\u001b[0mself\u001b[0m\u001b[1;33m.\u001b[0m\u001b[0m_log_write_dir\u001b[0m\u001b[1;33m,\u001b[0m \u001b[0mwriter_name\u001b[0m\u001b[1;33m)\u001b[0m\u001b[1;33m\u001b[0m\u001b[1;33m\u001b[0m\u001b[0m\n\u001b[1;32m-> 1620\u001b[1;33m       \u001b[0mwriter\u001b[0m \u001b[1;33m=\u001b[0m \u001b[0msummary_ops_v2\u001b[0m\u001b[1;33m.\u001b[0m\u001b[0mcreate_file_writer_v2\u001b[0m\u001b[1;33m(\u001b[0m\u001b[0mpath\u001b[0m\u001b[1;33m)\u001b[0m\u001b[1;33m\u001b[0m\u001b[1;33m\u001b[0m\u001b[0m\n\u001b[0m\u001b[0;32m   1621\u001b[0m       \u001b[0mself\u001b[0m\u001b[1;33m.\u001b[0m\u001b[0m_writers\u001b[0m\u001b[1;33m[\u001b[0m\u001b[0mwriter_name\u001b[0m\u001b[1;33m]\u001b[0m \u001b[1;33m=\u001b[0m \u001b[0mwriter\u001b[0m\u001b[1;33m\u001b[0m\u001b[1;33m\u001b[0m\u001b[0m\n\u001b[0;32m   1622\u001b[0m     \u001b[1;32mreturn\u001b[0m \u001b[0mself\u001b[0m\u001b[1;33m.\u001b[0m\u001b[0m_writers\u001b[0m\u001b[1;33m[\u001b[0m\u001b[0mwriter_name\u001b[0m\u001b[1;33m]\u001b[0m\u001b[1;33m\u001b[0m\u001b[1;33m\u001b[0m\u001b[0m\n",
      "\u001b[1;32m~\\.conda\\envs\\tf2\\lib\\site-packages\\tensorflow_core\\python\\ops\\summary_ops_v2.py\u001b[0m in \u001b[0;36mcreate_file_writer_v2\u001b[1;34m(logdir, max_queue, flush_millis, filename_suffix, name)\u001b[0m\n\u001b[0;32m    407\u001b[0m               filename_suffix=filename_suffix),\n\u001b[0;32m    408\u001b[0m           \u001b[0mname\u001b[0m\u001b[1;33m=\u001b[0m\u001b[0mname\u001b[0m\u001b[1;33m,\u001b[0m\u001b[1;33m\u001b[0m\u001b[1;33m\u001b[0m\u001b[0m\n\u001b[1;32m--> 409\u001b[1;33m           v2=True)\n\u001b[0m\u001b[0;32m    410\u001b[0m \u001b[1;33m\u001b[0m\u001b[0m\n\u001b[0;32m    411\u001b[0m \u001b[1;33m\u001b[0m\u001b[0m\n",
      "\u001b[1;32m~\\.conda\\envs\\tf2\\lib\\site-packages\\tensorflow_core\\python\\ops\\summary_ops_v2.py\u001b[0m in \u001b[0;36m__init__\u001b[1;34m(self, shared_name, init_op_fn, name, v2)\u001b[0m\n\u001b[0;32m    229\u001b[0m     \u001b[1;31m# TODO(nickfelt): cache other constructed ops in graph mode\u001b[0m\u001b[1;33m\u001b[0m\u001b[1;33m\u001b[0m\u001b[1;33m\u001b[0m\u001b[0m\n\u001b[0;32m    230\u001b[0m     \u001b[0mself\u001b[0m\u001b[1;33m.\u001b[0m\u001b[0m_init_op_fn\u001b[0m \u001b[1;33m=\u001b[0m \u001b[0minit_op_fn\u001b[0m\u001b[1;33m\u001b[0m\u001b[1;33m\u001b[0m\u001b[0m\n\u001b[1;32m--> 231\u001b[1;33m     \u001b[0mself\u001b[0m\u001b[1;33m.\u001b[0m\u001b[0m_init_op\u001b[0m \u001b[1;33m=\u001b[0m \u001b[0minit_op_fn\u001b[0m\u001b[1;33m(\u001b[0m\u001b[0mself\u001b[0m\u001b[1;33m.\u001b[0m\u001b[0m_resource\u001b[0m\u001b[1;33m)\u001b[0m\u001b[1;33m\u001b[0m\u001b[1;33m\u001b[0m\u001b[0m\n\u001b[0m\u001b[0;32m    232\u001b[0m     \u001b[0mself\u001b[0m\u001b[1;33m.\u001b[0m\u001b[0m_v2\u001b[0m \u001b[1;33m=\u001b[0m \u001b[0mv2\u001b[0m\u001b[1;33m\u001b[0m\u001b[1;33m\u001b[0m\u001b[0m\n\u001b[0;32m    233\u001b[0m     \u001b[0mself\u001b[0m\u001b[1;33m.\u001b[0m\u001b[0m_closed\u001b[0m \u001b[1;33m=\u001b[0m \u001b[1;32mFalse\u001b[0m\u001b[1;33m\u001b[0m\u001b[1;33m\u001b[0m\u001b[0m\n",
      "\u001b[1;32m~\\.conda\\envs\\tf2\\lib\\site-packages\\tensorflow_core\\python\\ops\\gen_summary_ops.py\u001b[0m in \u001b[0;36mcreate_summary_file_writer\u001b[1;34m(writer, logdir, max_queue, flush_millis, filename_suffix, name)\u001b[0m\n\u001b[0;32m    151\u001b[0m         \u001b[1;32mpass\u001b[0m  \u001b[1;31m# Add nodes to the TensorFlow graph.\u001b[0m\u001b[1;33m\u001b[0m\u001b[1;33m\u001b[0m\u001b[0m\n\u001b[0;32m    152\u001b[0m     \u001b[1;32mexcept\u001b[0m \u001b[0m_core\u001b[0m\u001b[1;33m.\u001b[0m\u001b[0m_NotOkStatusException\u001b[0m \u001b[1;32mas\u001b[0m \u001b[0me\u001b[0m\u001b[1;33m:\u001b[0m\u001b[1;33m\u001b[0m\u001b[1;33m\u001b[0m\u001b[0m\n\u001b[1;32m--> 153\u001b[1;33m       \u001b[0m_ops\u001b[0m\u001b[1;33m.\u001b[0m\u001b[0mraise_from_not_ok_status\u001b[0m\u001b[1;33m(\u001b[0m\u001b[0me\u001b[0m\u001b[1;33m,\u001b[0m \u001b[0mname\u001b[0m\u001b[1;33m)\u001b[0m\u001b[1;33m\u001b[0m\u001b[1;33m\u001b[0m\u001b[0m\n\u001b[0m\u001b[0;32m    154\u001b[0m   \u001b[1;31m# Add nodes to the TensorFlow graph.\u001b[0m\u001b[1;33m\u001b[0m\u001b[1;33m\u001b[0m\u001b[1;33m\u001b[0m\u001b[0m\n\u001b[0;32m    155\u001b[0m   _, _, _op, _outputs = _op_def_library._apply_op_helper(\n",
      "\u001b[1;32m~\\.conda\\envs\\tf2\\lib\\site-packages\\tensorflow_core\\python\\framework\\ops.py\u001b[0m in \u001b[0;36mraise_from_not_ok_status\u001b[1;34m(e, name)\u001b[0m\n\u001b[0;32m   6604\u001b[0m   \u001b[0mmessage\u001b[0m \u001b[1;33m=\u001b[0m \u001b[0me\u001b[0m\u001b[1;33m.\u001b[0m\u001b[0mmessage\u001b[0m \u001b[1;33m+\u001b[0m \u001b[1;33m(\u001b[0m\u001b[1;34m\" name: \"\u001b[0m \u001b[1;33m+\u001b[0m \u001b[0mname\u001b[0m \u001b[1;32mif\u001b[0m \u001b[0mname\u001b[0m \u001b[1;32mis\u001b[0m \u001b[1;32mnot\u001b[0m \u001b[1;32mNone\u001b[0m \u001b[1;32melse\u001b[0m \u001b[1;34m\"\"\u001b[0m\u001b[1;33m)\u001b[0m\u001b[1;33m\u001b[0m\u001b[1;33m\u001b[0m\u001b[0m\n\u001b[0;32m   6605\u001b[0m   \u001b[1;31m# pylint: disable=protected-access\u001b[0m\u001b[1;33m\u001b[0m\u001b[1;33m\u001b[0m\u001b[1;33m\u001b[0m\u001b[0m\n\u001b[1;32m-> 6606\u001b[1;33m   \u001b[0msix\u001b[0m\u001b[1;33m.\u001b[0m\u001b[0mraise_from\u001b[0m\u001b[1;33m(\u001b[0m\u001b[0mcore\u001b[0m\u001b[1;33m.\u001b[0m\u001b[0m_status_to_exception\u001b[0m\u001b[1;33m(\u001b[0m\u001b[0me\u001b[0m\u001b[1;33m.\u001b[0m\u001b[0mcode\u001b[0m\u001b[1;33m,\u001b[0m \u001b[0mmessage\u001b[0m\u001b[1;33m)\u001b[0m\u001b[1;33m,\u001b[0m \u001b[1;32mNone\u001b[0m\u001b[1;33m)\u001b[0m\u001b[1;33m\u001b[0m\u001b[1;33m\u001b[0m\u001b[0m\n\u001b[0m\u001b[0;32m   6607\u001b[0m   \u001b[1;31m# pylint: enable=protected-access\u001b[0m\u001b[1;33m\u001b[0m\u001b[1;33m\u001b[0m\u001b[1;33m\u001b[0m\u001b[0m\n\u001b[0;32m   6608\u001b[0m \u001b[1;33m\u001b[0m\u001b[0m\n",
      "\u001b[1;32m~\\.conda\\envs\\tf2\\lib\\site-packages\\six.py\u001b[0m in \u001b[0;36mraise_from\u001b[1;34m(value, from_value)\u001b[0m\n",
      "\u001b[1;31mNotFoundError\u001b[0m: Failed to create a NewWriteableFile: .\\my_logs\\run_2020_07_23-17_53_57\\train/events.out.tfevents.1595541237.DESKTOP-SUN2TVD.15340.723032.v2 : The system cannot find the path specified.\r\n; No such process\n\tCreating writable file .\\my_logs\\run_2020_07_23-17_53_57\\train/events.out.tfevents.1595541237.DESKTOP-SUN2TVD.15340.723032.v2\n\tCould not initialize events writer. [Op:CreateSummaryFileWriter]"
     ]
    }
   ],
   "source": [
    "tensorboard_cb = keras.callbacks.TensorBoard(run_logdir)\n",
    "history = model.fit(X_train, y_train, epochs=30,\n",
    "                    validation_data=(X_valid, y_valid),\n",
    "                    callbacks=[checkpoint_cb, tensorboard_cb])"
   ]
  },
  {
   "cell_type": "markdown",
   "metadata": {},
   "source": [
    "To start the TensorBoard server, one option is to open a terminal, if needed activate the virtualenv where you installed TensorBoard, go to this notebook's directory, then type:\n",
    "\n",
    "```bash\n",
    "$ tensorboard --logdir=./my_logs --port=6006\n",
    "```\n",
    "\n",
    "You can then open your web browser to [localhost:6006](http://localhost:6006) and use TensorBoard. Once you are done, press Ctrl-C in the terminal window, this will shutdown the TensorBoard server.\n",
    "\n",
    "Alternatively, you can load TensorBoard's Jupyter extension and run it like this:"
   ]
  },
  {
   "cell_type": "code",
   "execution_count": null,
   "metadata": {},
   "outputs": [],
   "source": [
    "%load_ext tensorboard\n",
    "%tensorboard --logdir=./my_logs --port=6006"
   ]
  },
  {
   "cell_type": "code",
   "execution_count": null,
   "metadata": {},
   "outputs": [],
   "source": [
    "run_logdir2 = get_run_logdir()\n",
    "run_logdir2"
   ]
  },
  {
   "cell_type": "code",
   "execution_count": null,
   "metadata": {},
   "outputs": [],
   "source": [
    "keras.backend.clear_session()\n",
    "np.random.seed(42)\n",
    "tf.random.set_seed(42)"
   ]
  },
  {
   "cell_type": "code",
   "execution_count": null,
   "metadata": {},
   "outputs": [],
   "source": [
    "model = keras.models.Sequential([\n",
    "    keras.layers.Dense(30, activation=\"relu\", input_shape=[8]),\n",
    "    keras.layers.Dense(30, activation=\"relu\"),\n",
    "    keras.layers.Dense(1)\n",
    "])    \n",
    "model.compile(loss=\"mse\", optimizer=keras.optimizers.SGD(lr=0.05))"
   ]
  },
  {
   "cell_type": "code",
   "execution_count": null,
   "metadata": {},
   "outputs": [],
   "source": [
    "tensorboard_cb = keras.callbacks.TensorBoard(run_logdir2)\n",
    "history = model.fit(X_train, y_train, epochs=30,\n",
    "                    validation_data=(X_valid, y_valid),\n",
    "                    callbacks=[checkpoint_cb, tensorboard_cb])"
   ]
  },
  {
   "cell_type": "markdown",
   "metadata": {},
   "source": [
    "Notice how TensorBoard now sees two runs, and you can compare the learning curves."
   ]
  },
  {
   "cell_type": "markdown",
   "metadata": {},
   "source": [
    "Check out the other available logging options:"
   ]
  },
  {
   "cell_type": "code",
   "execution_count": null,
   "metadata": {},
   "outputs": [],
   "source": [
    "help(keras.callbacks.TensorBoard.__init__)"
   ]
  },
  {
   "cell_type": "markdown",
   "metadata": {},
   "source": [
    "# Hyperparameter Tuning"
   ]
  },
  {
   "cell_type": "code",
   "execution_count": 162,
   "metadata": {},
   "outputs": [],
   "source": [
    "keras.backend.clear_session()\n",
    "np.random.seed(42)\n",
    "tf.random.set_seed(42)"
   ]
  },
  {
   "cell_type": "code",
   "execution_count": 163,
   "metadata": {},
   "outputs": [],
   "source": [
    "def build_model(n_hidden=1, n_neurons=30, learning_rate=3e-3, input_shape=[8]):\n",
    "    model = keras.models.Sequential()\n",
    "    model.add(keras.layers.InputLayer(input_shape=input_shape))\n",
    "    for layer in range(n_hidden):\n",
    "        model.add(keras.layers.Dense(n_neurons, activation=\"relu\"))\n",
    "    model.add(keras.layers.Dense(1))\n",
    "    optimizer = keras.optimizers.SGD(lr=learning_rate)\n",
    "    model.compile(loss=\"mse\", optimizer=optimizer)\n",
    "    return model"
   ]
  },
  {
   "cell_type": "code",
   "execution_count": 164,
   "metadata": {},
   "outputs": [],
   "source": [
    "keras_reg = keras.wrappers.scikit_learn.KerasRegressor(build_model)"
   ]
  },
  {
   "cell_type": "code",
   "execution_count": 165,
   "metadata": {},
   "outputs": [
    {
     "name": "stdout",
     "output_type": "stream",
     "text": [
      "Train on 11610 samples, validate on 3870 samples\n",
      "Epoch 1/100\n",
      "11610/11610 [==============================] - 1s 70us/sample - loss: 1.1399 - val_loss: 24.4309\n",
      "Epoch 2/100\n",
      "11610/11610 [==============================] - 1s 56us/sample - loss: 0.7393 - val_loss: 3.2896\n",
      "Epoch 3/100\n",
      "11610/11610 [==============================] - 1s 55us/sample - loss: 0.5374 - val_loss: 0.6080\n",
      "Epoch 4/100\n",
      "11610/11610 [==============================] - 1s 55us/sample - loss: 0.4796 - val_loss: 0.4532\n",
      "Epoch 5/100\n",
      "11610/11610 [==============================] - 1s 57us/sample - loss: 0.4536 - val_loss: 0.4221\n",
      "Epoch 6/100\n",
      "11610/11610 [==============================] - 1s 53us/sample - loss: 0.4373 - val_loss: 0.4144\n",
      "Epoch 7/100\n",
      "11610/11610 [==============================] - 1s 53us/sample - loss: 0.4256 - val_loss: 0.4025\n",
      "Epoch 8/100\n",
      "11610/11610 [==============================] - 1s 53us/sample - loss: 0.4178 - val_loss: 0.3938\n",
      "Epoch 9/100\n",
      "11610/11610 [==============================] - 1s 53us/sample - loss: 0.4114 - val_loss: 0.4085\n",
      "Epoch 10/100\n",
      "11610/11610 [==============================] - 1s 55us/sample - loss: 0.4060 - val_loss: 0.3974\n",
      "Epoch 11/100\n",
      "11610/11610 [==============================] - 1s 53us/sample - loss: 0.4018 - val_loss: 0.3847\n",
      "Epoch 12/100\n",
      "11610/11610 [==============================] - 1s 54us/sample - loss: 0.3978 - val_loss: 0.3818\n",
      "Epoch 13/100\n",
      "11610/11610 [==============================] - 1s 53us/sample - loss: 0.3943 - val_loss: 0.3820\n",
      "Epoch 14/100\n",
      "11610/11610 [==============================] - 1s 53us/sample - loss: 0.3915 - val_loss: 0.3766\n",
      "Epoch 15/100\n",
      "11610/11610 [==============================] - 1s 53us/sample - loss: 0.3888 - val_loss: 0.4268\n",
      "Epoch 16/100\n",
      "11610/11610 [==============================] - 1s 53us/sample - loss: 0.3862 - val_loss: 0.3638\n",
      "Epoch 17/100\n",
      "11610/11610 [==============================] - 1s 53us/sample - loss: 0.3842 - val_loss: 0.3666\n",
      "Epoch 18/100\n",
      "11610/11610 [==============================] - 1s 55us/sample - loss: 0.3815 - val_loss: 0.3948\n",
      "Epoch 19/100\n",
      "11610/11610 [==============================] - 1s 53us/sample - loss: 0.3797 - val_loss: 0.3589\n",
      "Epoch 20/100\n",
      "11610/11610 [==============================] - 1s 54us/sample - loss: 0.3777 - val_loss: 0.4058\n",
      "Epoch 21/100\n",
      "11610/11610 [==============================] - 1s 54us/sample - loss: 0.3763 - val_loss: 0.3662\n",
      "Epoch 22/100\n",
      "11610/11610 [==============================] - 1s 55us/sample - loss: 0.3742 - val_loss: 0.4100\n",
      "Epoch 23/100\n",
      "11610/11610 [==============================] - 1s 55us/sample - loss: 0.3729 - val_loss: 0.3522\n",
      "Epoch 24/100\n",
      "11610/11610 [==============================] - 1s 55us/sample - loss: 0.3718 - val_loss: 0.3518\n",
      "Epoch 25/100\n",
      "11610/11610 [==============================] - 1s 57us/sample - loss: 0.3701 - val_loss: 0.3586\n",
      "Epoch 26/100\n",
      "11610/11610 [==============================] - 1s 56us/sample - loss: 0.3689 - val_loss: 0.3600\n",
      "Epoch 27/100\n",
      "11610/11610 [==============================] - 1s 55us/sample - loss: 0.3674 - val_loss: 0.4042\n",
      "Epoch 28/100\n",
      "11610/11610 [==============================] - 1s 54us/sample - loss: 0.3666 - val_loss: 0.3520\n",
      "Epoch 29/100\n",
      "11610/11610 [==============================] - 1s 57us/sample - loss: 0.3649 - val_loss: 0.4091\n",
      "Epoch 30/100\n",
      "11610/11610 [==============================] - 1s 53us/sample - loss: 0.3645 - val_loss: 0.3916\n",
      "Epoch 31/100\n",
      "11610/11610 [==============================] - 1s 55us/sample - loss: 0.3636 - val_loss: 0.3426\n",
      "Epoch 32/100\n",
      "11610/11610 [==============================] - 1s 53us/sample - loss: 0.3626 - val_loss: 0.3516\n",
      "Epoch 33/100\n",
      "11610/11610 [==============================] - 1s 55us/sample - loss: 0.3616 - val_loss: 0.3830\n",
      "Epoch 34/100\n",
      "11610/11610 [==============================] - 1s 53us/sample - loss: 0.3613 - val_loss: 0.3411\n",
      "Epoch 35/100\n",
      "11610/11610 [==============================] - 1s 55us/sample - loss: 0.3600 - val_loss: 0.3656\n",
      "Epoch 36/100\n",
      "11610/11610 [==============================] - 1s 55us/sample - loss: 0.3593 - val_loss: 0.3402\n",
      "Epoch 37/100\n",
      "11610/11610 [==============================] - 1s 53us/sample - loss: 0.3583 - val_loss: 0.3949\n",
      "Epoch 38/100\n",
      "11610/11610 [==============================] - 1s 56us/sample - loss: 0.3578 - val_loss: 0.3376\n",
      "Epoch 39/100\n",
      "11610/11610 [==============================] - 1s 55us/sample - loss: 0.3563 - val_loss: 0.4037\n",
      "Epoch 40/100\n",
      "11610/11610 [==============================] - 1s 54us/sample - loss: 0.3567 - val_loss: 0.3391\n",
      "Epoch 41/100\n",
      "11610/11610 [==============================] - 1s 54us/sample - loss: 0.3553 - val_loss: 0.4146\n",
      "Epoch 42/100\n",
      "11610/11610 [==============================] - 1s 53us/sample - loss: 0.3552 - val_loss: 0.3376\n",
      "Epoch 43/100\n",
      "11610/11610 [==============================] - 1s 58us/sample - loss: 0.3539 - val_loss: 0.3486\n",
      "Epoch 44/100\n",
      "11610/11610 [==============================] - 1s 58us/sample - loss: 0.3533 - val_loss: 0.3355\n",
      "Epoch 45/100\n",
      "11610/11610 [==============================] - 1s 63us/sample - loss: 0.3529 - val_loss: 0.3329\n",
      "Epoch 46/100\n",
      "11610/11610 [==============================] - 1s 55us/sample - loss: 0.3522 - val_loss: 0.3393\n",
      "Epoch 47/100\n",
      "11610/11610 [==============================] - 1s 58us/sample - loss: 0.3510 - val_loss: 0.4173\n",
      "Epoch 48/100\n",
      "11610/11610 [==============================] - 1s 53us/sample - loss: 0.3515 - val_loss: 0.3759\n",
      "Epoch 49/100\n",
      "11610/11610 [==============================] - 1s 53us/sample - loss: 0.3506 - val_loss: 0.4286\n",
      "Epoch 50/100\n",
      "11610/11610 [==============================] - 1s 53us/sample - loss: 0.3506 - val_loss: 0.4004\n",
      "Epoch 51/100\n",
      "11610/11610 [==============================] - 1s 53us/sample - loss: 0.3501 - val_loss: 0.3299\n",
      "Epoch 52/100\n",
      "11610/11610 [==============================] - 1s 56us/sample - loss: 0.3495 - val_loss: 0.3299\n",
      "Epoch 53/100\n",
      "11610/11610 [==============================] - 1s 54us/sample - loss: 0.3485 - val_loss: 0.3600\n",
      "Epoch 54/100\n",
      "11610/11610 [==============================] - 1s 53us/sample - loss: 0.3479 - val_loss: 0.3423\n",
      "Epoch 55/100\n",
      "11610/11610 [==============================] - 1s 52us/sample - loss: 0.3475 - val_loss: 0.3751\n",
      "Epoch 56/100\n",
      "11610/11610 [==============================] - 1s 54us/sample - loss: 0.3472 - val_loss: 0.4234\n",
      "Epoch 57/100\n",
      "11610/11610 [==============================] - 1s 53us/sample - loss: 0.3474 - val_loss: 0.3725\n",
      "Epoch 58/100\n",
      "11610/11610 [==============================] - 1s 55us/sample - loss: 0.3464 - val_loss: 0.3453\n",
      "Epoch 59/100\n",
      "11610/11610 [==============================] - 1s 53us/sample - loss: 0.3457 - val_loss: 0.3601\n",
      "Epoch 60/100\n",
      "11610/11610 [==============================] - 1s 53us/sample - loss: 0.3451 - val_loss: 0.4280\n",
      "Epoch 61/100\n",
      "11610/11610 [==============================] - 1s 53us/sample - loss: 0.3457 - val_loss: 0.3647\n",
      "Epoch 62/100\n",
      "11610/11610 [==============================] - 1s 53us/sample - loss: 0.3442 - val_loss: 0.4654\n"
     ]
    },
    {
     "data": {
      "text/plain": [
       "<tensorflow.python.keras.callbacks.History at 0x153824dd448>"
      ]
     },
     "execution_count": 165,
     "metadata": {},
     "output_type": "execute_result"
    }
   ],
   "source": [
    "keras_reg.fit(X_train, y_train, epochs=100,\n",
    "              validation_data=(X_valid, y_valid),\n",
    "              callbacks=[keras.callbacks.EarlyStopping(patience=10)])"
   ]
  },
  {
   "cell_type": "code",
   "execution_count": 166,
   "metadata": {},
   "outputs": [
    {
     "name": "stdout",
     "output_type": "stream",
     "text": [
      "5160/5160 [==============================] - 0s 27us/sample - loss: 0.3473\n"
     ]
    }
   ],
   "source": [
    "mse_test = keras_reg.score(X_test, y_test)"
   ]
  },
  {
   "cell_type": "code",
   "execution_count": 167,
   "metadata": {},
   "outputs": [],
   "source": [
    "y_pred = keras_reg.predict(X_new)"
   ]
  },
  {
   "cell_type": "code",
   "execution_count": 168,
   "metadata": {},
   "outputs": [],
   "source": [
    "np.random.seed(42)\n",
    "tf.random.set_seed(42)"
   ]
  },
  {
   "cell_type": "markdown",
   "metadata": {},
   "source": [
    "**Warning**: the following cell crashes at the end of training. This seems to be caused by [Keras issue #13586](https://github.com/keras-team/keras/issues/13586), which was triggered by a recent change in Scikit-Learn. [Pull Request #13598](https://github.com/keras-team/keras/pull/13598) seems to fix the issue, so this problem should be resolved soon."
   ]
  },
  {
   "cell_type": "code",
   "execution_count": 169,
   "metadata": {},
   "outputs": [
    {
     "name": "stdout",
     "output_type": "stream",
     "text": [
      "Fitting 3 folds for each of 10 candidates, totalling 30 fits\n",
      "[CV] learning_rate=0.001683454924600351, n_hidden=0, n_neurons=15 ....\n",
      "Train on 7740 samples, validate on 3870 samples\n",
      "Epoch 1/100\n",
      "  32/7740 [..............................] - ETA: 28s - loss: 6.7379"
     ]
    },
    {
     "name": "stderr",
     "output_type": "stream",
     "text": [
      "[Parallel(n_jobs=1)]: Using backend SequentialBackend with 1 concurrent workers.\n"
     ]
    },
    {
     "name": "stdout",
     "output_type": "stream",
     "text": [
      "7740/7740 [==============================] - 1s 72us/sample - loss: 3.5574 - val_loss: 1.8536\n",
      "Epoch 2/100\n",
      "7740/7740 [==============================] - 0s 54us/sample - loss: 1.3316 - val_loss: 0.9380\n",
      "Epoch 3/100\n",
      "7740/7740 [==============================] - 0s 54us/sample - loss: 0.8573 - val_loss: 0.8545\n",
      "Epoch 4/100\n",
      "7740/7740 [==============================] - 0s 54us/sample - loss: 0.7344 - val_loss: 0.9545\n",
      "Epoch 5/100\n",
      "7740/7740 [==============================] - 0s 54us/sample - loss: 0.6943 - val_loss: 0.7248\n",
      "Epoch 6/100\n",
      "7740/7740 [==============================] - 0s 54us/sample - loss: 0.6682 - val_loss: 0.7356\n",
      "Epoch 7/100\n",
      "7740/7740 [==============================] - 0s 53us/sample - loss: 0.6494 - val_loss: 0.9732\n",
      "Epoch 8/100\n",
      "7740/7740 [==============================] - 0s 56us/sample - loss: 0.6408 - val_loss: 0.6175\n",
      "Epoch 9/100\n",
      "7740/7740 [==============================] - 0s 55us/sample - loss: 0.6256 - val_loss: 0.5877\n",
      "Epoch 10/100\n",
      "7740/7740 [==============================] - 0s 55us/sample - loss: 0.6149 - val_loss: 0.6164\n",
      "Epoch 11/100\n",
      "7740/7740 [==============================] - 0s 54us/sample - loss: 0.6058 - val_loss: 0.5851\n",
      "Epoch 12/100\n",
      "7740/7740 [==============================] - 0s 55us/sample - loss: 0.5961 - val_loss: 0.7040\n",
      "Epoch 13/100\n",
      "7740/7740 [==============================] - 0s 57us/sample - loss: 0.5905 - val_loss: 0.5594\n",
      "Epoch 14/100\n",
      "7740/7740 [==============================] - 0s 59us/sample - loss: 0.5797 - val_loss: 0.8668\n",
      "Epoch 15/100\n",
      "7740/7740 [==============================] - 0s 55us/sample - loss: 0.5764 - val_loss: 0.9031\n",
      "Epoch 16/100\n",
      "7740/7740 [==============================] - 0s 55us/sample - loss: 0.5745 - val_loss: 0.5583\n",
      "Epoch 17/100\n",
      "7740/7740 [==============================] - 0s 57us/sample - loss: 0.5635 - val_loss: 0.9090\n",
      "Epoch 18/100\n",
      "7740/7740 [==============================] - 0s 59us/sample - loss: 0.5639 - val_loss: 0.7540\n",
      "Epoch 19/100\n",
      "7740/7740 [==============================] - 0s 60us/sample - loss: 0.5608 - val_loss: 0.5828\n",
      "Epoch 20/100\n",
      "7740/7740 [==============================] - 0s 60us/sample - loss: 0.5562 - val_loss: 0.5237\n",
      "Epoch 21/100\n",
      "7740/7740 [==============================] - 0s 57us/sample - loss: 0.5528 - val_loss: 0.5610\n",
      "Epoch 22/100\n",
      "7740/7740 [==============================] - 0s 55us/sample - loss: 0.5497 - val_loss: 0.6307\n",
      "Epoch 23/100\n",
      "7740/7740 [==============================] - 0s 57us/sample - loss: 0.5466 - val_loss: 0.7470\n",
      "Epoch 24/100\n",
      "7740/7740 [==============================] - 0s 54us/sample - loss: 0.5477 - val_loss: 0.5209\n",
      "Epoch 25/100\n",
      "7740/7740 [==============================] - 0s 54us/sample - loss: 0.5416 - val_loss: 0.7251\n",
      "Epoch 26/100\n",
      "7740/7740 [==============================] - 0s 54us/sample - loss: 0.5432 - val_loss: 0.6298\n",
      "Epoch 27/100\n",
      "7740/7740 [==============================] - 0s 54us/sample - loss: 0.5390 - val_loss: 0.8002\n",
      "Epoch 28/100\n",
      "7740/7740 [==============================] - 0s 53us/sample - loss: 0.5417 - val_loss: 0.5708\n",
      "Epoch 29/100\n",
      "7740/7740 [==============================] - 0s 53us/sample - loss: 0.5380 - val_loss: 0.5888\n",
      "Epoch 30/100\n",
      "7740/7740 [==============================] - 0s 54us/sample - loss: 0.5356 - val_loss: 0.7386\n",
      "Epoch 31/100\n",
      "7740/7740 [==============================] - 0s 54us/sample - loss: 0.5382 - val_loss: 0.5329\n",
      "Epoch 32/100\n",
      "7740/7740 [==============================] - 0s 57us/sample - loss: 0.5334 - val_loss: 0.7252\n",
      "Epoch 33/100\n",
      "7740/7740 [==============================] - 0s 54us/sample - loss: 0.5364 - val_loss: 0.5224\n",
      "Epoch 34/100\n",
      "7740/7740 [==============================] - 0s 54us/sample - loss: 0.5339 - val_loss: 0.5262\n",
      "3870/3870 [==============================] - 0s 26us/sample - loss: 0.5463\n",
      "[CV]  learning_rate=0.001683454924600351, n_hidden=0, n_neurons=15, total=  14.9s\n",
      "[CV] learning_rate=0.001683454924600351, n_hidden=0, n_neurons=15 ....\n",
      "Train on 7740 samples, validate on 3870 samples\n",
      "Epoch 1/100\n"
     ]
    },
    {
     "name": "stderr",
     "output_type": "stream",
     "text": [
      "[Parallel(n_jobs=1)]: Done   1 out of   1 | elapsed:   14.8s remaining:    0.0s\n"
     ]
    },
    {
     "name": "stdout",
     "output_type": "stream",
     "text": [
      "7740/7740 [==============================] - 1s 86us/sample - loss: 3.5541 - val_loss: 23.2063\n",
      "Epoch 2/100\n",
      "7740/7740 [==============================] - 0s 54us/sample - loss: 1.4756 - val_loss: 10.9096\n",
      "Epoch 3/100\n",
      "7740/7740 [==============================] - 0s 55us/sample - loss: 1.0159 - val_loss: 4.5194\n",
      "Epoch 4/100\n",
      "7740/7740 [==============================] - 0s 54us/sample - loss: 0.8738 - val_loss: 1.5793\n",
      "Epoch 5/100\n",
      "7740/7740 [==============================] - 0s 55us/sample - loss: 0.8034 - val_loss: 0.7218\n",
      "Epoch 6/100\n",
      "7740/7740 [==============================] - 0s 54us/sample - loss: 0.7549 - val_loss: 1.1511\n",
      "Epoch 7/100\n",
      "7740/7740 [==============================] - 0s 54us/sample - loss: 0.7166 - val_loss: 2.3325\n",
      "Epoch 8/100\n",
      "7740/7740 [==============================] - 0s 53us/sample - loss: 0.6854 - val_loss: 3.9493\n",
      "Epoch 9/100\n",
      "7740/7740 [==============================] - 0s 57us/sample - loss: 0.6593 - val_loss: 5.7393\n",
      "Epoch 10/100\n",
      "7740/7740 [==============================] - 0s 55us/sample - loss: 0.6375 - val_loss: 7.6052\n",
      "Epoch 11/100\n",
      "7740/7740 [==============================] - 0s 56us/sample - loss: 0.6190 - val_loss: 9.3527\n",
      "Epoch 12/100\n",
      "7740/7740 [==============================] - 0s 54us/sample - loss: 0.6033 - val_loss: 11.0010\n",
      "Epoch 13/100\n",
      "7740/7740 [==============================] - 0s 53us/sample - loss: 0.5898 - val_loss: 12.6250\n",
      "Epoch 14/100\n",
      "7740/7740 [==============================] - 0s 54us/sample - loss: 0.5783 - val_loss: 13.9778\n",
      "Epoch 15/100\n",
      "7740/7740 [==============================] - 0s 54us/sample - loss: 0.5684 - val_loss: 15.1585\n",
      "3870/3870 [==============================] - 0s 25us/sample - loss: 0.9136\n",
      "[CV]  learning_rate=0.001683454924600351, n_hidden=0, n_neurons=15, total=   6.7s\n",
      "[CV] learning_rate=0.001683454924600351, n_hidden=0, n_neurons=15 ....\n",
      "Train on 7740 samples, validate on 3870 samples\n",
      "Epoch 1/100\n",
      "7740/7740 [==============================] - 1s 72us/sample - loss: 3.2309 - val_loss: 1.4092\n",
      "Epoch 2/100\n",
      "7740/7740 [==============================] - 0s 53us/sample - loss: 0.9653 - val_loss: 0.7052\n",
      "Epoch 3/100\n",
      "7740/7740 [==============================] - 0s 56us/sample - loss: 0.6144 - val_loss: 0.7331\n",
      "Epoch 4/100\n",
      "7740/7740 [==============================] - 0s 54us/sample - loss: 0.5510 - val_loss: 0.5728\n",
      "Epoch 5/100\n",
      "7740/7740 [==============================] - 0s 56us/sample - loss: 0.5343 - val_loss: 0.7233\n",
      "Epoch 6/100\n",
      "7740/7740 [==============================] - 0s 57us/sample - loss: 0.5342 - val_loss: 0.6482\n",
      "Epoch 7/100\n",
      "7740/7740 [==============================] - 0s 54us/sample - loss: 0.5322 - val_loss: 0.6808\n",
      "Epoch 8/100\n",
      "7740/7740 [==============================] - 0s 54us/sample - loss: 0.5310 - val_loss: 0.7642\n",
      "Epoch 9/100\n",
      "7740/7740 [==============================] - 0s 54us/sample - loss: 0.5310 - val_loss: 0.8269\n",
      "Epoch 10/100\n",
      "7740/7740 [==============================] - 0s 57us/sample - loss: 0.5318 - val_loss: 0.8031\n",
      "Epoch 11/100\n",
      "7740/7740 [==============================] - 0s 56us/sample - loss: 0.5335 - val_loss: 0.5911\n",
      "Epoch 12/100\n",
      "7740/7740 [==============================] - 0s 54us/sample - loss: 0.5310 - val_loss: 0.6315\n",
      "Epoch 13/100\n",
      "7740/7740 [==============================] - 0s 54us/sample - loss: 0.5319 - val_loss: 0.4982\n",
      "Epoch 14/100\n",
      "7740/7740 [==============================] - 0s 54us/sample - loss: 0.5308 - val_loss: 0.5125\n",
      "Epoch 15/100\n",
      "7740/7740 [==============================] - 0s 54us/sample - loss: 0.5309 - val_loss: 0.4935\n",
      "Epoch 16/100\n",
      "7740/7740 [==============================] - 0s 54us/sample - loss: 0.5303 - val_loss: 0.5501\n",
      "Epoch 17/100\n",
      "7740/7740 [==============================] - 0s 54us/sample - loss: 0.5289 - val_loss: 0.6833\n",
      "Epoch 18/100\n",
      "7740/7740 [==============================] - 0s 55us/sample - loss: 0.5320 - val_loss: 0.5203\n",
      "Epoch 19/100\n",
      "7740/7740 [==============================] - 0s 54us/sample - loss: 0.5297 - val_loss: 0.5818\n",
      "Epoch 20/100\n",
      "7740/7740 [==============================] - 0s 54us/sample - loss: 0.5290 - val_loss: 0.6962\n",
      "Epoch 21/100\n",
      "7740/7740 [==============================] - 0s 54us/sample - loss: 0.5309 - val_loss: 0.6175\n",
      "Epoch 22/100\n",
      "7740/7740 [==============================] - 0s 54us/sample - loss: 0.5303 - val_loss: 0.6093\n",
      "Epoch 23/100\n",
      "7740/7740 [==============================] - 0s 54us/sample - loss: 0.5301 - val_loss: 0.6215\n",
      "Epoch 24/100\n",
      "7740/7740 [==============================] - 0s 54us/sample - loss: 0.5308 - val_loss: 0.5782\n",
      "Epoch 25/100\n",
      "7740/7740 [==============================] - 0s 54us/sample - loss: 0.5302 - val_loss: 0.5895\n",
      "3870/3870 [==============================] - 0s 26us/sample - loss: 0.5308\n",
      "[CV]  learning_rate=0.001683454924600351, n_hidden=0, n_neurons=15, total=  10.8s\n",
      "[CV] learning_rate=0.008731907739399206, n_hidden=0, n_neurons=21 ....\n",
      "Train on 7740 samples, validate on 3870 samples\n",
      "Epoch 1/100\n",
      "7740/7740 [==============================] - 1s 71us/sample - loss: 1.4568 - val_loss: 10.1894\n",
      "Epoch 2/100\n",
      "7740/7740 [==============================] - 0s 53us/sample - loss: 0.6432 - val_loss: 0.8423\n",
      "Epoch 3/100\n",
      "7740/7740 [==============================] - 0s 53us/sample - loss: 0.5927 - val_loss: 0.5931\n",
      "Epoch 4/100\n",
      "7740/7740 [==============================] - 0s 54us/sample - loss: 0.5738 - val_loss: 0.9545\n",
      "Epoch 5/100\n",
      "7740/7740 [==============================] - 0s 54us/sample - loss: 0.6437 - val_loss: 26.9554\n",
      "Epoch 6/100\n",
      "7740/7740 [==============================] - 0s 55us/sample - loss: 0.6352 - val_loss: 49.8462\n",
      "Epoch 7/100\n",
      "7740/7740 [==============================] - 0s 55us/sample - loss: 2.0469 - val_loss: 161.2921\n",
      "Epoch 8/100\n",
      "7740/7740 [==============================] - 0s 54us/sample - loss: 1.0236 - val_loss: 296.4886\n",
      "Epoch 9/100\n",
      "7740/7740 [==============================] - 0s 54us/sample - loss: 2.0422 - val_loss: 1833.9162\n",
      "Epoch 10/100\n",
      "7740/7740 [==============================] - 0s 54us/sample - loss: 10.1617 - val_loss: 6133.6753\n",
      "Epoch 11/100\n",
      "7740/7740 [==============================] - 0s 56us/sample - loss: 37.8905 - val_loss: 26555.5950\n",
      "Epoch 12/100\n",
      "7740/7740 [==============================] - 0s 57us/sample - loss: 252.6463 - val_loss: 101523.1948\n",
      "Epoch 13/100\n",
      "7740/7740 [==============================] - 0s 55us/sample - loss: 492.7523 - val_loss: 415894.8615\n",
      "3870/3870 [==============================] - 0s 32us/sample - loss: 1144.4921\n",
      "[CV]  learning_rate=0.008731907739399206, n_hidden=0, n_neurons=21, total=   5.8s\n",
      "[CV] learning_rate=0.008731907739399206, n_hidden=0, n_neurons=21 ....\n",
      "Train on 7740 samples, validate on 3870 samples\n",
      "Epoch 1/100\n",
      "7740/7740 [==============================] - 1s 75us/sample - loss: 1.1508 - val_loss: 21.3931\n",
      "Epoch 2/100\n",
      "7740/7740 [==============================] - 0s 57us/sample - loss: 0.5340 - val_loss: 21.6021\n",
      "Epoch 3/100\n",
      "7740/7740 [==============================] - 0s 59us/sample - loss: 0.5226 - val_loss: 21.4140\n",
      "Epoch 4/100\n",
      "7740/7740 [==============================] - 0s 58us/sample - loss: 0.5148 - val_loss: 19.0061\n",
      "Epoch 5/100\n",
      "7740/7740 [==============================] - 0s 59us/sample - loss: 0.5125 - val_loss: 18.3419\n",
      "Epoch 6/100\n",
      "7740/7740 [==============================] - 0s 58us/sample - loss: 0.5082 - val_loss: 18.0573\n",
      "Epoch 7/100\n",
      "7740/7740 [==============================] - 0s 58us/sample - loss: 0.5050 - val_loss: 16.9085\n",
      "Epoch 8/100\n",
      "7740/7740 [==============================] - 0s 58us/sample - loss: 0.5058 - val_loss: 17.2824\n",
      "Epoch 9/100\n",
      "7740/7740 [==============================] - 0s 59us/sample - loss: 0.5057 - val_loss: 16.9900\n",
      "Epoch 10/100\n",
      "7740/7740 [==============================] - 0s 58us/sample - loss: 0.5035 - val_loss: 18.3345\n",
      "Epoch 11/100\n",
      "7740/7740 [==============================] - 0s 58us/sample - loss: 0.5045 - val_loss: 16.7249\n",
      "Epoch 12/100\n",
      "7740/7740 [==============================] - 0s 58us/sample - loss: 0.5023 - val_loss: 16.9628\n",
      "Epoch 13/100\n",
      "7740/7740 [==============================] - 0s 58us/sample - loss: 0.5023 - val_loss: 19.5300\n",
      "Epoch 14/100\n",
      "7740/7740 [==============================] - 0s 59us/sample - loss: 0.5022 - val_loss: 18.6929\n",
      "Epoch 15/100\n",
      "7740/7740 [==============================] - 0s 64us/sample - loss: 0.5031 - val_loss: 17.7248\n",
      "Epoch 16/100\n"
     ]
    },
    {
     "name": "stdout",
     "output_type": "stream",
     "text": [
      "7740/7740 [==============================] - 0s 56us/sample - loss: 0.5027 - val_loss: 20.9402\n",
      "Epoch 17/100\n",
      "7740/7740 [==============================] - 0s 54us/sample - loss: 0.5022 - val_loss: 20.5891\n",
      "Epoch 18/100\n",
      "7740/7740 [==============================] - 0s 57us/sample - loss: 0.5031 - val_loss: 20.7123\n",
      "Epoch 19/100\n",
      "7740/7740 [==============================] - 0s 57us/sample - loss: 0.5014 - val_loss: 17.3551\n",
      "Epoch 20/100\n",
      "7740/7740 [==============================] - 0s 55us/sample - loss: 0.5013 - val_loss: 20.4442\n",
      "Epoch 21/100\n",
      "7740/7740 [==============================] - 0s 55us/sample - loss: 0.5037 - val_loss: 20.7221\n",
      "3870/3870 [==============================] - 0s 25us/sample - loss: 1.0074\n",
      "[CV]  learning_rate=0.008731907739399206, n_hidden=0, n_neurons=21, total=   9.7s\n",
      "[CV] learning_rate=0.008731907739399206, n_hidden=0, n_neurons=21 ....\n",
      "Train on 7740 samples, validate on 3870 samples\n",
      "Epoch 1/100\n",
      "7740/7740 [==============================] - 1s 75us/sample - loss: 1.4056 - val_loss: 28.7777\n",
      "Epoch 2/100\n",
      "7740/7740 [==============================] - 0s 57us/sample - loss: 0.9238 - val_loss: 125.2706\n",
      "Epoch 3/100\n",
      "7740/7740 [==============================] - 0s 56us/sample - loss: 2.8216 - val_loss: 268.4826\n",
      "Epoch 4/100\n",
      "7740/7740 [==============================] - 0s 56us/sample - loss: 4.9607 - val_loss: 622.8711\n",
      "Epoch 5/100\n",
      "7740/7740 [==============================] - 0s 55us/sample - loss: 11.6930 - val_loss: 1247.5501\n",
      "Epoch 6/100\n",
      "7740/7740 [==============================] - 0s 54us/sample - loss: 16.1341 - val_loss: 2481.0875\n",
      "Epoch 7/100\n",
      "7740/7740 [==============================] - 0s 55us/sample - loss: 48.1242 - val_loss: 4792.8307\n",
      "Epoch 8/100\n",
      "7740/7740 [==============================] - 0s 54us/sample - loss: 119.1231 - val_loss: 8994.9915\n",
      "Epoch 9/100\n",
      "7740/7740 [==============================] - 0s 54us/sample - loss: 266.2209 - val_loss: 17774.0491\n",
      "Epoch 10/100\n",
      "7740/7740 [==============================] - 0s 55us/sample - loss: 489.5445 - val_loss: 33844.4423\n",
      "Epoch 11/100\n",
      "7740/7740 [==============================] - 0s 55us/sample - loss: 370.8844 - val_loss: 64184.8131\n",
      "3870/3870 [==============================] - 0s 26us/sample - loss: 65.7429\n",
      "[CV]  learning_rate=0.008731907739399206, n_hidden=0, n_neurons=21, total=   5.0s\n",
      "[CV] learning_rate=0.0006154014789262348, n_hidden=2, n_neurons=87 ...\n",
      "Train on 7740 samples, validate on 3870 samples\n",
      "Epoch 1/100\n",
      "7740/7740 [==============================] - 1s 83us/sample - loss: 2.4669 - val_loss: 5.0606\n",
      "Epoch 2/100\n",
      "7740/7740 [==============================] - 0s 62us/sample - loss: 1.1144 - val_loss: 1.4034\n",
      "Epoch 3/100\n",
      "7740/7740 [==============================] - 0s 62us/sample - loss: 0.8083 - val_loss: 0.7548\n",
      "Epoch 4/100\n",
      "7740/7740 [==============================] - 0s 62us/sample - loss: 0.7204 - val_loss: 0.6779\n",
      "Epoch 5/100\n",
      "7740/7740 [==============================] - 0s 63us/sample - loss: 0.6790 - val_loss: 0.6473\n",
      "Epoch 6/100\n",
      "7740/7740 [==============================] - 0s 62us/sample - loss: 0.6502 - val_loss: 0.6205\n",
      "Epoch 7/100\n",
      "7740/7740 [==============================] - 0s 63us/sample - loss: 0.6261 - val_loss: 0.6041\n",
      "Epoch 8/100\n",
      "7740/7740 [==============================] - 0s 62us/sample - loss: 0.6055 - val_loss: 0.5773\n",
      "Epoch 9/100\n",
      "7740/7740 [==============================] - 0s 62us/sample - loss: 0.5870 - val_loss: 0.5580\n",
      "Epoch 10/100\n",
      "7740/7740 [==============================] - 0s 62us/sample - loss: 0.5703 - val_loss: 0.5421\n",
      "Epoch 11/100\n",
      "7740/7740 [==============================] - 0s 62us/sample - loss: 0.5549 - val_loss: 0.5271\n",
      "Epoch 12/100\n",
      "7740/7740 [==============================] - 0s 62us/sample - loss: 0.5409 - val_loss: 0.5152\n",
      "Epoch 13/100\n",
      "7740/7740 [==============================] - 0s 63us/sample - loss: 0.5281 - val_loss: 0.5013\n",
      "Epoch 14/100\n",
      "7740/7740 [==============================] - 0s 63us/sample - loss: 0.5158 - val_loss: 0.4916\n",
      "Epoch 15/100\n",
      "7740/7740 [==============================] - 0s 62us/sample - loss: 0.5054 - val_loss: 0.4796\n",
      "Epoch 16/100\n",
      "7740/7740 [==============================] - 1s 66us/sample - loss: 0.4950 - val_loss: 0.4721\n",
      "Epoch 17/100\n",
      "7740/7740 [==============================] - 1s 65us/sample - loss: 0.4859 - val_loss: 0.4610\n",
      "Epoch 18/100\n",
      "7740/7740 [==============================] - 0s 62us/sample - loss: 0.4775 - val_loss: 0.4528\n",
      "Epoch 19/100\n",
      "7740/7740 [==============================] - 0s 62us/sample - loss: 0.4697 - val_loss: 0.4477\n",
      "Epoch 20/100\n",
      "7740/7740 [==============================] - 0s 63us/sample - loss: 0.4622 - val_loss: 0.4394\n",
      "Epoch 21/100\n",
      "7740/7740 [==============================] - 0s 63us/sample - loss: 0.4557 - val_loss: 0.4368\n",
      "Epoch 22/100\n",
      "7740/7740 [==============================] - 0s 63us/sample - loss: 0.4498 - val_loss: 0.4277\n",
      "Epoch 23/100\n",
      "7740/7740 [==============================] - 0s 64us/sample - loss: 0.4440 - val_loss: 0.4261\n",
      "Epoch 24/100\n",
      "7740/7740 [==============================] - 0s 63us/sample - loss: 0.4388 - val_loss: 0.4190\n",
      "Epoch 25/100\n",
      "7740/7740 [==============================] - 0s 62us/sample - loss: 0.4339 - val_loss: 0.4201\n",
      "Epoch 26/100\n",
      "7740/7740 [==============================] - 0s 62us/sample - loss: 0.4296 - val_loss: 0.4125\n",
      "Epoch 27/100\n",
      "7740/7740 [==============================] - 0s 62us/sample - loss: 0.4254 - val_loss: 0.4095\n",
      "Epoch 28/100\n",
      "7740/7740 [==============================] - 0s 64us/sample - loss: 0.4218 - val_loss: 0.4107\n",
      "Epoch 29/100\n",
      "7740/7740 [==============================] - 0s 62us/sample - loss: 0.4183 - val_loss: 0.4035\n",
      "Epoch 30/100\n",
      "7740/7740 [==============================] - 0s 61us/sample - loss: 0.4150 - val_loss: 0.4046\n",
      "Epoch 31/100\n",
      "7740/7740 [==============================] - 0s 62us/sample - loss: 0.4119 - val_loss: 0.4032\n",
      "Epoch 32/100\n",
      "7740/7740 [==============================] - 0s 62us/sample - loss: 0.4089 - val_loss: 0.4043\n",
      "Epoch 33/100\n",
      "7740/7740 [==============================] - 0s 63us/sample - loss: 0.4062 - val_loss: 0.3991\n",
      "Epoch 34/100\n",
      "7740/7740 [==============================] - 0s 63us/sample - loss: 0.4036 - val_loss: 0.4024\n",
      "Epoch 35/100\n",
      "7740/7740 [==============================] - 0s 62us/sample - loss: 0.4012 - val_loss: 0.3986\n",
      "Epoch 36/100\n",
      "7740/7740 [==============================] - 0s 64us/sample - loss: 0.3985 - val_loss: 0.3892\n",
      "Epoch 37/100\n",
      "7740/7740 [==============================] - 0s 62us/sample - loss: 0.3968 - val_loss: 0.3883\n",
      "Epoch 38/100\n",
      "7740/7740 [==============================] - 0s 62us/sample - loss: 0.3945 - val_loss: 0.3954\n",
      "Epoch 39/100\n",
      "7740/7740 [==============================] - 0s 63us/sample - loss: 0.3927 - val_loss: 0.3982\n",
      "Epoch 40/100\n",
      "7740/7740 [==============================] - 0s 63us/sample - loss: 0.3908 - val_loss: 0.3901\n",
      "Epoch 41/100\n",
      "7740/7740 [==============================] - 0s 62us/sample - loss: 0.3891 - val_loss: 0.3864\n",
      "Epoch 42/100\n",
      "7740/7740 [==============================] - 0s 62us/sample - loss: 0.3873 - val_loss: 0.3872\n",
      "Epoch 43/100\n",
      "7740/7740 [==============================] - 0s 62us/sample - loss: 0.3856 - val_loss: 0.3946\n",
      "Epoch 44/100\n",
      "7740/7740 [==============================] - 0s 62us/sample - loss: 0.3840 - val_loss: 0.3847\n",
      "Epoch 45/100\n",
      "7740/7740 [==============================] - 0s 62us/sample - loss: 0.3825 - val_loss: 0.3998\n",
      "Epoch 46/100\n",
      "7740/7740 [==============================] - 0s 63us/sample - loss: 0.3811 - val_loss: 0.3924\n",
      "Epoch 47/100\n",
      "7740/7740 [==============================] - 0s 62us/sample - loss: 0.3797 - val_loss: 0.4011\n",
      "Epoch 48/100\n",
      "7740/7740 [==============================] - 0s 62us/sample - loss: 0.3781 - val_loss: 0.3934\n",
      "Epoch 49/100\n",
      "7740/7740 [==============================] - 0s 62us/sample - loss: 0.3770 - val_loss: 0.3778\n",
      "Epoch 50/100\n",
      "7740/7740 [==============================] - 0s 62us/sample - loss: 0.3759 - val_loss: 0.3736\n",
      "Epoch 51/100\n",
      "7740/7740 [==============================] - 0s 62us/sample - loss: 0.3746 - val_loss: 0.3914\n",
      "Epoch 52/100\n",
      "7740/7740 [==============================] - 0s 63us/sample - loss: 0.3734 - val_loss: 0.3860\n",
      "Epoch 53/100\n",
      "7740/7740 [==============================] - 1s 66us/sample - loss: 0.3722 - val_loss: 0.3707\n",
      "Epoch 54/100\n",
      "7740/7740 [==============================] - 0s 63us/sample - loss: 0.3713 - val_loss: 0.3751\n",
      "Epoch 55/100\n"
     ]
    },
    {
     "name": "stdout",
     "output_type": "stream",
     "text": [
      "7740/7740 [==============================] - 0s 63us/sample - loss: 0.3700 - val_loss: 0.3698\n",
      "Epoch 56/100\n",
      "7740/7740 [==============================] - 0s 63us/sample - loss: 0.3691 - val_loss: 0.3854\n",
      "Epoch 57/100\n",
      "7740/7740 [==============================] - 0s 62us/sample - loss: 0.3682 - val_loss: 0.3874\n",
      "Epoch 58/100\n",
      "7740/7740 [==============================] - 0s 62us/sample - loss: 0.3670 - val_loss: 0.3942\n",
      "Epoch 59/100\n",
      "7740/7740 [==============================] - 0s 62us/sample - loss: 0.3663 - val_loss: 0.3820\n",
      "Epoch 60/100\n",
      "7740/7740 [==============================] - 0s 61us/sample - loss: 0.3654 - val_loss: 0.3882\n",
      "Epoch 61/100\n",
      "7740/7740 [==============================] - 0s 62us/sample - loss: 0.3644 - val_loss: 0.3778\n",
      "Epoch 62/100\n",
      "7740/7740 [==============================] - 0s 61us/sample - loss: 0.3634 - val_loss: 0.3693\n",
      "Epoch 63/100\n",
      "7740/7740 [==============================] - 0s 62us/sample - loss: 0.3628 - val_loss: 0.3735\n",
      "Epoch 64/100\n",
      "7740/7740 [==============================] - 0s 61us/sample - loss: 0.3619 - val_loss: 0.3698\n",
      "Epoch 65/100\n",
      "7740/7740 [==============================] - 0s 62us/sample - loss: 0.3610 - val_loss: 0.3746\n",
      "Epoch 66/100\n",
      "7740/7740 [==============================] - 0s 62us/sample - loss: 0.3603 - val_loss: 0.3765\n",
      "Epoch 67/100\n",
      "7740/7740 [==============================] - 0s 63us/sample - loss: 0.3596 - val_loss: 0.3653\n",
      "Epoch 68/100\n",
      "7740/7740 [==============================] - 0s 64us/sample - loss: 0.3588 - val_loss: 0.3680\n",
      "Epoch 69/100\n",
      "7740/7740 [==============================] - 0s 62us/sample - loss: 0.3579 - val_loss: 0.3830\n",
      "Epoch 70/100\n",
      "7740/7740 [==============================] - 0s 62us/sample - loss: 0.3574 - val_loss: 0.3663\n",
      "Epoch 71/100\n",
      "7740/7740 [==============================] - 0s 62us/sample - loss: 0.3565 - val_loss: 0.3689\n",
      "Epoch 72/100\n",
      "7740/7740 [==============================] - 0s 62us/sample - loss: 0.3560 - val_loss: 0.3617\n",
      "Epoch 73/100\n",
      "7740/7740 [==============================] - 0s 63us/sample - loss: 0.3553 - val_loss: 0.3784\n",
      "Epoch 74/100\n",
      "7740/7740 [==============================] - 0s 62us/sample - loss: 0.3544 - val_loss: 0.3937\n",
      "Epoch 75/100\n",
      "7740/7740 [==============================] - 0s 63us/sample - loss: 0.3541 - val_loss: 0.3823\n",
      "Epoch 76/100\n",
      "7740/7740 [==============================] - 0s 62us/sample - loss: 0.3535 - val_loss: 0.3627\n",
      "Epoch 77/100\n",
      "7740/7740 [==============================] - 0s 62us/sample - loss: 0.3528 - val_loss: 0.3579\n",
      "Epoch 78/100\n",
      "7740/7740 [==============================] - 0s 62us/sample - loss: 0.3520 - val_loss: 0.3700\n",
      "Epoch 79/100\n",
      "7740/7740 [==============================] - 0s 62us/sample - loss: 0.3515 - val_loss: 0.3779\n",
      "Epoch 80/100\n",
      "7740/7740 [==============================] - 0s 63us/sample - loss: 0.3509 - val_loss: 0.3745\n",
      "Epoch 81/100\n",
      "7740/7740 [==============================] - 0s 62us/sample - loss: 0.3504 - val_loss: 0.3706\n",
      "Epoch 82/100\n",
      "7740/7740 [==============================] - 0s 63us/sample - loss: 0.3499 - val_loss: 0.3728\n",
      "Epoch 83/100\n",
      "7740/7740 [==============================] - 0s 62us/sample - loss: 0.3493 - val_loss: 0.3853\n",
      "Epoch 84/100\n",
      "7740/7740 [==============================] - 0s 63us/sample - loss: 0.3488 - val_loss: 0.3726\n",
      "Epoch 85/100\n",
      "7740/7740 [==============================] - 0s 62us/sample - loss: 0.3482 - val_loss: 0.3586\n",
      "Epoch 86/100\n",
      "7740/7740 [==============================] - 0s 62us/sample - loss: 0.3476 - val_loss: 0.3789\n",
      "Epoch 87/100\n",
      "7740/7740 [==============================] - 0s 62us/sample - loss: 0.3469 - val_loss: 0.3836\n",
      "3870/3870 [==============================] - 0s 28us/sample - loss: 0.3691\n",
      "[CV]  learning_rate=0.0006154014789262348, n_hidden=2, n_neurons=87, total=  42.4s\n",
      "[CV] learning_rate=0.0006154014789262348, n_hidden=2, n_neurons=87 ...\n",
      "Train on 7740 samples, validate on 3870 samples\n",
      "Epoch 1/100\n",
      "7740/7740 [==============================] - 1s 84us/sample - loss: 2.7764 - val_loss: 17.7273\n",
      "Epoch 2/100\n",
      "7740/7740 [==============================] - 0s 63us/sample - loss: 1.1021 - val_loss: 14.8833\n",
      "Epoch 3/100\n",
      "7740/7740 [==============================] - 0s 63us/sample - loss: 0.8031 - val_loss: 10.7757\n",
      "Epoch 4/100\n",
      "7740/7740 [==============================] - 0s 63us/sample - loss: 0.7045 - val_loss: 7.9756\n",
      "Epoch 5/100\n",
      "7740/7740 [==============================] - 0s 63us/sample - loss: 0.6578 - val_loss: 6.0529\n",
      "Epoch 6/100\n",
      "7740/7740 [==============================] - 0s 63us/sample - loss: 0.6260 - val_loss: 4.7215\n",
      "Epoch 7/100\n",
      "7740/7740 [==============================] - 0s 63us/sample - loss: 0.6005 - val_loss: 3.5591\n",
      "Epoch 8/100\n",
      "7740/7740 [==============================] - 0s 63us/sample - loss: 0.5789 - val_loss: 2.8484\n",
      "Epoch 9/100\n",
      "7740/7740 [==============================] - 0s 62us/sample - loss: 0.5598 - val_loss: 2.1834\n",
      "Epoch 10/100\n",
      "7740/7740 [==============================] - 0s 64us/sample - loss: 0.5433 - val_loss: 1.8093\n",
      "Epoch 11/100\n",
      "7740/7740 [==============================] - 0s 64us/sample - loss: 0.5284 - val_loss: 1.4123\n",
      "Epoch 12/100\n",
      "7740/7740 [==============================] - 1s 68us/sample - loss: 0.5151 - val_loss: 1.1408\n",
      "Epoch 13/100\n",
      "7740/7740 [==============================] - 1s 65us/sample - loss: 0.5037 - val_loss: 0.9795\n",
      "Epoch 14/100\n",
      "7740/7740 [==============================] - 0s 63us/sample - loss: 0.4931 - val_loss: 0.8257\n",
      "Epoch 15/100\n",
      "7740/7740 [==============================] - 1s 65us/sample - loss: 0.4838 - val_loss: 0.7039\n",
      "Epoch 16/100\n",
      "7740/7740 [==============================] - 0s 63us/sample - loss: 0.4755 - val_loss: 0.6402\n",
      "Epoch 17/100\n",
      "7740/7740 [==============================] - 0s 63us/sample - loss: 0.4679 - val_loss: 0.5641\n",
      "Epoch 18/100\n",
      "7740/7740 [==============================] - 0s 62us/sample - loss: 0.4611 - val_loss: 0.5326\n",
      "Epoch 19/100\n",
      "7740/7740 [==============================] - 0s 62us/sample - loss: 0.4550 - val_loss: 0.4901\n",
      "Epoch 20/100\n",
      "7740/7740 [==============================] - 0s 62us/sample - loss: 0.4492 - val_loss: 0.4640\n",
      "Epoch 21/100\n",
      "7740/7740 [==============================] - 0s 62us/sample - loss: 0.4443 - val_loss: 0.4593\n",
      "Epoch 22/100\n",
      "7740/7740 [==============================] - 0s 63us/sample - loss: 0.4396 - val_loss: 0.4449\n",
      "Epoch 23/100\n",
      "7740/7740 [==============================] - 0s 65us/sample - loss: 0.4353 - val_loss: 0.4364\n",
      "Epoch 24/100\n",
      "7740/7740 [==============================] - 0s 62us/sample - loss: 0.4313 - val_loss: 0.4345\n",
      "Epoch 25/100\n",
      "7740/7740 [==============================] - 0s 62us/sample - loss: 0.4276 - val_loss: 0.4275\n",
      "Epoch 26/100\n",
      "7740/7740 [==============================] - 0s 62us/sample - loss: 0.4240 - val_loss: 0.4316\n",
      "Epoch 27/100\n",
      "7740/7740 [==============================] - 0s 62us/sample - loss: 0.4209 - val_loss: 0.4256\n",
      "Epoch 28/100\n",
      "7740/7740 [==============================] - 0s 63us/sample - loss: 0.4180 - val_loss: 0.4302\n",
      "Epoch 29/100\n",
      "7740/7740 [==============================] - 0s 62us/sample - loss: 0.4152 - val_loss: 0.4260\n",
      "Epoch 30/100\n",
      "7740/7740 [==============================] - 0s 62us/sample - loss: 0.4125 - val_loss: 0.4350\n",
      "Epoch 31/100\n",
      "7740/7740 [==============================] - 0s 62us/sample - loss: 0.4099 - val_loss: 0.4413\n",
      "Epoch 32/100\n",
      "7740/7740 [==============================] - 0s 62us/sample - loss: 0.4076 - val_loss: 0.4439\n",
      "Epoch 33/100\n",
      "7740/7740 [==============================] - 0s 62us/sample - loss: 0.4052 - val_loss: 0.4513\n",
      "Epoch 34/100\n",
      "7740/7740 [==============================] - 0s 62us/sample - loss: 0.4029 - val_loss: 0.4671\n",
      "Epoch 35/100\n",
      "7740/7740 [==============================] - 0s 62us/sample - loss: 0.4010 - val_loss: 0.4686\n",
      "Epoch 36/100\n",
      "7740/7740 [==============================] - 0s 62us/sample - loss: 0.3988 - val_loss: 0.4745\n",
      "Epoch 37/100\n",
      "7740/7740 [==============================] - 1s 67us/sample - loss: 0.3971 - val_loss: 0.4899\n",
      "3870/3870 [==============================] - 0s 30us/sample - loss: 0.4098\n",
      "[CV]  learning_rate=0.0006154014789262348, n_hidden=2, n_neurons=87, total=  18.4s\n",
      "[CV] learning_rate=0.0006154014789262348, n_hidden=2, n_neurons=87 ...\n",
      "Train on 7740 samples, validate on 3870 samples\n",
      "Epoch 1/100\n",
      "7740/7740 [==============================] - 1s 84us/sample - loss: 2.8244 - val_loss: 4.9928\n",
      "Epoch 2/100\n"
     ]
    },
    {
     "name": "stdout",
     "output_type": "stream",
     "text": [
      "7740/7740 [==============================] - 0s 62us/sample - loss: 1.1397 - val_loss: 1.1758\n",
      "Epoch 3/100\n",
      "7740/7740 [==============================] - 0s 61us/sample - loss: 0.8399 - val_loss: 0.8181\n",
      "Epoch 4/100\n",
      "7740/7740 [==============================] - 0s 61us/sample - loss: 0.7621 - val_loss: 0.7366\n",
      "Epoch 5/100\n",
      "7740/7740 [==============================] - 0s 62us/sample - loss: 0.7220 - val_loss: 0.6865\n",
      "Epoch 6/100\n",
      "7740/7740 [==============================] - 0s 62us/sample - loss: 0.6927 - val_loss: 0.6574\n",
      "Epoch 7/100\n",
      "7740/7740 [==============================] - 0s 62us/sample - loss: 0.6684 - val_loss: 0.6344\n",
      "Epoch 8/100\n",
      "7740/7740 [==============================] - 1s 68us/sample - loss: 0.6467 - val_loss: 0.6140\n",
      "Epoch 9/100\n",
      "7740/7740 [==============================] - 0s 63us/sample - loss: 0.6270 - val_loss: 0.5933\n",
      "Epoch 10/100\n",
      "7740/7740 [==============================] - 0s 63us/sample - loss: 0.6087 - val_loss: 0.5820\n",
      "Epoch 11/100\n",
      "7740/7740 [==============================] - 0s 63us/sample - loss: 0.5914 - val_loss: 0.5628\n",
      "Epoch 12/100\n",
      "7740/7740 [==============================] - 0s 64us/sample - loss: 0.5756 - val_loss: 0.5565\n",
      "Epoch 13/100\n",
      "7740/7740 [==============================] - 0s 62us/sample - loss: 0.5606 - val_loss: 0.5512\n",
      "Epoch 14/100\n",
      "7740/7740 [==============================] - 0s 63us/sample - loss: 0.5470 - val_loss: 0.5477\n",
      "Epoch 15/100\n",
      "7740/7740 [==============================] - 0s 62us/sample - loss: 0.5345 - val_loss: 0.5238\n",
      "Epoch 16/100\n",
      "7740/7740 [==============================] - 0s 62us/sample - loss: 0.5229 - val_loss: 0.5164\n",
      "Epoch 17/100\n",
      "7740/7740 [==============================] - 0s 62us/sample - loss: 0.5122 - val_loss: 0.4974\n",
      "Epoch 18/100\n",
      "7740/7740 [==============================] - 0s 62us/sample - loss: 0.5021 - val_loss: 0.4972\n",
      "Epoch 19/100\n",
      "7740/7740 [==============================] - 0s 62us/sample - loss: 0.4932 - val_loss: 0.4757\n",
      "Epoch 20/100\n",
      "7740/7740 [==============================] - 0s 62us/sample - loss: 0.4848 - val_loss: 0.4819\n",
      "Epoch 21/100\n",
      "7740/7740 [==============================] - 0s 62us/sample - loss: 0.4772 - val_loss: 0.4767\n",
      "Epoch 22/100\n",
      "7740/7740 [==============================] - 0s 63us/sample - loss: 0.4702 - val_loss: 0.4618\n",
      "Epoch 23/100\n",
      "7740/7740 [==============================] - 0s 62us/sample - loss: 0.4636 - val_loss: 0.4468\n",
      "Epoch 24/100\n",
      "7740/7740 [==============================] - 0s 61us/sample - loss: 0.4577 - val_loss: 0.4685\n",
      "Epoch 25/100\n",
      "7740/7740 [==============================] - 0s 62us/sample - loss: 0.4521 - val_loss: 0.4504\n",
      "Epoch 26/100\n",
      "7740/7740 [==============================] - 0s 63us/sample - loss: 0.4470 - val_loss: 0.4555\n",
      "Epoch 27/100\n",
      "7740/7740 [==============================] - 0s 62us/sample - loss: 0.4423 - val_loss: 0.4597\n",
      "Epoch 28/100\n",
      "7740/7740 [==============================] - 0s 62us/sample - loss: 0.4379 - val_loss: 0.4511\n",
      "Epoch 29/100\n",
      "7740/7740 [==============================] - 0s 61us/sample - loss: 0.4338 - val_loss: 0.4288\n",
      "Epoch 30/100\n",
      "7740/7740 [==============================] - 0s 62us/sample - loss: 0.4300 - val_loss: 0.4415\n",
      "Epoch 31/100\n",
      "7740/7740 [==============================] - 0s 62us/sample - loss: 0.4265 - val_loss: 0.4289\n",
      "Epoch 32/100\n",
      "7740/7740 [==============================] - 0s 63us/sample - loss: 0.4233 - val_loss: 0.4365\n",
      "Epoch 33/100\n",
      "7740/7740 [==============================] - 0s 62us/sample - loss: 0.4202 - val_loss: 0.4348\n",
      "Epoch 34/100\n",
      "7740/7740 [==============================] - 0s 62us/sample - loss: 0.4172 - val_loss: 0.4616\n",
      "Epoch 35/100\n",
      "7740/7740 [==============================] - 0s 62us/sample - loss: 0.4149 - val_loss: 0.4292\n",
      "Epoch 36/100\n",
      "7740/7740 [==============================] - 0s 62us/sample - loss: 0.4123 - val_loss: 0.4169\n",
      "Epoch 37/100\n",
      "7740/7740 [==============================] - 0s 62us/sample - loss: 0.4099 - val_loss: 0.4306\n",
      "Epoch 38/100\n",
      "7740/7740 [==============================] - 0s 62us/sample - loss: 0.4079 - val_loss: 0.4425\n",
      "Epoch 39/100\n",
      "7740/7740 [==============================] - 0s 62us/sample - loss: 0.4057 - val_loss: 0.4601\n",
      "Epoch 40/100\n",
      "7740/7740 [==============================] - 0s 62us/sample - loss: 0.4039 - val_loss: 0.4113\n",
      "Epoch 41/100\n",
      "7740/7740 [==============================] - 0s 62us/sample - loss: 0.4019 - val_loss: 0.4174\n",
      "Epoch 42/100\n",
      "7740/7740 [==============================] - 0s 62us/sample - loss: 0.4000 - val_loss: 0.4290\n",
      "Epoch 43/100\n",
      "7740/7740 [==============================] - 0s 62us/sample - loss: 0.3983 - val_loss: 0.4090\n",
      "Epoch 44/100\n",
      "7740/7740 [==============================] - 0s 64us/sample - loss: 0.3965 - val_loss: 0.4463\n",
      "Epoch 45/100\n",
      "7740/7740 [==============================] - 0s 62us/sample - loss: 0.3951 - val_loss: 0.4082\n",
      "Epoch 46/100\n",
      "7740/7740 [==============================] - 0s 62us/sample - loss: 0.3935 - val_loss: 0.4151\n",
      "Epoch 47/100\n",
      "7740/7740 [==============================] - 0s 63us/sample - loss: 0.3921 - val_loss: 0.4175\n",
      "Epoch 48/100\n",
      "7740/7740 [==============================] - 0s 62us/sample - loss: 0.3909 - val_loss: 0.4151\n",
      "Epoch 49/100\n",
      "7740/7740 [==============================] - 0s 62us/sample - loss: 0.3895 - val_loss: 0.4195\n",
      "Epoch 50/100\n",
      "7740/7740 [==============================] - 0s 62us/sample - loss: 0.3883 - val_loss: 0.3947\n",
      "Epoch 51/100\n",
      "7740/7740 [==============================] - 0s 62us/sample - loss: 0.3870 - val_loss: 0.3989\n",
      "Epoch 52/100\n",
      "7740/7740 [==============================] - 0s 62us/sample - loss: 0.3860 - val_loss: 0.3990\n",
      "Epoch 53/100\n",
      "7740/7740 [==============================] - 0s 64us/sample - loss: 0.3849 - val_loss: 0.3995\n",
      "Epoch 54/100\n",
      "7740/7740 [==============================] - 0s 62us/sample - loss: 0.3837 - val_loss: 0.3998\n",
      "Epoch 55/100\n",
      "7740/7740 [==============================] - 0s 62us/sample - loss: 0.3826 - val_loss: 0.4360\n",
      "Epoch 56/100\n",
      "7740/7740 [==============================] - 0s 62us/sample - loss: 0.3817 - val_loss: 0.4396\n",
      "Epoch 57/100\n",
      "7740/7740 [==============================] - 0s 62us/sample - loss: 0.3807 - val_loss: 0.4018\n",
      "Epoch 58/100\n",
      "7740/7740 [==============================] - 0s 62us/sample - loss: 0.3797 - val_loss: 0.4392\n",
      "Epoch 59/100\n",
      "7740/7740 [==============================] - 0s 62us/sample - loss: 0.3789 - val_loss: 0.4291\n",
      "Epoch 60/100\n",
      "7740/7740 [==============================] - 0s 62us/sample - loss: 0.3781 - val_loss: 0.4253\n",
      "3870/3870 [==============================] - 0s 28us/sample - loss: 0.3767\n",
      "[CV]  learning_rate=0.0006154014789262348, n_hidden=2, n_neurons=87, total=  29.3s\n",
      "[CV] learning_rate=0.0003920021771415983, n_hidden=3, n_neurons=24 ...\n",
      "Train on 7740 samples, validate on 3870 samples\n",
      "Epoch 1/100\n",
      "7740/7740 [==============================] - 1s 90us/sample - loss: 2.3872 - val_loss: 13.9258\n",
      "Epoch 2/100\n",
      "7740/7740 [==============================] - 1s 67us/sample - loss: 1.2068 - val_loss: 6.0674\n",
      "Epoch 3/100\n",
      "7740/7740 [==============================] - 1s 66us/sample - loss: 0.8942 - val_loss: 4.2789\n",
      "Epoch 4/100\n",
      "7740/7740 [==============================] - 1s 66us/sample - loss: 0.8105 - val_loss: 3.3544\n",
      "Epoch 5/100\n",
      "7740/7740 [==============================] - 1s 66us/sample - loss: 0.7686 - val_loss: 2.6742\n",
      "Epoch 6/100\n",
      "7740/7740 [==============================] - 1s 66us/sample - loss: 0.7406 - val_loss: 2.2971\n",
      "Epoch 7/100\n",
      "7740/7740 [==============================] - 1s 66us/sample - loss: 0.7187 - val_loss: 2.0216\n",
      "Epoch 8/100\n",
      "7740/7740 [==============================] - 1s 66us/sample - loss: 0.7000 - val_loss: 1.7849\n",
      "Epoch 9/100\n",
      "7740/7740 [==============================] - 1s 66us/sample - loss: 0.6825 - val_loss: 1.5810\n",
      "Epoch 10/100\n",
      "7740/7740 [==============================] - 1s 66us/sample - loss: 0.6676 - val_loss: 1.4502\n",
      "Epoch 11/100\n",
      "7740/7740 [==============================] - 1s 66us/sample - loss: 0.6530 - val_loss: 1.3239\n",
      "Epoch 12/100\n",
      "7740/7740 [==============================] - 1s 67us/sample - loss: 0.6398 - val_loss: 1.2281\n",
      "Epoch 13/100\n",
      "7740/7740 [==============================] - 1s 66us/sample - loss: 0.6268 - val_loss: 1.1328\n",
      "Epoch 14/100\n",
      "7740/7740 [==============================] - 1s 66us/sample - loss: 0.6144 - val_loss: 1.0549\n",
      "Epoch 15/100\n",
      "7740/7740 [==============================] - 1s 66us/sample - loss: 0.6030 - val_loss: 0.9907\n",
      "Epoch 16/100\n"
     ]
    },
    {
     "name": "stdout",
     "output_type": "stream",
     "text": [
      "7740/7740 [==============================] - 1s 66us/sample - loss: 0.5915 - val_loss: 0.9391\n",
      "Epoch 17/100\n",
      "7740/7740 [==============================] - 1s 66us/sample - loss: 0.5809 - val_loss: 0.8841\n",
      "Epoch 18/100\n",
      "7740/7740 [==============================] - 1s 66us/sample - loss: 0.5706 - val_loss: 0.8441\n",
      "Epoch 19/100\n",
      "7740/7740 [==============================] - 1s 65us/sample - loss: 0.5607 - val_loss: 0.8049\n",
      "Epoch 20/100\n",
      "7740/7740 [==============================] - 1s 65us/sample - loss: 0.5511 - val_loss: 0.7653\n",
      "Epoch 21/100\n",
      "7740/7740 [==============================] - 1s 66us/sample - loss: 0.5420 - val_loss: 0.7430\n",
      "Epoch 22/100\n",
      "7740/7740 [==============================] - 1s 65us/sample - loss: 0.5336 - val_loss: 0.7090\n",
      "Epoch 23/100\n",
      "7740/7740 [==============================] - 1s 66us/sample - loss: 0.5251 - val_loss: 0.6863\n",
      "Epoch 24/100\n",
      "7740/7740 [==============================] - 1s 66us/sample - loss: 0.5170 - val_loss: 0.6606\n",
      "Epoch 25/100\n",
      "7740/7740 [==============================] - 1s 65us/sample - loss: 0.5093 - val_loss: 0.6392\n",
      "Epoch 26/100\n",
      "7740/7740 [==============================] - 1s 66us/sample - loss: 0.5021 - val_loss: 0.6219\n",
      "Epoch 27/100\n",
      "7740/7740 [==============================] - 1s 66us/sample - loss: 0.4951 - val_loss: 0.6045\n",
      "Epoch 28/100\n",
      "7740/7740 [==============================] - 1s 66us/sample - loss: 0.4886 - val_loss: 0.5937\n",
      "Epoch 29/100\n",
      "7740/7740 [==============================] - 1s 66us/sample - loss: 0.4824 - val_loss: 0.5804\n",
      "Epoch 30/100\n",
      "7740/7740 [==============================] - 1s 66us/sample - loss: 0.4765 - val_loss: 0.5690\n",
      "Epoch 31/100\n",
      "7740/7740 [==============================] - 1s 68us/sample - loss: 0.4709 - val_loss: 0.5579\n",
      "Epoch 32/100\n",
      "7740/7740 [==============================] - 1s 66us/sample - loss: 0.4656 - val_loss: 0.5460\n",
      "Epoch 33/100\n",
      "7740/7740 [==============================] - 1s 66us/sample - loss: 0.4606 - val_loss: 0.5374\n",
      "Epoch 34/100\n",
      "7740/7740 [==============================] - 1s 66us/sample - loss: 0.4559 - val_loss: 0.5302\n",
      "Epoch 35/100\n",
      "7740/7740 [==============================] - 1s 66us/sample - loss: 0.4515 - val_loss: 0.5217\n",
      "Epoch 36/100\n",
      "7740/7740 [==============================] - 1s 66us/sample - loss: 0.4469 - val_loss: 0.5129\n",
      "Epoch 37/100\n",
      "7740/7740 [==============================] - 1s 66us/sample - loss: 0.4435 - val_loss: 0.5092\n",
      "Epoch 38/100\n",
      "7740/7740 [==============================] - 1s 66us/sample - loss: 0.4397 - val_loss: 0.5048\n",
      "Epoch 39/100\n",
      "7740/7740 [==============================] - 1s 66us/sample - loss: 0.4362 - val_loss: 0.4998\n",
      "Epoch 40/100\n",
      "7740/7740 [==============================] - 1s 66us/sample - loss: 0.4330 - val_loss: 0.4964\n",
      "Epoch 41/100\n",
      "7740/7740 [==============================] - 1s 66us/sample - loss: 0.4301 - val_loss: 0.4919\n",
      "Epoch 42/100\n",
      "7740/7740 [==============================] - 1s 66us/sample - loss: 0.4271 - val_loss: 0.4881\n",
      "Epoch 43/100\n",
      "7740/7740 [==============================] - 1s 66us/sample - loss: 0.4243 - val_loss: 0.4855\n",
      "Epoch 44/100\n",
      "7740/7740 [==============================] - 1s 65us/sample - loss: 0.4217 - val_loss: 0.4819\n",
      "Epoch 45/100\n",
      "7740/7740 [==============================] - 1s 66us/sample - loss: 0.4193 - val_loss: 0.4816\n",
      "Epoch 46/100\n",
      "7740/7740 [==============================] - 1s 66us/sample - loss: 0.4171 - val_loss: 0.4787\n",
      "Epoch 47/100\n",
      "7740/7740 [==============================] - 1s 66us/sample - loss: 0.4147 - val_loss: 0.4792\n",
      "Epoch 48/100\n",
      "7740/7740 [==============================] - 1s 66us/sample - loss: 0.4126 - val_loss: 0.4751\n",
      "Epoch 49/100\n",
      "7740/7740 [==============================] - 1s 66us/sample - loss: 0.4105 - val_loss: 0.4719\n",
      "Epoch 50/100\n",
      "7740/7740 [==============================] - 1s 66us/sample - loss: 0.4088 - val_loss: 0.4706\n",
      "Epoch 51/100\n",
      "7740/7740 [==============================] - 1s 69us/sample - loss: 0.4071 - val_loss: 0.4716\n",
      "Epoch 52/100\n",
      "7740/7740 [==============================] - 1s 66us/sample - loss: 0.4053 - val_loss: 0.4717\n",
      "Epoch 53/100\n",
      "7740/7740 [==============================] - 1s 66us/sample - loss: 0.4037 - val_loss: 0.4692\n",
      "Epoch 54/100\n",
      "7740/7740 [==============================] - 1s 66us/sample - loss: 0.4022 - val_loss: 0.4693\n",
      "Epoch 55/100\n",
      "7740/7740 [==============================] - 1s 66us/sample - loss: 0.4005 - val_loss: 0.4673\n",
      "Epoch 56/100\n",
      "7740/7740 [==============================] - 1s 66us/sample - loss: 0.3993 - val_loss: 0.4693\n",
      "Epoch 57/100\n",
      "7740/7740 [==============================] - 1s 66us/sample - loss: 0.3979 - val_loss: 0.4681\n",
      "Epoch 58/100\n",
      "7740/7740 [==============================] - 1s 66us/sample - loss: 0.3964 - val_loss: 0.4699\n",
      "Epoch 59/100\n",
      "7740/7740 [==============================] - 1s 66us/sample - loss: 0.3953 - val_loss: 0.4697\n",
      "Epoch 60/100\n",
      "7740/7740 [==============================] - 1s 66us/sample - loss: 0.3942 - val_loss: 0.4686\n",
      "Epoch 61/100\n",
      "7740/7740 [==============================] - 1s 66us/sample - loss: 0.3928 - val_loss: 0.4699\n",
      "Epoch 62/100\n",
      "7740/7740 [==============================] - 1s 66us/sample - loss: 0.3915 - val_loss: 0.4665\n",
      "Epoch 63/100\n",
      "7740/7740 [==============================] - 1s 66us/sample - loss: 0.3908 - val_loss: 0.4677\n",
      "Epoch 64/100\n",
      "7740/7740 [==============================] - 1s 66us/sample - loss: 0.3896 - val_loss: 0.4700\n",
      "Epoch 65/100\n",
      "7740/7740 [==============================] - 1s 66us/sample - loss: 0.3887 - val_loss: 0.4674\n",
      "Epoch 66/100\n",
      "7740/7740 [==============================] - 1s 65us/sample - loss: 0.3878 - val_loss: 0.4681\n",
      "Epoch 67/100\n",
      "7740/7740 [==============================] - 1s 66us/sample - loss: 0.3868 - val_loss: 0.4682\n",
      "Epoch 68/100\n",
      "7740/7740 [==============================] - 1s 66us/sample - loss: 0.3859 - val_loss: 0.4698\n",
      "Epoch 69/100\n",
      "7740/7740 [==============================] - 1s 66us/sample - loss: 0.3850 - val_loss: 0.4696\n",
      "Epoch 70/100\n",
      "7740/7740 [==============================] - 1s 66us/sample - loss: 0.3842 - val_loss: 0.4680\n",
      "Epoch 71/100\n",
      "7740/7740 [==============================] - 1s 67us/sample - loss: 0.3832 - val_loss: 0.4710\n",
      "Epoch 72/100\n",
      "7740/7740 [==============================] - 1s 67us/sample - loss: 0.3826 - val_loss: 0.4682\n",
      "3870/3870 [==============================] - 0s 29us/sample - loss: 0.3982\n",
      "[CV]  learning_rate=0.0003920021771415983, n_hidden=3, n_neurons=24, total=  37.2s\n",
      "[CV] learning_rate=0.0003920021771415983, n_hidden=3, n_neurons=24 ...\n",
      "Train on 7740 samples, validate on 3870 samples\n",
      "Epoch 1/100\n",
      "7740/7740 [==============================] - 1s 89us/sample - loss: 3.7649 - val_loss: 27.7303\n",
      "Epoch 2/100\n",
      "7740/7740 [==============================] - 1s 66us/sample - loss: 2.0518 - val_loss: 41.6834\n",
      "Epoch 3/100\n",
      "7740/7740 [==============================] - 1s 66us/sample - loss: 1.6095 - val_loss: 36.3809\n",
      "Epoch 4/100\n",
      "7740/7740 [==============================] - 1s 66us/sample - loss: 1.3573 - val_loss: 27.7242\n",
      "Epoch 5/100\n",
      "7740/7740 [==============================] - 1s 66us/sample - loss: 1.1658 - val_loss: 20.2997\n",
      "Epoch 6/100\n",
      "7740/7740 [==============================] - 1s 66us/sample - loss: 1.0236 - val_loss: 14.4998\n",
      "Epoch 7/100\n",
      "7740/7740 [==============================] - 1s 66us/sample - loss: 0.9247 - val_loss: 10.3206\n",
      "Epoch 8/100\n",
      "7740/7740 [==============================] - 1s 66us/sample - loss: 0.8582 - val_loss: 7.2174\n",
      "Epoch 9/100\n",
      "7740/7740 [==============================] - 1s 65us/sample - loss: 0.8127 - val_loss: 5.0609\n",
      "Epoch 10/100\n",
      "7740/7740 [==============================] - 1s 66us/sample - loss: 0.7805 - val_loss: 3.8504\n",
      "Epoch 11/100\n",
      "7740/7740 [==============================] - 1s 66us/sample - loss: 0.7553 - val_loss: 2.6823\n",
      "Epoch 12/100\n",
      "7740/7740 [==============================] - 1s 66us/sample - loss: 0.7345 - val_loss: 1.9608\n",
      "Epoch 13/100\n",
      "7740/7740 [==============================] - 1s 66us/sample - loss: 0.7165 - val_loss: 1.5395\n",
      "Epoch 14/100\n",
      "7740/7740 [==============================] - 1s 66us/sample - loss: 0.7000 - val_loss: 1.1988\n",
      "Epoch 15/100\n",
      "7740/7740 [==============================] - 1s 66us/sample - loss: 0.6849 - val_loss: 0.9615\n",
      "Epoch 16/100\n",
      "7740/7740 [==============================] - 1s 66us/sample - loss: 0.6712 - val_loss: 0.8662\n",
      "Epoch 17/100\n",
      "7740/7740 [==============================] - 1s 66us/sample - loss: 0.6581 - val_loss: 0.7126\n",
      "Epoch 18/100\n"
     ]
    },
    {
     "name": "stdout",
     "output_type": "stream",
     "text": [
      "7740/7740 [==============================] - 1s 66us/sample - loss: 0.6455 - val_loss: 0.6655\n",
      "Epoch 19/100\n",
      "7740/7740 [==============================] - 1s 66us/sample - loss: 0.6340 - val_loss: 0.5995\n",
      "Epoch 20/100\n",
      "7740/7740 [==============================] - 1s 65us/sample - loss: 0.6223 - val_loss: 0.5767\n",
      "Epoch 21/100\n",
      "7740/7740 [==============================] - 1s 65us/sample - loss: 0.6115 - val_loss: 0.5779\n",
      "Epoch 22/100\n",
      "7740/7740 [==============================] - 1s 65us/sample - loss: 0.6009 - val_loss: 0.6051\n",
      "Epoch 23/100\n",
      "7740/7740 [==============================] - 1s 65us/sample - loss: 0.5909 - val_loss: 0.6417\n",
      "Epoch 24/100\n",
      "7740/7740 [==============================] - 1s 66us/sample - loss: 0.5814 - val_loss: 0.6742\n",
      "Epoch 25/100\n",
      "7740/7740 [==============================] - 1s 66us/sample - loss: 0.5723 - val_loss: 0.7591\n",
      "Epoch 26/100\n",
      "7740/7740 [==============================] - 1s 66us/sample - loss: 0.5635 - val_loss: 0.7764\n",
      "Epoch 27/100\n",
      "7740/7740 [==============================] - 1s 66us/sample - loss: 0.5552 - val_loss: 0.8860\n",
      "Epoch 28/100\n",
      "7740/7740 [==============================] - 1s 66us/sample - loss: 0.5474 - val_loss: 0.9032\n",
      "Epoch 29/100\n",
      "7740/7740 [==============================] - 1s 66us/sample - loss: 0.5401 - val_loss: 0.9833\n",
      "Epoch 30/100\n",
      "7740/7740 [==============================] - 1s 66us/sample - loss: 0.5329 - val_loss: 0.9995\n",
      "3870/3870 [==============================] - 0s 29us/sample - loss: 0.5486\n",
      "[CV]  learning_rate=0.0003920021771415983, n_hidden=3, n_neurons=24, total=  15.6s\n",
      "[CV] learning_rate=0.0003920021771415983, n_hidden=3, n_neurons=24 ...\n",
      "Train on 7740 samples, validate on 3870 samples\n",
      "Epoch 1/100\n",
      "7740/7740 [==============================] - 1s 89us/sample - loss: 2.9070 - val_loss: 5.0329\n",
      "Epoch 2/100\n",
      "7740/7740 [==============================] - 1s 66us/sample - loss: 1.2882 - val_loss: 3.1420\n",
      "Epoch 3/100\n",
      "7740/7740 [==============================] - 1s 66us/sample - loss: 0.9742 - val_loss: 1.9384\n",
      "Epoch 4/100\n",
      "7740/7740 [==============================] - 1s 66us/sample - loss: 0.8517 - val_loss: 1.3691\n",
      "Epoch 5/100\n",
      "7740/7740 [==============================] - 1s 66us/sample - loss: 0.7864 - val_loss: 0.9828\n",
      "Epoch 6/100\n",
      "7740/7740 [==============================] - 1s 66us/sample - loss: 0.7436 - val_loss: 0.7970\n",
      "Epoch 7/100\n",
      "7740/7740 [==============================] - 1s 66us/sample - loss: 0.7132 - val_loss: 0.7109\n",
      "Epoch 8/100\n",
      "7740/7740 [==============================] - 1s 66us/sample - loss: 0.6891 - val_loss: 0.6661\n",
      "Epoch 9/100\n",
      "7740/7740 [==============================] - 1s 65us/sample - loss: 0.6690 - val_loss: 0.6342\n",
      "Epoch 10/100\n",
      "7740/7740 [==============================] - 1s 66us/sample - loss: 0.6512 - val_loss: 0.6156\n",
      "Epoch 11/100\n",
      "7740/7740 [==============================] - 1s 65us/sample - loss: 0.6353 - val_loss: 0.5987\n",
      "Epoch 12/100\n",
      "7740/7740 [==============================] - 1s 65us/sample - loss: 0.6208 - val_loss: 0.5851\n",
      "Epoch 13/100\n",
      "7740/7740 [==============================] - 1s 66us/sample - loss: 0.6073 - val_loss: 0.5730\n",
      "Epoch 14/100\n",
      "7740/7740 [==============================] - 1s 66us/sample - loss: 0.5951 - val_loss: 0.5607\n",
      "Epoch 15/100\n",
      "7740/7740 [==============================] - 1s 66us/sample - loss: 0.5837 - val_loss: 0.5494\n",
      "Epoch 16/100\n",
      "7740/7740 [==============================] - 1s 66us/sample - loss: 0.5731 - val_loss: 0.5391\n",
      "Epoch 17/100\n",
      "7740/7740 [==============================] - 1s 65us/sample - loss: 0.5633 - val_loss: 0.5295\n",
      "Epoch 18/100\n",
      "7740/7740 [==============================] - 1s 65us/sample - loss: 0.5540 - val_loss: 0.5217\n",
      "Epoch 19/100\n",
      "7740/7740 [==============================] - 1s 66us/sample - loss: 0.5454 - val_loss: 0.5125\n",
      "Epoch 20/100\n",
      "7740/7740 [==============================] - 1s 65us/sample - loss: 0.5374 - val_loss: 0.5055\n",
      "Epoch 21/100\n",
      "7740/7740 [==============================] - 1s 66us/sample - loss: 0.5299 - val_loss: 0.4995\n",
      "Epoch 22/100\n",
      "7740/7740 [==============================] - 1s 66us/sample - loss: 0.5229 - val_loss: 0.4932\n",
      "Epoch 23/100\n",
      "7740/7740 [==============================] - 1s 66us/sample - loss: 0.5162 - val_loss: 0.4861\n",
      "Epoch 24/100\n",
      "7740/7740 [==============================] - 1s 66us/sample - loss: 0.5101 - val_loss: 0.4830\n",
      "Epoch 25/100\n",
      "7740/7740 [==============================] - 1s 66us/sample - loss: 0.5044 - val_loss: 0.4772\n",
      "Epoch 26/100\n",
      "7740/7740 [==============================] - 1s 66us/sample - loss: 0.4990 - val_loss: 0.4746\n",
      "Epoch 27/100\n",
      "7740/7740 [==============================] - 1s 67us/sample - loss: 0.4940 - val_loss: 0.4719\n",
      "Epoch 28/100\n",
      "7740/7740 [==============================] - 1s 66us/sample - loss: 0.4892 - val_loss: 0.4687\n",
      "Epoch 29/100\n",
      "7740/7740 [==============================] - 1s 66us/sample - loss: 0.4848 - val_loss: 0.4641\n",
      "Epoch 30/100\n",
      "7740/7740 [==============================] - 1s 66us/sample - loss: 0.4805 - val_loss: 0.4613\n",
      "Epoch 31/100\n",
      "7740/7740 [==============================] - 1s 66us/sample - loss: 0.4766 - val_loss: 0.4599\n",
      "Epoch 32/100\n",
      "7740/7740 [==============================] - 1s 67us/sample - loss: 0.4729 - val_loss: 0.4561\n",
      "Epoch 33/100\n",
      "7740/7740 [==============================] - 1s 66us/sample - loss: 0.4694 - val_loss: 0.4555\n",
      "Epoch 34/100\n",
      "7740/7740 [==============================] - 1s 66us/sample - loss: 0.4660 - val_loss: 0.4585\n",
      "Epoch 35/100\n",
      "7740/7740 [==============================] - 1s 66us/sample - loss: 0.4630 - val_loss: 0.4545\n",
      "Epoch 36/100\n",
      "7740/7740 [==============================] - 1s 65us/sample - loss: 0.4600 - val_loss: 0.4519\n",
      "Epoch 37/100\n",
      "7740/7740 [==============================] - 1s 66us/sample - loss: 0.4573 - val_loss: 0.4524\n",
      "Epoch 38/100\n",
      "7740/7740 [==============================] - 1s 66us/sample - loss: 0.4547 - val_loss: 0.4560\n",
      "Epoch 39/100\n",
      "7740/7740 [==============================] - 1s 66us/sample - loss: 0.4521 - val_loss: 0.4619\n",
      "Epoch 40/100\n",
      "7740/7740 [==============================] - 1s 66us/sample - loss: 0.4500 - val_loss: 0.4538\n",
      "Epoch 41/100\n",
      "7740/7740 [==============================] - 1s 66us/sample - loss: 0.4477 - val_loss: 0.4522\n",
      "Epoch 42/100\n",
      "7740/7740 [==============================] - 1s 66us/sample - loss: 0.4456 - val_loss: 0.4540\n",
      "Epoch 43/100\n",
      "7740/7740 [==============================] - 1s 66us/sample - loss: 0.4435 - val_loss: 0.4482\n",
      "Epoch 44/100\n",
      "7740/7740 [==============================] - 1s 66us/sample - loss: 0.4416 - val_loss: 0.4525\n",
      "Epoch 45/100\n",
      "7740/7740 [==============================] - 1s 66us/sample - loss: 0.4398 - val_loss: 0.4494\n",
      "Epoch 46/100\n",
      "7740/7740 [==============================] - 1s 66us/sample - loss: 0.4381 - val_loss: 0.4478\n",
      "Epoch 47/100\n",
      "7740/7740 [==============================] - 1s 67us/sample - loss: 0.4364 - val_loss: 0.4485\n",
      "Epoch 48/100\n",
      "7740/7740 [==============================] - 1s 67us/sample - loss: 0.4349 - val_loss: 0.4514\n",
      "Epoch 49/100\n",
      "7740/7740 [==============================] - 1s 69us/sample - loss: 0.4334 - val_loss: 0.4516\n",
      "Epoch 50/100\n",
      "7740/7740 [==============================] - 1s 71us/sample - loss: 0.4319 - val_loss: 0.4454\n",
      "Epoch 51/100\n",
      "7740/7740 [==============================] - 1s 72us/sample - loss: 0.4304 - val_loss: 0.4405\n",
      "Epoch 52/100\n",
      "7740/7740 [==============================] - 1s 73us/sample - loss: 0.4292 - val_loss: 0.4436\n",
      "Epoch 53/100\n",
      "7740/7740 [==============================] - 1s 75us/sample - loss: 0.4277 - val_loss: 0.4417\n",
      "Epoch 54/100\n",
      "7740/7740 [==============================] - 1s 72us/sample - loss: 0.4265 - val_loss: 0.4433\n",
      "Epoch 55/100\n",
      "7740/7740 [==============================] - 1s 72us/sample - loss: 0.4252 - val_loss: 0.4468\n",
      "Epoch 56/100\n",
      "7740/7740 [==============================] - 1s 72us/sample - loss: 0.4241 - val_loss: 0.4535\n",
      "Epoch 57/100\n",
      "7740/7740 [==============================] - 1s 72us/sample - loss: 0.4228 - val_loss: 0.4470\n",
      "Epoch 58/100\n",
      "7740/7740 [==============================] - 1s 72us/sample - loss: 0.4216 - val_loss: 0.4569\n",
      "Epoch 59/100\n",
      "7740/7740 [==============================] - 1s 72us/sample - loss: 0.4206 - val_loss: 0.4554\n",
      "Epoch 60/100\n",
      "7740/7740 [==============================] - 1s 68us/sample - loss: 0.4197 - val_loss: 0.4547\n",
      "Epoch 61/100\n",
      "7740/7740 [==============================] - 1s 66us/sample - loss: 0.4187 - val_loss: 0.4475\n"
     ]
    },
    {
     "name": "stdout",
     "output_type": "stream",
     "text": [
      "3870/3870 [==============================] - 0s 30us/sample - loss: 0.4175\n",
      "[CV]  learning_rate=0.0003920021771415983, n_hidden=3, n_neurons=24, total=  32.0s\n",
      "[CV] learning_rate=0.006010328378268217, n_hidden=0, n_neurons=2 .....\n",
      "Train on 7740 samples, validate on 3870 samples\n",
      "Epoch 1/100\n",
      "7740/7740 [==============================] - 1s 71us/sample - loss: 2.1211 - val_loss: 21.1308\n",
      "Epoch 2/100\n",
      "7740/7740 [==============================] - 0s 53us/sample - loss: 0.9808 - val_loss: 95.9915\n",
      "Epoch 3/100\n",
      "7740/7740 [==============================] - 0s 54us/sample - loss: 1.6776 - val_loss: 221.0204\n",
      "Epoch 4/100\n",
      "7740/7740 [==============================] - 0s 53us/sample - loss: 3.8367 - val_loss: 450.6542\n",
      "Epoch 5/100\n",
      "7740/7740 [==============================] - 0s 54us/sample - loss: 3.9032 - val_loss: 933.4001\n",
      "Epoch 6/100\n",
      "7740/7740 [==============================] - 0s 53us/sample - loss: 11.5680 - val_loss: 2256.4550\n",
      "Epoch 7/100\n",
      "7740/7740 [==============================] - 0s 53us/sample - loss: 37.9562 - val_loss: 5370.5429\n",
      "Epoch 8/100\n",
      "7740/7740 [==============================] - 0s 54us/sample - loss: 37.4190 - val_loss: 13317.2382\n",
      "Epoch 9/100\n",
      "7740/7740 [==============================] - 0s 53us/sample - loss: 73.9304 - val_loss: 29245.5377\n",
      "Epoch 10/100\n",
      "7740/7740 [==============================] - 0s 53us/sample - loss: 213.6845 - val_loss: 67753.4765\n",
      "Epoch 11/100\n",
      "7740/7740 [==============================] - 0s 53us/sample - loss: 462.1572 - val_loss: 152754.9618\n",
      "3870/3870 [==============================] - 0s 26us/sample - loss: 406.6081\n",
      "[CV]  learning_rate=0.006010328378268217, n_hidden=0, n_neurons=2, total=   4.9s\n",
      "[CV] learning_rate=0.006010328378268217, n_hidden=0, n_neurons=2 .....\n",
      "Train on 7740 samples, validate on 3870 samples\n",
      "Epoch 1/100\n",
      "7740/7740 [==============================] - 1s 88us/sample - loss: 1.4677 - val_loss: 13.3385\n",
      "Epoch 2/100\n",
      "7740/7740 [==============================] - 0s 54us/sample - loss: 0.5767 - val_loss: 16.4312\n",
      "Epoch 3/100\n",
      "7740/7740 [==============================] - 0s 53us/sample - loss: 0.5515 - val_loss: 18.4041\n",
      "Epoch 4/100\n",
      "7740/7740 [==============================] - 0s 54us/sample - loss: 0.5368 - val_loss: 18.4688\n",
      "Epoch 5/100\n",
      "7740/7740 [==============================] - 0s 55us/sample - loss: 0.5278 - val_loss: 18.5664\n",
      "Epoch 6/100\n",
      "7740/7740 [==============================] - 0s 54us/sample - loss: 0.5201 - val_loss: 18.5914\n",
      "Epoch 7/100\n",
      "7740/7740 [==============================] - 0s 54us/sample - loss: 0.5141 - val_loss: 18.0228\n",
      "Epoch 8/100\n",
      "7740/7740 [==============================] - 0s 54us/sample - loss: 0.5116 - val_loss: 18.2423\n",
      "Epoch 9/100\n",
      "7740/7740 [==============================] - 0s 55us/sample - loss: 0.5096 - val_loss: 18.0342\n",
      "Epoch 10/100\n",
      "7740/7740 [==============================] - 0s 56us/sample - loss: 0.5066 - val_loss: 18.6712\n",
      "Epoch 11/100\n",
      "7740/7740 [==============================] - 0s 56us/sample - loss: 0.5062 - val_loss: 17.8861\n",
      "3870/3870 [==============================] - 0s 28us/sample - loss: 0.9307\n",
      "[CV]  learning_rate=0.006010328378268217, n_hidden=0, n_neurons=2, total=   5.1s\n",
      "[CV] learning_rate=0.006010328378268217, n_hidden=0, n_neurons=2 .....\n",
      "Train on 7740 samples, validate on 3870 samples\n",
      "Epoch 1/100\n",
      "7740/7740 [==============================] - 1s 73us/sample - loss: 1.8572 - val_loss: 0.9861\n",
      "Epoch 2/100\n",
      "7740/7740 [==============================] - 0s 56us/sample - loss: 0.5987 - val_loss: 0.9252\n",
      "Epoch 3/100\n",
      "7740/7740 [==============================] - 0s 56us/sample - loss: 0.5559 - val_loss: 3.3524\n",
      "Epoch 4/100\n",
      "7740/7740 [==============================] - 0s 55us/sample - loss: 0.6727 - val_loss: 9.0939\n",
      "Epoch 5/100\n",
      "7740/7740 [==============================] - 0s 54us/sample - loss: 0.6038 - val_loss: 19.4521\n",
      "Epoch 6/100\n",
      "7740/7740 [==============================] - 0s 54us/sample - loss: 0.8763 - val_loss: 28.0253\n",
      "Epoch 7/100\n",
      "7740/7740 [==============================] - 0s 54us/sample - loss: 0.8241 - val_loss: 45.1730\n",
      "Epoch 8/100\n",
      "7740/7740 [==============================] - 0s 54us/sample - loss: 1.4897 - val_loss: 47.6945\n",
      "Epoch 9/100\n",
      "7740/7740 [==============================] - 0s 55us/sample - loss: 1.3526 - val_loss: 94.9097\n",
      "Epoch 10/100\n",
      "7740/7740 [==============================] - 0s 54us/sample - loss: 2.5568 - val_loss: 105.7354\n",
      "Epoch 11/100\n",
      "7740/7740 [==============================] - 0s 54us/sample - loss: 1.3688 - val_loss: 134.7786\n",
      "Epoch 12/100\n",
      "7740/7740 [==============================] - 0s 55us/sample - loss: 2.9960 - val_loss: 193.8960\n",
      "3870/3870 [==============================] - 0s 26us/sample - loss: 0.9807\n",
      "[CV]  learning_rate=0.006010328378268217, n_hidden=0, n_neurons=2, total=   5.4s\n",
      "[CV] learning_rate=0.008339092654580042, n_hidden=1, n_neurons=38 ....\n",
      "Train on 7740 samples, validate on 3870 samples\n",
      "Epoch 1/100\n",
      "7740/7740 [==============================] - 1s 78us/sample - loss: 1.2569 - val_loss: 40.1895\n",
      "Epoch 2/100\n",
      "7740/7740 [==============================] - 0s 58us/sample - loss: 0.9780 - val_loss: 196.2187\n",
      "Epoch 3/100\n",
      "7740/7740 [==============================] - 0s 58us/sample - loss: 1.7930 - val_loss: 2.4461\n",
      "Epoch 4/100\n",
      "7740/7740 [==============================] - 0s 58us/sample - loss: 0.4490 - val_loss: 1.9442\n",
      "Epoch 5/100\n",
      "7740/7740 [==============================] - 0s 58us/sample - loss: 0.4378 - val_loss: 14.0567\n",
      "Epoch 6/100\n",
      "7740/7740 [==============================] - 0s 58us/sample - loss: 0.5361 - val_loss: 25.7456\n",
      "Epoch 7/100\n",
      "7740/7740 [==============================] - 0s 58us/sample - loss: 0.6511 - val_loss: 0.3580\n",
      "Epoch 8/100\n",
      "7740/7740 [==============================] - 0s 58us/sample - loss: 0.3706 - val_loss: 0.3511\n",
      "Epoch 9/100\n",
      "7740/7740 [==============================] - 0s 61us/sample - loss: 0.3659 - val_loss: 0.3543\n",
      "Epoch 10/100\n",
      "7740/7740 [==============================] - 0s 58us/sample - loss: 0.3618 - val_loss: 0.3492\n",
      "Epoch 11/100\n",
      "7740/7740 [==============================] - 0s 58us/sample - loss: 0.3581 - val_loss: 0.3460\n",
      "Epoch 12/100\n",
      "7740/7740 [==============================] - 0s 58us/sample - loss: 0.3550 - val_loss: 0.3574\n",
      "Epoch 13/100\n",
      "7740/7740 [==============================] - 0s 58us/sample - loss: 0.3531 - val_loss: 0.3557\n",
      "Epoch 14/100\n",
      "7740/7740 [==============================] - 0s 59us/sample - loss: 0.3503 - val_loss: 0.4685\n",
      "Epoch 15/100\n",
      "7740/7740 [==============================] - 0s 58us/sample - loss: 0.3494 - val_loss: 0.3399\n",
      "Epoch 16/100\n",
      "7740/7740 [==============================] - 0s 58us/sample - loss: 0.3486 - val_loss: 0.3644\n",
      "Epoch 17/100\n",
      "7740/7740 [==============================] - 0s 58us/sample - loss: 0.3462 - val_loss: 0.3809\n",
      "Epoch 18/100\n",
      "7740/7740 [==============================] - 0s 58us/sample - loss: 0.3451 - val_loss: 0.3840\n",
      "Epoch 19/100\n",
      "7740/7740 [==============================] - 0s 58us/sample - loss: 0.3437 - val_loss: 0.3788\n",
      "Epoch 20/100\n",
      "7740/7740 [==============================] - 0s 58us/sample - loss: 0.3429 - val_loss: 0.3612\n",
      "Epoch 21/100\n",
      "7740/7740 [==============================] - 0s 58us/sample - loss: 0.3406 - val_loss: 0.3593\n",
      "Epoch 22/100\n",
      "7740/7740 [==============================] - 0s 58us/sample - loss: 0.3399 - val_loss: 0.3626\n",
      "Epoch 23/100\n",
      "7740/7740 [==============================] - 0s 58us/sample - loss: 0.3396 - val_loss: 0.3767\n",
      "Epoch 24/100\n",
      "7740/7740 [==============================] - 0s 58us/sample - loss: 0.3373 - val_loss: 0.3593\n",
      "Epoch 25/100\n",
      "7740/7740 [==============================] - 0s 58us/sample - loss: 0.3364 - val_loss: 0.3757\n",
      "3870/3870 [==============================] - 0s 28us/sample - loss: 0.3590\n",
      "[CV]  learning_rate=0.008339092654580042, n_hidden=1, n_neurons=38, total=  11.6s\n",
      "[CV] learning_rate=0.008339092654580042, n_hidden=1, n_neurons=38 ....\n",
      "Train on 7740 samples, validate on 3870 samples\n",
      "Epoch 1/100\n",
      "7740/7740 [==============================] - 1s 78us/sample - loss: 0.8947 - val_loss: 3.5465\n",
      "Epoch 2/100\n",
      "7740/7740 [==============================] - 0s 59us/sample - loss: 0.5222 - val_loss: 0.4637\n",
      "Epoch 3/100\n",
      "7740/7740 [==============================] - 0s 58us/sample - loss: 0.4628 - val_loss: 0.4256\n",
      "Epoch 4/100\n",
      "7740/7740 [==============================] - 0s 59us/sample - loss: 0.4362 - val_loss: 0.4192\n",
      "Epoch 5/100\n"
     ]
    },
    {
     "name": "stdout",
     "output_type": "stream",
     "text": [
      "7740/7740 [==============================] - 0s 58us/sample - loss: 0.4215 - val_loss: 0.4591\n",
      "Epoch 6/100\n",
      "7740/7740 [==============================] - 0s 58us/sample - loss: 0.4122 - val_loss: 0.5954\n",
      "Epoch 7/100\n",
      "7740/7740 [==============================] - 0s 58us/sample - loss: 0.4047 - val_loss: 0.6497\n",
      "Epoch 8/100\n",
      "7740/7740 [==============================] - 0s 59us/sample - loss: 0.4000 - val_loss: 0.7834\n",
      "Epoch 9/100\n",
      "7740/7740 [==============================] - 0s 60us/sample - loss: 0.3957 - val_loss: 0.8585\n",
      "Epoch 10/100\n",
      "7740/7740 [==============================] - 0s 58us/sample - loss: 0.3918 - val_loss: 1.0683\n",
      "Epoch 11/100\n",
      "7740/7740 [==============================] - 0s 60us/sample - loss: 0.3882 - val_loss: 0.9851\n",
      "Epoch 12/100\n",
      "7740/7740 [==============================] - 0s 59us/sample - loss: 0.3836 - val_loss: 0.9689\n",
      "Epoch 13/100\n",
      "7740/7740 [==============================] - 0s 59us/sample - loss: 0.3830 - val_loss: 1.1161\n",
      "Epoch 14/100\n",
      "7740/7740 [==============================] - 0s 58us/sample - loss: 0.3792 - val_loss: 1.3615\n",
      "3870/3870 [==============================] - 0s 27us/sample - loss: 0.4046\n",
      "[CV]  learning_rate=0.008339092654580042, n_hidden=1, n_neurons=38, total=   6.7s\n",
      "[CV] learning_rate=0.008339092654580042, n_hidden=1, n_neurons=38 ....\n",
      "Train on 7740 samples, validate on 3870 samples\n",
      "Epoch 1/100\n",
      "7740/7740 [==============================] - 1s 77us/sample - loss: 1.1191 - val_loss: 13.5203\n",
      "Epoch 2/100\n",
      "7740/7740 [==============================] - 0s 58us/sample - loss: 0.5587 - val_loss: 45.9143\n",
      "Epoch 3/100\n",
      "7740/7740 [==============================] - 0s 58us/sample - loss: 1.1573 - val_loss: 11.7739\n",
      "Epoch 4/100\n",
      "7740/7740 [==============================] - 0s 58us/sample - loss: 0.6116 - val_loss: 13.3710\n",
      "Epoch 5/100\n",
      "7740/7740 [==============================] - 0s 58us/sample - loss: 0.5644 - val_loss: 0.3805\n",
      "Epoch 6/100\n",
      "7740/7740 [==============================] - 0s 58us/sample - loss: 0.4145 - val_loss: 0.3733\n",
      "Epoch 7/100\n",
      "7740/7740 [==============================] - 0s 59us/sample - loss: 0.4124 - val_loss: 0.3731\n",
      "Epoch 8/100\n",
      "7740/7740 [==============================] - 0s 58us/sample - loss: 0.4161 - val_loss: 0.3624\n",
      "Epoch 9/100\n",
      "7740/7740 [==============================] - 0s 59us/sample - loss: 0.3921 - val_loss: 0.3585\n",
      "Epoch 10/100\n",
      "7740/7740 [==============================] - 0s 58us/sample - loss: 0.3875 - val_loss: 0.3541\n",
      "Epoch 11/100\n",
      "7740/7740 [==============================] - 0s 58us/sample - loss: 0.3847 - val_loss: 0.3531\n",
      "Epoch 12/100\n",
      "7740/7740 [==============================] - 0s 58us/sample - loss: 0.3832 - val_loss: 0.3501\n",
      "Epoch 13/100\n",
      "7740/7740 [==============================] - 0s 58us/sample - loss: 0.3766 - val_loss: 0.3481\n",
      "Epoch 14/100\n",
      "7740/7740 [==============================] - 0s 58us/sample - loss: 0.3746 - val_loss: 0.3682\n",
      "Epoch 15/100\n",
      "7740/7740 [==============================] - 0s 58us/sample - loss: 0.3772 - val_loss: 0.3692\n",
      "Epoch 16/100\n",
      "7740/7740 [==============================] - 0s 58us/sample - loss: 0.3721 - val_loss: 0.3517\n",
      "Epoch 17/100\n",
      "7740/7740 [==============================] - 0s 59us/sample - loss: 0.3678 - val_loss: 0.3814\n",
      "Epoch 18/100\n",
      "7740/7740 [==============================] - 0s 58us/sample - loss: 0.3773 - val_loss: 0.3455\n",
      "Epoch 19/100\n",
      "7740/7740 [==============================] - 0s 58us/sample - loss: 0.3655 - val_loss: 0.3699\n",
      "Epoch 20/100\n",
      "7740/7740 [==============================] - 0s 58us/sample - loss: 0.3712 - val_loss: 0.3731\n",
      "Epoch 21/100\n",
      "7740/7740 [==============================] - 0s 58us/sample - loss: 0.3626 - val_loss: 0.3615\n",
      "Epoch 22/100\n",
      "7740/7740 [==============================] - 0s 58us/sample - loss: 0.3615 - val_loss: 0.3422\n",
      "Epoch 23/100\n",
      "7740/7740 [==============================] - 0s 59us/sample - loss: 0.3610 - val_loss: 0.3518\n",
      "Epoch 24/100\n",
      "7740/7740 [==============================] - 0s 59us/sample - loss: 0.3582 - val_loss: 0.3447\n",
      "Epoch 25/100\n",
      "7740/7740 [==============================] - 0s 58us/sample - loss: 0.3570 - val_loss: 0.3711\n",
      "Epoch 26/100\n",
      "7740/7740 [==============================] - 0s 58us/sample - loss: 0.3559 - val_loss: 0.3622\n",
      "Epoch 27/100\n",
      "7740/7740 [==============================] - 0s 58us/sample - loss: 0.3563 - val_loss: 0.3662\n",
      "Epoch 28/100\n",
      "7740/7740 [==============================] - 0s 58us/sample - loss: 0.3863 - val_loss: 0.3685\n",
      "Epoch 29/100\n",
      "7740/7740 [==============================] - 0s 58us/sample - loss: 0.3762 - val_loss: 0.3449\n",
      "Epoch 30/100\n",
      "7740/7740 [==============================] - 0s 58us/sample - loss: 0.3641 - val_loss: 0.3400\n",
      "Epoch 31/100\n",
      "7740/7740 [==============================] - 0s 59us/sample - loss: 0.3547 - val_loss: 0.3316\n",
      "Epoch 32/100\n",
      "7740/7740 [==============================] - 0s 58us/sample - loss: 0.3587 - val_loss: 0.3810\n",
      "Epoch 33/100\n",
      "7740/7740 [==============================] - 0s 59us/sample - loss: 0.3508 - val_loss: 0.3341\n",
      "Epoch 34/100\n",
      "7740/7740 [==============================] - 0s 58us/sample - loss: 0.3500 - val_loss: 0.3810\n",
      "Epoch 35/100\n",
      "7740/7740 [==============================] - 0s 58us/sample - loss: 0.3485 - val_loss: 0.3378\n",
      "Epoch 36/100\n",
      "7740/7740 [==============================] - 0s 58us/sample - loss: 0.3503 - val_loss: 0.3418\n",
      "Epoch 37/100\n",
      "7740/7740 [==============================] - 0s 58us/sample - loss: 0.3468 - val_loss: 0.3625\n",
      "Epoch 38/100\n",
      "7740/7740 [==============================] - 0s 58us/sample - loss: 0.3515 - val_loss: 0.3795\n",
      "Epoch 39/100\n",
      "7740/7740 [==============================] - 0s 58us/sample - loss: 0.3478 - val_loss: 0.3299\n",
      "Epoch 40/100\n",
      "7740/7740 [==============================] - 0s 59us/sample - loss: 0.3449 - val_loss: 0.3286\n",
      "Epoch 41/100\n",
      "7740/7740 [==============================] - 0s 58us/sample - loss: 0.3465 - val_loss: 0.3358\n",
      "Epoch 42/100\n",
      "7740/7740 [==============================] - 0s 58us/sample - loss: 0.3423 - val_loss: 0.3508\n",
      "Epoch 43/100\n",
      "7740/7740 [==============================] - 0s 58us/sample - loss: 0.3542 - val_loss: 0.3315\n",
      "Epoch 44/100\n",
      "7740/7740 [==============================] - 0s 58us/sample - loss: 0.3543 - val_loss: 0.3361\n",
      "Epoch 45/100\n",
      "7740/7740 [==============================] - 0s 58us/sample - loss: 0.3433 - val_loss: 0.3445\n",
      "Epoch 46/100\n",
      "7740/7740 [==============================] - 0s 58us/sample - loss: 0.3437 - val_loss: 0.3552\n",
      "Epoch 47/100\n",
      "7740/7740 [==============================] - 0s 58us/sample - loss: 0.3457 - val_loss: 0.3559\n",
      "Epoch 48/100\n",
      "7740/7740 [==============================] - 0s 58us/sample - loss: 0.3399 - val_loss: 0.3603\n",
      "Epoch 49/100\n",
      "7740/7740 [==============================] - 0s 58us/sample - loss: 0.3390 - val_loss: 0.3696\n",
      "Epoch 50/100\n",
      "7740/7740 [==============================] - 0s 58us/sample - loss: 0.4407 - val_loss: 0.3541\n",
      "3870/3870 [==============================] - 0s 27us/sample - loss: 0.3416\n",
      "[CV]  learning_rate=0.008339092654580042, n_hidden=1, n_neurons=38, total=  22.9s\n",
      "[CV] learning_rate=0.00030107783636342726, n_hidden=3, n_neurons=21 ..\n",
      "Train on 7740 samples, validate on 3870 samples\n",
      "Epoch 1/100\n",
      "7740/7740 [==============================] - 1s 89us/sample - loss: 4.0249 - val_loss: 8.1049\n",
      "Epoch 2/100\n",
      "7740/7740 [==============================] - 1s 65us/sample - loss: 2.3117 - val_loss: 7.7845\n",
      "Epoch 3/100\n",
      "7740/7740 [==============================] - 1s 66us/sample - loss: 1.6343 - val_loss: 5.9924\n",
      "Epoch 4/100\n",
      "7740/7740 [==============================] - 1s 67us/sample - loss: 1.3424 - val_loss: 4.1657\n",
      "Epoch 5/100\n",
      "7740/7740 [==============================] - 1s 66us/sample - loss: 1.1817 - val_loss: 2.7137\n",
      "Epoch 6/100\n",
      "7740/7740 [==============================] - 1s 66us/sample - loss: 1.0700 - val_loss: 2.1602\n",
      "Epoch 7/100\n",
      "7740/7740 [==============================] - 1s 66us/sample - loss: 0.9890 - val_loss: 1.7833\n",
      "Epoch 8/100\n",
      "7740/7740 [==============================] - 1s 66us/sample - loss: 0.9245 - val_loss: 1.4592\n",
      "Epoch 9/100\n",
      "7740/7740 [==============================] - 1s 66us/sample - loss: 0.8705 - val_loss: 1.2284\n",
      "Epoch 10/100\n",
      "7740/7740 [==============================] - 1s 67us/sample - loss: 0.8264 - val_loss: 1.0696\n",
      "Epoch 11/100\n",
      "7740/7740 [==============================] - 1s 66us/sample - loss: 0.7890 - val_loss: 0.9366\n",
      "Epoch 12/100\n"
     ]
    },
    {
     "name": "stdout",
     "output_type": "stream",
     "text": [
      "7740/7740 [==============================] - 1s 66us/sample - loss: 0.7581 - val_loss: 0.8372\n",
      "Epoch 13/100\n",
      "7740/7740 [==============================] - 1s 65us/sample - loss: 0.7322 - val_loss: 0.7673\n",
      "Epoch 14/100\n",
      "7740/7740 [==============================] - 1s 66us/sample - loss: 0.7103 - val_loss: 0.7110\n",
      "Epoch 15/100\n",
      "7740/7740 [==============================] - 1s 66us/sample - loss: 0.6923 - val_loss: 0.6765\n",
      "Epoch 16/100\n",
      "7740/7740 [==============================] - 1s 66us/sample - loss: 0.6765 - val_loss: 0.6552\n",
      "Epoch 17/100\n",
      "7740/7740 [==============================] - 1s 66us/sample - loss: 0.6633 - val_loss: 0.6374\n",
      "Epoch 18/100\n",
      "7740/7740 [==============================] - 1s 66us/sample - loss: 0.6518 - val_loss: 0.6275\n",
      "Epoch 19/100\n",
      "7740/7740 [==============================] - 1s 66us/sample - loss: 0.6418 - val_loss: 0.6202\n",
      "Epoch 20/100\n",
      "7740/7740 [==============================] - 1s 66us/sample - loss: 0.6327 - val_loss: 0.6147\n",
      "Epoch 21/100\n",
      "7740/7740 [==============================] - 1s 66us/sample - loss: 0.6245 - val_loss: 0.6085\n",
      "Epoch 22/100\n",
      "7740/7740 [==============================] - 1s 66us/sample - loss: 0.6168 - val_loss: 0.6056\n",
      "Epoch 23/100\n",
      "7740/7740 [==============================] - 1s 66us/sample - loss: 0.6096 - val_loss: 0.6016\n",
      "Epoch 24/100\n",
      "7740/7740 [==============================] - 1s 65us/sample - loss: 0.6028 - val_loss: 0.5962\n",
      "Epoch 25/100\n",
      "7740/7740 [==============================] - 1s 66us/sample - loss: 0.5963 - val_loss: 0.5940\n",
      "Epoch 26/100\n",
      "7740/7740 [==============================] - 1s 65us/sample - loss: 0.5902 - val_loss: 0.5894\n",
      "Epoch 27/100\n",
      "7740/7740 [==============================] - 1s 66us/sample - loss: 0.5840 - val_loss: 0.5902\n",
      "Epoch 28/100\n",
      "7740/7740 [==============================] - 1s 66us/sample - loss: 0.5785 - val_loss: 0.5809\n",
      "Epoch 29/100\n",
      "7740/7740 [==============================] - 1s 67us/sample - loss: 0.5729 - val_loss: 0.5763\n",
      "Epoch 30/100\n",
      "7740/7740 [==============================] - 1s 66us/sample - loss: 0.5675 - val_loss: 0.5733\n",
      "Epoch 31/100\n",
      "7740/7740 [==============================] - 1s 68us/sample - loss: 0.5622 - val_loss: 0.5674\n",
      "Epoch 32/100\n",
      "7740/7740 [==============================] - 1s 66us/sample - loss: 0.5570 - val_loss: 0.5654\n",
      "Epoch 33/100\n",
      "7740/7740 [==============================] - 1s 66us/sample - loss: 0.5520 - val_loss: 0.5583\n",
      "Epoch 34/100\n",
      "7740/7740 [==============================] - 1s 66us/sample - loss: 0.5470 - val_loss: 0.5519\n",
      "Epoch 35/100\n",
      "7740/7740 [==============================] - 1s 66us/sample - loss: 0.5422 - val_loss: 0.5506\n",
      "Epoch 36/100\n",
      "7740/7740 [==============================] - 1s 66us/sample - loss: 0.5373 - val_loss: 0.5505\n",
      "Epoch 37/100\n",
      "7740/7740 [==============================] - 1s 66us/sample - loss: 0.5331 - val_loss: 0.5409\n",
      "Epoch 38/100\n",
      "7740/7740 [==============================] - 1s 66us/sample - loss: 0.5285 - val_loss: 0.5344\n",
      "Epoch 39/100\n",
      "7740/7740 [==============================] - 1s 66us/sample - loss: 0.5242 - val_loss: 0.5293\n",
      "Epoch 40/100\n",
      "7740/7740 [==============================] - 1s 66us/sample - loss: 0.5199 - val_loss: 0.5237\n",
      "Epoch 41/100\n",
      "7740/7740 [==============================] - 1s 66us/sample - loss: 0.5158 - val_loss: 0.5208\n",
      "Epoch 42/100\n",
      "7740/7740 [==============================] - 1s 66us/sample - loss: 0.5117 - val_loss: 0.5158\n",
      "Epoch 43/100\n",
      "7740/7740 [==============================] - 1s 68us/sample - loss: 0.5076 - val_loss: 0.5117\n",
      "Epoch 44/100\n",
      "7740/7740 [==============================] - 1s 70us/sample - loss: 0.5038 - val_loss: 0.5077\n",
      "Epoch 45/100\n",
      "7740/7740 [==============================] - 1s 68us/sample - loss: 0.5000 - val_loss: 0.5019\n",
      "Epoch 46/100\n",
      "7740/7740 [==============================] - 1s 69us/sample - loss: 0.4964 - val_loss: 0.4978\n",
      "Epoch 47/100\n",
      "7740/7740 [==============================] - 1s 67us/sample - loss: 0.4927 - val_loss: 0.4916\n",
      "Epoch 48/100\n",
      "7740/7740 [==============================] - 1s 71us/sample - loss: 0.4890 - val_loss: 0.4886\n",
      "Epoch 49/100\n",
      "7740/7740 [==============================] - 1s 72us/sample - loss: 0.4855 - val_loss: 0.4858\n",
      "Epoch 50/100\n",
      "7740/7740 [==============================] - 1s 68us/sample - loss: 0.4823 - val_loss: 0.4793\n",
      "Epoch 51/100\n",
      "7740/7740 [==============================] - 1s 69us/sample - loss: 0.4788 - val_loss: 0.4757\n",
      "Epoch 52/100\n",
      "7740/7740 [==============================] - 1s 71us/sample - loss: 0.4755 - val_loss: 0.4715\n",
      "Epoch 53/100\n",
      "7740/7740 [==============================] - 1s 72us/sample - loss: 0.4723 - val_loss: 0.4689\n",
      "Epoch 54/100\n",
      "7740/7740 [==============================] - 1s 71us/sample - loss: 0.4692 - val_loss: 0.4640\n",
      "Epoch 55/100\n",
      "7740/7740 [==============================] - 1s 72us/sample - loss: 0.4660 - val_loss: 0.4613\n",
      "Epoch 56/100\n",
      "7740/7740 [==============================] - 1s 72us/sample - loss: 0.4631 - val_loss: 0.4573\n",
      "Epoch 57/100\n",
      "7740/7740 [==============================] - 1s 72us/sample - loss: 0.4601 - val_loss: 0.4542\n",
      "Epoch 58/100\n",
      "7740/7740 [==============================] - 1s 71us/sample - loss: 0.4570 - val_loss: 0.4492\n",
      "Epoch 59/100\n",
      "7740/7740 [==============================] - 1s 71us/sample - loss: 0.4544 - val_loss: 0.4461\n",
      "Epoch 60/100\n",
      "7740/7740 [==============================] - 1s 72us/sample - loss: 0.4517 - val_loss: 0.4431\n",
      "Epoch 61/100\n",
      "7740/7740 [==============================] - 1s 74us/sample - loss: 0.4489 - val_loss: 0.4396\n",
      "Epoch 62/100\n",
      "7740/7740 [==============================] - 1s 70us/sample - loss: 0.4462 - val_loss: 0.4378\n",
      "Epoch 63/100\n",
      "7740/7740 [==============================] - 1s 66us/sample - loss: 0.4439 - val_loss: 0.4337\n",
      "Epoch 64/100\n",
      "7740/7740 [==============================] - 1s 66us/sample - loss: 0.4415 - val_loss: 0.4308\n",
      "Epoch 65/100\n",
      "7740/7740 [==============================] - 1s 66us/sample - loss: 0.4390 - val_loss: 0.4297\n",
      "Epoch 66/100\n",
      "7740/7740 [==============================] - 1s 66us/sample - loss: 0.4369 - val_loss: 0.4260\n",
      "Epoch 67/100\n",
      "7740/7740 [==============================] - 1s 66us/sample - loss: 0.4346 - val_loss: 0.4239\n",
      "Epoch 68/100\n",
      "7740/7740 [==============================] - 1s 66us/sample - loss: 0.4323 - val_loss: 0.4212\n",
      "Epoch 69/100\n",
      "7740/7740 [==============================] - 1s 66us/sample - loss: 0.4302 - val_loss: 0.4192\n",
      "Epoch 70/100\n",
      "7740/7740 [==============================] - 1s 65us/sample - loss: 0.4282 - val_loss: 0.4171\n",
      "Epoch 71/100\n",
      "7740/7740 [==============================] - 1s 66us/sample - loss: 0.4260 - val_loss: 0.4151\n",
      "Epoch 72/100\n",
      "7740/7740 [==============================] - 1s 66us/sample - loss: 0.4243 - val_loss: 0.4132\n",
      "Epoch 73/100\n",
      "7740/7740 [==============================] - 1s 66us/sample - loss: 0.4224 - val_loss: 0.4112\n",
      "Epoch 74/100\n",
      "7740/7740 [==============================] - 1s 66us/sample - loss: 0.4204 - val_loss: 0.4092\n",
      "Epoch 75/100\n",
      "7740/7740 [==============================] - 1s 66us/sample - loss: 0.4188 - val_loss: 0.4074\n",
      "Epoch 76/100\n",
      "7740/7740 [==============================] - 1s 66us/sample - loss: 0.4170 - val_loss: 0.4056\n",
      "Epoch 77/100\n",
      "7740/7740 [==============================] - 1s 66us/sample - loss: 0.4152 - val_loss: 0.4039\n",
      "Epoch 78/100\n",
      "7740/7740 [==============================] - 1s 66us/sample - loss: 0.4135 - val_loss: 0.4026\n",
      "Epoch 79/100\n",
      "7740/7740 [==============================] - 1s 66us/sample - loss: 0.4119 - val_loss: 0.4013\n",
      "Epoch 80/100\n",
      "7740/7740 [==============================] - 1s 66us/sample - loss: 0.4105 - val_loss: 0.3995\n",
      "Epoch 81/100\n",
      "7740/7740 [==============================] - 1s 66us/sample - loss: 0.4090 - val_loss: 0.3980\n",
      "Epoch 82/100\n",
      "7740/7740 [==============================] - 1s 65us/sample - loss: 0.4075 - val_loss: 0.3969\n",
      "Epoch 83/100\n",
      "7740/7740 [==============================] - 1s 66us/sample - loss: 0.4060 - val_loss: 0.3963\n",
      "Epoch 84/100\n",
      "7740/7740 [==============================] - 1s 66us/sample - loss: 0.4046 - val_loss: 0.3949\n",
      "Epoch 85/100\n",
      "7740/7740 [==============================] - 1s 66us/sample - loss: 0.4033 - val_loss: 0.3935\n",
      "Epoch 86/100\n",
      "7740/7740 [==============================] - 1s 67us/sample - loss: 0.4020 - val_loss: 0.3932\n",
      "Epoch 87/100\n",
      "7740/7740 [==============================] - 1s 66us/sample - loss: 0.4005 - val_loss: 0.3933\n",
      "Epoch 88/100\n"
     ]
    },
    {
     "name": "stdout",
     "output_type": "stream",
     "text": [
      "7740/7740 [==============================] - 1s 66us/sample - loss: 0.3993 - val_loss: 0.3905\n",
      "Epoch 89/100\n",
      "7740/7740 [==============================] - 1s 66us/sample - loss: 0.3982 - val_loss: 0.3899\n",
      "Epoch 90/100\n",
      "7740/7740 [==============================] - 1s 66us/sample - loss: 0.3970 - val_loss: 0.3893\n",
      "Epoch 91/100\n",
      "7740/7740 [==============================] - 1s 66us/sample - loss: 0.3958 - val_loss: 0.3887\n",
      "Epoch 92/100\n",
      "7740/7740 [==============================] - 1s 66us/sample - loss: 0.3947 - val_loss: 0.3887\n",
      "Epoch 93/100\n",
      "7740/7740 [==============================] - 1s 66us/sample - loss: 0.3936 - val_loss: 0.3880\n",
      "Epoch 94/100\n",
      "7740/7740 [==============================] - 1s 66us/sample - loss: 0.3926 - val_loss: 0.3867\n",
      "Epoch 95/100\n",
      "7740/7740 [==============================] - 1s 66us/sample - loss: 0.3914 - val_loss: 0.3851\n",
      "Epoch 96/100\n",
      "7740/7740 [==============================] - 1s 66us/sample - loss: 0.3906 - val_loss: 0.3863\n",
      "Epoch 97/100\n",
      "7740/7740 [==============================] - 1s 67us/sample - loss: 0.3896 - val_loss: 0.3863\n",
      "Epoch 98/100\n",
      "7740/7740 [==============================] - 1s 66us/sample - loss: 0.3887 - val_loss: 0.3857\n",
      "Epoch 99/100\n",
      "7740/7740 [==============================] - 1s 66us/sample - loss: 0.3877 - val_loss: 0.3847\n",
      "Epoch 100/100\n",
      "7740/7740 [==============================] - 1s 66us/sample - loss: 0.3870 - val_loss: 0.3834\n",
      "3870/3870 [==============================] - 0s 30us/sample - loss: 0.3991\n",
      "[CV]  learning_rate=0.00030107783636342726, n_hidden=3, n_neurons=21, total=  52.2s\n",
      "[CV] learning_rate=0.00030107783636342726, n_hidden=3, n_neurons=21 ..\n",
      "Train on 7740 samples, validate on 3870 samples\n",
      "Epoch 1/100\n",
      "7740/7740 [==============================] - 1s 89us/sample - loss: 5.0596 - val_loss: 2.9550\n",
      "Epoch 2/100\n",
      "7740/7740 [==============================] - 1s 66us/sample - loss: 2.1383 - val_loss: 5.8779\n",
      "Epoch 3/100\n",
      "7740/7740 [==============================] - 1s 66us/sample - loss: 1.2774 - val_loss: 10.6370\n",
      "Epoch 4/100\n",
      "7740/7740 [==============================] - 1s 66us/sample - loss: 1.0897 - val_loss: 11.0355\n",
      "Epoch 5/100\n",
      "7740/7740 [==============================] - 1s 67us/sample - loss: 1.0049 - val_loss: 9.7557\n",
      "Epoch 6/100\n",
      "7740/7740 [==============================] - 1s 66us/sample - loss: 0.9441 - val_loss: 8.1254\n",
      "Epoch 7/100\n",
      "7740/7740 [==============================] - 1s 66us/sample - loss: 0.8975 - val_loss: 6.3476\n",
      "Epoch 8/100\n",
      "7740/7740 [==============================] - 1s 66us/sample - loss: 0.8607 - val_loss: 4.8009\n",
      "Epoch 9/100\n",
      "7740/7740 [==============================] - 1s 66us/sample - loss: 0.8306 - val_loss: 3.4145\n",
      "Epoch 10/100\n",
      "7740/7740 [==============================] - 1s 66us/sample - loss: 0.8060 - val_loss: 2.6140\n",
      "Epoch 11/100\n",
      "7740/7740 [==============================] - 1s 67us/sample - loss: 0.7845 - val_loss: 1.8966\n",
      "Epoch 12/100\n",
      "7740/7740 [==============================] - 1s 66us/sample - loss: 0.7657 - val_loss: 1.3967\n",
      "Epoch 13/100\n",
      "7740/7740 [==============================] - 1s 66us/sample - loss: 0.7491 - val_loss: 1.1024\n",
      "Epoch 14/100\n",
      "7740/7740 [==============================] - 1s 66us/sample - loss: 0.7339 - val_loss: 0.8552\n",
      "Epoch 15/100\n",
      "7740/7740 [==============================] - 1s 65us/sample - loss: 0.7199 - val_loss: 0.7101\n",
      "Epoch 16/100\n",
      "7740/7740 [==============================] - 1s 67us/sample - loss: 0.7073 - val_loss: 0.6640\n",
      "Epoch 17/100\n",
      "7740/7740 [==============================] - 1s 66us/sample - loss: 0.6950 - val_loss: 0.6902\n",
      "Epoch 18/100\n",
      "7740/7740 [==============================] - 1s 66us/sample - loss: 0.6835 - val_loss: 0.7543\n",
      "Epoch 19/100\n",
      "7740/7740 [==============================] - 1s 66us/sample - loss: 0.6729 - val_loss: 0.8957\n",
      "Epoch 20/100\n",
      "7740/7740 [==============================] - 1s 66us/sample - loss: 0.6624 - val_loss: 1.1091\n",
      "Epoch 21/100\n",
      "7740/7740 [==============================] - 1s 66us/sample - loss: 0.6528 - val_loss: 1.3141\n",
      "Epoch 22/100\n",
      "7740/7740 [==============================] - 1s 66us/sample - loss: 0.6435 - val_loss: 1.5836\n",
      "Epoch 23/100\n",
      "7740/7740 [==============================] - 1s 66us/sample - loss: 0.6348 - val_loss: 1.8804\n",
      "Epoch 24/100\n",
      "7740/7740 [==============================] - 1s 66us/sample - loss: 0.6266 - val_loss: 2.1592\n",
      "Epoch 25/100\n",
      "7740/7740 [==============================] - 1s 67us/sample - loss: 0.6188 - val_loss: 2.5489\n",
      "Epoch 26/100\n",
      "7740/7740 [==============================] - 1s 66us/sample - loss: 0.6112 - val_loss: 2.8359\n",
      "3870/3870 [==============================] - 0s 30us/sample - loss: 0.6766\n",
      "[CV]  learning_rate=0.00030107783636342726, n_hidden=3, n_neurons=21, total=  13.7s\n",
      "[CV] learning_rate=0.00030107783636342726, n_hidden=3, n_neurons=21 ..\n",
      "Train on 7740 samples, validate on 3870 samples\n",
      "Epoch 1/100\n",
      "7740/7740 [==============================] - 1s 89us/sample - loss: 4.4070 - val_loss: 3.5477\n",
      "Epoch 2/100\n",
      "7740/7740 [==============================] - 1s 67us/sample - loss: 2.5644 - val_loss: 3.0315\n",
      "Epoch 3/100\n",
      "7740/7740 [==============================] - 1s 66us/sample - loss: 1.4006 - val_loss: 2.9878\n",
      "Epoch 4/100\n",
      "7740/7740 [==============================] - 1s 66us/sample - loss: 0.9858 - val_loss: 1.9229\n",
      "Epoch 5/100\n",
      "7740/7740 [==============================] - 1s 66us/sample - loss: 0.8391 - val_loss: 1.3465\n",
      "Epoch 6/100\n",
      "7740/7740 [==============================] - 1s 66us/sample - loss: 0.7683 - val_loss: 1.0212\n",
      "Epoch 7/100\n",
      "7740/7740 [==============================] - 1s 66us/sample - loss: 0.7267 - val_loss: 0.8280\n",
      "Epoch 8/100\n",
      "7740/7740 [==============================] - 1s 65us/sample - loss: 0.6991 - val_loss: 0.7424\n",
      "Epoch 9/100\n",
      "7740/7740 [==============================] - 1s 65us/sample - loss: 0.6798 - val_loss: 0.6976\n",
      "Epoch 10/100\n",
      "7740/7740 [==============================] - 1s 66us/sample - loss: 0.6650 - val_loss: 0.6660\n",
      "Epoch 11/100\n",
      "7740/7740 [==============================] - 1s 66us/sample - loss: 0.6528 - val_loss: 0.6406\n",
      "Epoch 12/100\n",
      "7740/7740 [==============================] - 1s 66us/sample - loss: 0.6422 - val_loss: 0.6224\n",
      "Epoch 13/100\n",
      "7740/7740 [==============================] - 1s 66us/sample - loss: 0.6325 - val_loss: 0.6083\n",
      "Epoch 14/100\n",
      "7740/7740 [==============================] - 1s 66us/sample - loss: 0.6236 - val_loss: 0.5963\n",
      "Epoch 15/100\n",
      "7740/7740 [==============================] - 1s 66us/sample - loss: 0.6152 - val_loss: 0.5853\n",
      "Epoch 16/100\n",
      "7740/7740 [==============================] - 1s 66us/sample - loss: 0.6072 - val_loss: 0.5758\n",
      "Epoch 17/100\n",
      "7740/7740 [==============================] - 1s 66us/sample - loss: 0.5993 - val_loss: 0.5672\n",
      "Epoch 18/100\n",
      "7740/7740 [==============================] - 1s 67us/sample - loss: 0.5916 - val_loss: 0.5599\n",
      "Epoch 19/100\n",
      "7740/7740 [==============================] - 1s 66us/sample - loss: 0.5842 - val_loss: 0.5519\n",
      "Epoch 20/100\n",
      "7740/7740 [==============================] - 1s 65us/sample - loss: 0.5769 - val_loss: 0.5446\n",
      "Epoch 21/100\n",
      "7740/7740 [==============================] - 1s 66us/sample - loss: 0.5698 - val_loss: 0.5376\n",
      "Epoch 22/100\n",
      "7740/7740 [==============================] - 1s 66us/sample - loss: 0.5628 - val_loss: 0.5309\n",
      "Epoch 23/100\n",
      "7740/7740 [==============================] - 1s 66us/sample - loss: 0.5559 - val_loss: 0.5241\n",
      "Epoch 24/100\n",
      "7740/7740 [==============================] - 1s 66us/sample - loss: 0.5492 - val_loss: 0.5178\n",
      "Epoch 25/100\n",
      "7740/7740 [==============================] - 1s 66us/sample - loss: 0.5426 - val_loss: 0.5111\n",
      "Epoch 26/100\n",
      "7740/7740 [==============================] - 1s 66us/sample - loss: 0.5361 - val_loss: 0.5050\n",
      "Epoch 27/100\n",
      "7740/7740 [==============================] - 1s 65us/sample - loss: 0.5298 - val_loss: 0.4990\n",
      "Epoch 28/100\n",
      "7740/7740 [==============================] - 1s 65us/sample - loss: 0.5236 - val_loss: 0.4929\n",
      "Epoch 29/100\n",
      "7740/7740 [==============================] - 1s 66us/sample - loss: 0.5175 - val_loss: 0.4875\n",
      "Epoch 30/100\n",
      "7740/7740 [==============================] - 1s 66us/sample - loss: 0.5116 - val_loss: 0.4819\n",
      "Epoch 31/100\n",
      "7740/7740 [==============================] - 1s 66us/sample - loss: 0.5059 - val_loss: 0.4775\n",
      "Epoch 32/100\n",
      "7740/7740 [==============================] - 1s 66us/sample - loss: 0.5005 - val_loss: 0.4727\n",
      "Epoch 33/100\n"
     ]
    },
    {
     "name": "stdout",
     "output_type": "stream",
     "text": [
      "7740/7740 [==============================] - 1s 65us/sample - loss: 0.4953 - val_loss: 0.4684\n",
      "Epoch 34/100\n",
      "7740/7740 [==============================] - 1s 66us/sample - loss: 0.4902 - val_loss: 0.4652\n",
      "Epoch 35/100\n",
      "7740/7740 [==============================] - 1s 65us/sample - loss: 0.4856 - val_loss: 0.4610\n",
      "Epoch 36/100\n",
      "7740/7740 [==============================] - 1s 66us/sample - loss: 0.4811 - val_loss: 0.4579\n",
      "Epoch 37/100\n",
      "7740/7740 [==============================] - 1s 65us/sample - loss: 0.4768 - val_loss: 0.4553\n",
      "Epoch 38/100\n",
      "7740/7740 [==============================] - 1s 66us/sample - loss: 0.4728 - val_loss: 0.4532\n",
      "Epoch 39/100\n",
      "7740/7740 [==============================] - 1s 66us/sample - loss: 0.4689 - val_loss: 0.4517\n",
      "Epoch 40/100\n",
      "7740/7740 [==============================] - 1s 65us/sample - loss: 0.4653 - val_loss: 0.4492\n",
      "Epoch 41/100\n",
      "7740/7740 [==============================] - 1s 66us/sample - loss: 0.4618 - val_loss: 0.4478\n",
      "Epoch 42/100\n",
      "7740/7740 [==============================] - 1s 66us/sample - loss: 0.4586 - val_loss: 0.4464\n",
      "Epoch 43/100\n",
      "7740/7740 [==============================] - 1s 66us/sample - loss: 0.4554 - val_loss: 0.4451\n",
      "Epoch 44/100\n",
      "7740/7740 [==============================] - 1s 66us/sample - loss: 0.4525 - val_loss: 0.4445\n",
      "Epoch 45/100\n",
      "7740/7740 [==============================] - 1s 66us/sample - loss: 0.4496 - val_loss: 0.4439\n",
      "Epoch 46/100\n",
      "7740/7740 [==============================] - 1s 65us/sample - loss: 0.4470 - val_loss: 0.4439\n",
      "Epoch 47/100\n",
      "7740/7740 [==============================] - 1s 66us/sample - loss: 0.4445 - val_loss: 0.4430\n",
      "Epoch 48/100\n",
      "7740/7740 [==============================] - 1s 67us/sample - loss: 0.4421 - val_loss: 0.4435\n",
      "Epoch 49/100\n",
      "7740/7740 [==============================] - 1s 66us/sample - loss: 0.4398 - val_loss: 0.4437\n",
      "Epoch 50/100\n",
      "7740/7740 [==============================] - 1s 65us/sample - loss: 0.4376 - val_loss: 0.4440\n",
      "Epoch 51/100\n",
      "7740/7740 [==============================] - 1s 66us/sample - loss: 0.4354 - val_loss: 0.4437\n",
      "Epoch 52/100\n",
      "7740/7740 [==============================] - 1s 66us/sample - loss: 0.4335 - val_loss: 0.4447\n",
      "Epoch 53/100\n",
      "7740/7740 [==============================] - 1s 66us/sample - loss: 0.4315 - val_loss: 0.4446\n",
      "Epoch 54/100\n",
      "7740/7740 [==============================] - 1s 65us/sample - loss: 0.4297 - val_loss: 0.4452\n",
      "Epoch 55/100\n",
      "7740/7740 [==============================] - 1s 66us/sample - loss: 0.4280 - val_loss: 0.4471\n",
      "Epoch 56/100\n",
      "7740/7740 [==============================] - 1s 66us/sample - loss: 0.4263 - val_loss: 0.4492\n",
      "Epoch 57/100\n",
      "7740/7740 [==============================] - 1s 67us/sample - loss: 0.4246 - val_loss: 0.4486\n",
      "3870/3870 [==============================] - 0s 31us/sample - loss: 0.4258\n",
      "[CV]  learning_rate=0.00030107783636342726, n_hidden=3, n_neurons=21, total=  29.4s\n",
      "[CV] learning_rate=0.005153286333701512, n_hidden=1, n_neurons=22 ....\n",
      "Train on 7740 samples, validate on 3870 samples\n",
      "Epoch 1/100\n",
      "7740/7740 [==============================] - 1s 78us/sample - loss: 1.4845 - val_loss: 35.5339\n",
      "Epoch 2/100\n",
      "7740/7740 [==============================] - 0s 58us/sample - loss: 0.8461 - val_loss: 0.5467\n",
      "Epoch 3/100\n",
      "7740/7740 [==============================] - 0s 58us/sample - loss: 0.5170 - val_loss: 0.4691\n",
      "Epoch 4/100\n",
      "7740/7740 [==============================] - 0s 58us/sample - loss: 0.4755 - val_loss: 0.4427\n",
      "Epoch 5/100\n",
      "7740/7740 [==============================] - 0s 58us/sample - loss: 0.4501 - val_loss: 0.4391\n",
      "Epoch 6/100\n",
      "7740/7740 [==============================] - 0s 58us/sample - loss: 0.4353 - val_loss: 0.4316\n",
      "Epoch 7/100\n",
      "7740/7740 [==============================] - 0s 58us/sample - loss: 0.4246 - val_loss: 0.4399\n",
      "Epoch 8/100\n",
      "7740/7740 [==============================] - 0s 58us/sample - loss: 0.4170 - val_loss: 0.4396\n",
      "Epoch 9/100\n",
      "7740/7740 [==============================] - 0s 58us/sample - loss: 0.4120 - val_loss: 0.4404\n",
      "Epoch 10/100\n",
      "7740/7740 [==============================] - 0s 58us/sample - loss: 0.4074 - val_loss: 0.4411\n",
      "Epoch 11/100\n",
      "7740/7740 [==============================] - 0s 58us/sample - loss: 0.4038 - val_loss: 0.4408\n",
      "Epoch 12/100\n",
      "7740/7740 [==============================] - 0s 58us/sample - loss: 0.4013 - val_loss: 0.4403\n",
      "Epoch 13/100\n",
      "7740/7740 [==============================] - 0s 58us/sample - loss: 0.3988 - val_loss: 0.4407\n",
      "Epoch 14/100\n",
      "7740/7740 [==============================] - 0s 58us/sample - loss: 0.3962 - val_loss: 0.4424\n",
      "Epoch 15/100\n",
      "7740/7740 [==============================] - 0s 58us/sample - loss: 0.3945 - val_loss: 0.4410\n",
      "Epoch 16/100\n",
      "7740/7740 [==============================] - 0s 58us/sample - loss: 0.3931 - val_loss: 0.4383\n",
      "3870/3870 [==============================] - 0s 27us/sample - loss: 0.3994\n",
      "[CV]  learning_rate=0.005153286333701512, n_hidden=1, n_neurons=22, total=   7.5s\n",
      "[CV] learning_rate=0.005153286333701512, n_hidden=1, n_neurons=22 ....\n",
      "Train on 7740 samples, validate on 3870 samples\n",
      "Epoch 1/100\n",
      "7740/7740 [==============================] - 1s 77us/sample - loss: 1.2414 - val_loss: 0.6622\n",
      "Epoch 2/100\n",
      "7740/7740 [==============================] - 0s 58us/sample - loss: 0.5775 - val_loss: 0.9135\n",
      "Epoch 3/100\n",
      "7740/7740 [==============================] - 0s 58us/sample - loss: 0.5142 - val_loss: 1.3277\n",
      "Epoch 4/100\n",
      "7740/7740 [==============================] - 0s 59us/sample - loss: 0.4808 - val_loss: 1.0918\n",
      "Epoch 5/100\n",
      "7740/7740 [==============================] - 0s 59us/sample - loss: 0.4607 - val_loss: 0.9326\n",
      "Epoch 6/100\n",
      "7740/7740 [==============================] - 0s 58us/sample - loss: 0.4453 - val_loss: 0.6336\n",
      "Epoch 7/100\n",
      "7740/7740 [==============================] - 0s 58us/sample - loss: 0.4315 - val_loss: 0.5175\n",
      "Epoch 8/100\n",
      "7740/7740 [==============================] - 0s 58us/sample - loss: 0.4235 - val_loss: 0.4141\n",
      "Epoch 9/100\n",
      "7740/7740 [==============================] - 0s 58us/sample - loss: 0.4159 - val_loss: 0.3806\n",
      "Epoch 10/100\n",
      "7740/7740 [==============================] - 0s 58us/sample - loss: 0.4089 - val_loss: 0.3892\n",
      "Epoch 11/100\n",
      "7740/7740 [==============================] - 0s 58us/sample - loss: 0.4051 - val_loss: 0.4235\n",
      "Epoch 12/100\n",
      "7740/7740 [==============================] - 0s 58us/sample - loss: 0.3998 - val_loss: 0.4262\n",
      "Epoch 13/100\n",
      "7740/7740 [==============================] - 0s 58us/sample - loss: 0.3988 - val_loss: 0.4753\n",
      "Epoch 14/100\n",
      "7740/7740 [==============================] - 0s 60us/sample - loss: 0.3943 - val_loss: 0.5507\n",
      "Epoch 15/100\n",
      "7740/7740 [==============================] - 0s 58us/sample - loss: 0.3902 - val_loss: 0.5442\n",
      "Epoch 16/100\n",
      "7740/7740 [==============================] - 0s 59us/sample - loss: 0.3896 - val_loss: 0.6559\n",
      "Epoch 17/100\n",
      "7740/7740 [==============================] - 0s 58us/sample - loss: 0.3867 - val_loss: 0.6873\n",
      "Epoch 18/100\n",
      "7740/7740 [==============================] - 0s 58us/sample - loss: 0.3837 - val_loss: 0.7186\n",
      "Epoch 19/100\n",
      "7740/7740 [==============================] - 0s 58us/sample - loss: 0.3818 - val_loss: 0.6561\n",
      "3870/3870 [==============================] - 0s 27us/sample - loss: 0.3968\n",
      "[CV]  learning_rate=0.005153286333701512, n_hidden=1, n_neurons=22, total=   8.9s\n",
      "[CV] learning_rate=0.005153286333701512, n_hidden=1, n_neurons=22 ....\n",
      "Train on 7740 samples, validate on 3870 samples\n",
      "Epoch 1/100\n",
      "7740/7740 [==============================] - 1s 77us/sample - loss: 1.6836 - val_loss: 51.2996\n",
      "Epoch 2/100\n",
      "7740/7740 [==============================] - 0s 58us/sample - loss: 0.9003 - val_loss: 0.5389\n",
      "Epoch 3/100\n",
      "7740/7740 [==============================] - 0s 60us/sample - loss: 0.5341 - val_loss: 0.4896\n",
      "Epoch 4/100\n",
      "7740/7740 [==============================] - 0s 57us/sample - loss: 0.4987 - val_loss: 0.4567\n",
      "Epoch 5/100\n",
      "7740/7740 [==============================] - 0s 58us/sample - loss: 0.4742 - val_loss: 0.4354\n",
      "Epoch 6/100\n",
      "7740/7740 [==============================] - 0s 57us/sample - loss: 0.4585 - val_loss: 0.4215\n",
      "Epoch 7/100\n",
      "7740/7740 [==============================] - 0s 58us/sample - loss: 0.4479 - val_loss: 0.4123\n",
      "Epoch 8/100\n",
      "7740/7740 [==============================] - 0s 58us/sample - loss: 0.4401 - val_loss: 0.4088\n",
      "Epoch 9/100\n",
      "7740/7740 [==============================] - 0s 58us/sample - loss: 0.4336 - val_loss: 0.4047\n",
      "Epoch 10/100\n"
     ]
    },
    {
     "name": "stdout",
     "output_type": "stream",
     "text": [
      "7740/7740 [==============================] - 0s 58us/sample - loss: 0.4284 - val_loss: 0.4023\n",
      "Epoch 11/100\n",
      "7740/7740 [==============================] - 0s 58us/sample - loss: 0.4241 - val_loss: 0.4012\n",
      "Epoch 12/100\n",
      "7740/7740 [==============================] - 0s 58us/sample - loss: 0.4208 - val_loss: 0.4043\n",
      "Epoch 13/100\n",
      "7740/7740 [==============================] - 0s 58us/sample - loss: 0.4175 - val_loss: 0.4022\n",
      "Epoch 14/100\n",
      "7740/7740 [==============================] - 0s 58us/sample - loss: 0.4147 - val_loss: 0.4040\n",
      "Epoch 15/100\n",
      "7740/7740 [==============================] - 0s 58us/sample - loss: 0.4124 - val_loss: 0.4049\n",
      "Epoch 16/100\n",
      "7740/7740 [==============================] - 0s 58us/sample - loss: 0.4098 - val_loss: 0.4034\n",
      "Epoch 17/100\n",
      "7740/7740 [==============================] - 0s 59us/sample - loss: 0.4073 - val_loss: 0.4036\n",
      "Epoch 18/100\n",
      "7740/7740 [==============================] - 0s 61us/sample - loss: 0.4050 - val_loss: 0.4038\n",
      "Epoch 19/100\n",
      "7740/7740 [==============================] - 0s 60us/sample - loss: 0.4031 - val_loss: 0.4000\n",
      "Epoch 20/100\n",
      "7740/7740 [==============================] - 0s 60us/sample - loss: 0.4014 - val_loss: 0.4091\n",
      "Epoch 21/100\n",
      "7740/7740 [==============================] - 0s 58us/sample - loss: 0.3995 - val_loss: 0.4060\n",
      "Epoch 22/100\n",
      "7740/7740 [==============================] - 0s 58us/sample - loss: 0.3979 - val_loss: 0.4134\n",
      "Epoch 23/100\n",
      "7740/7740 [==============================] - 0s 58us/sample - loss: 0.3958 - val_loss: 0.4069\n",
      "Epoch 24/100\n",
      "7740/7740 [==============================] - 0s 58us/sample - loss: 0.3941 - val_loss: 0.4115\n",
      "Epoch 25/100\n",
      "7740/7740 [==============================] - 0s 58us/sample - loss: 0.3928 - val_loss: 0.4106\n",
      "Epoch 26/100\n",
      "7740/7740 [==============================] - 0s 58us/sample - loss: 0.3914 - val_loss: 0.4099\n",
      "Epoch 27/100\n",
      "7740/7740 [==============================] - 0s 58us/sample - loss: 0.3899 - val_loss: 0.4136\n",
      "Epoch 28/100\n",
      "7740/7740 [==============================] - 0s 58us/sample - loss: 0.3890 - val_loss: 0.4096\n",
      "Epoch 29/100\n",
      "7740/7740 [==============================] - 0s 58us/sample - loss: 0.3879 - val_loss: 0.4087\n",
      "3870/3870 [==============================] - 0s 27us/sample - loss: 0.3854\n",
      "[CV]  learning_rate=0.005153286333701512, n_hidden=1, n_neurons=22, total=  13.4s\n",
      "[CV] learning_rate=0.0003099230412972121, n_hidden=0, n_neurons=49 ...\n",
      "Train on 7740 samples, validate on 3870 samples\n",
      "Epoch 1/100\n",
      "7740/7740 [==============================] - 1s 76us/sample - loss: 7.7217 - val_loss: 43.0506\n",
      "Epoch 2/100\n",
      "7740/7740 [==============================] - 0s 58us/sample - loss: 5.5388 - val_loss: 27.4292\n",
      "Epoch 3/100\n",
      "7740/7740 [==============================] - 0s 55us/sample - loss: 4.0672 - val_loss: 17.4115\n",
      "Epoch 4/100\n",
      "7740/7740 [==============================] - 0s 55us/sample - loss: 3.0653 - val_loss: 11.0238\n",
      "Epoch 5/100\n",
      "7740/7740 [==============================] - 0s 59us/sample - loss: 2.3732 - val_loss: 7.0240\n",
      "Epoch 6/100\n",
      "7740/7740 [==============================] - 0s 57us/sample - loss: 1.8924 - val_loss: 4.5011\n",
      "Epoch 7/100\n",
      "7740/7740 [==============================] - 0s 60us/sample - loss: 1.5535 - val_loss: 2.9137\n",
      "Epoch 8/100\n",
      "7740/7740 [==============================] - 0s 57us/sample - loss: 1.3132 - val_loss: 1.9725\n",
      "Epoch 9/100\n",
      "7740/7740 [==============================] - 0s 60us/sample - loss: 1.1424 - val_loss: 1.4086\n",
      "Epoch 10/100\n",
      "7740/7740 [==============================] - 0s 62us/sample - loss: 1.0195 - val_loss: 1.0738\n",
      "Epoch 11/100\n",
      "7740/7740 [==============================] - 0s 56us/sample - loss: 0.9299 - val_loss: 0.8882\n",
      "Epoch 12/100\n",
      "7740/7740 [==============================] - 0s 57us/sample - loss: 0.8642 - val_loss: 0.7914\n",
      "Epoch 13/100\n",
      "7740/7740 [==============================] - 0s 56us/sample - loss: 0.8156 - val_loss: 0.7516\n",
      "Epoch 14/100\n",
      "7740/7740 [==============================] - 0s 55us/sample - loss: 0.7794 - val_loss: 0.7475\n",
      "Epoch 15/100\n",
      "7740/7740 [==============================] - 0s 61us/sample - loss: 0.7520 - val_loss: 0.7645\n",
      "Epoch 16/100\n",
      "7740/7740 [==============================] - 0s 59us/sample - loss: 0.7311 - val_loss: 0.7813\n",
      "Epoch 17/100\n",
      "7740/7740 [==============================] - 0s 62us/sample - loss: 0.7149 - val_loss: 0.8135\n",
      "Epoch 18/100\n",
      "7740/7740 [==============================] - 0s 56us/sample - loss: 0.7023 - val_loss: 0.8417\n",
      "Epoch 19/100\n",
      "7740/7740 [==============================] - 0s 57us/sample - loss: 0.6923 - val_loss: 0.8599\n",
      "Epoch 20/100\n",
      "7740/7740 [==============================] - 0s 54us/sample - loss: 0.6841 - val_loss: 0.8713\n",
      "Epoch 21/100\n",
      "7740/7740 [==============================] - 0s 54us/sample - loss: 0.6773 - val_loss: 0.8857\n",
      "Epoch 22/100\n",
      "7740/7740 [==============================] - 0s 56us/sample - loss: 0.6715 - val_loss: 0.9026\n",
      "Epoch 23/100\n",
      "7740/7740 [==============================] - 0s 58us/sample - loss: 0.6664 - val_loss: 0.9227\n",
      "Epoch 24/100\n",
      "7740/7740 [==============================] - 0s 55us/sample - loss: 0.6621 - val_loss: 0.9242\n",
      "3870/3870 [==============================] - 0s 26us/sample - loss: 0.6633\n",
      "[CV]  learning_rate=0.0003099230412972121, n_hidden=0, n_neurons=49, total=  11.0s\n",
      "[CV] learning_rate=0.0003099230412972121, n_hidden=0, n_neurons=49 ...\n",
      "Train on 7740 samples, validate on 3870 samples\n",
      "Epoch 1/100\n",
      "7740/7740 [==============================] - 1s 71us/sample - loss: 7.6319 - val_loss: 25.5299\n",
      "Epoch 2/100\n",
      "7740/7740 [==============================] - 0s 54us/sample - loss: 5.6945 - val_loss: 23.7997\n",
      "Epoch 3/100\n",
      "7740/7740 [==============================] - 0s 54us/sample - loss: 4.3241 - val_loss: 22.5858\n",
      "Epoch 4/100\n",
      "7740/7740 [==============================] - 0s 54us/sample - loss: 3.3431 - val_loss: 21.7425\n",
      "Epoch 5/100\n",
      "7740/7740 [==============================] - 0s 54us/sample - loss: 2.6344 - val_loss: 21.1466\n",
      "Epoch 6/100\n",
      "7740/7740 [==============================] - 0s 54us/sample - loss: 2.1176 - val_loss: 20.7281\n",
      "Epoch 7/100\n",
      "7740/7740 [==============================] - 0s 54us/sample - loss: 1.7381 - val_loss: 20.4354\n",
      "Epoch 8/100\n",
      "7740/7740 [==============================] - 0s 54us/sample - loss: 1.4574 - val_loss: 20.2416\n",
      "Epoch 9/100\n",
      "7740/7740 [==============================] - 0s 54us/sample - loss: 1.2484 - val_loss: 20.1131\n",
      "Epoch 10/100\n",
      "7740/7740 [==============================] - 0s 54us/sample - loss: 1.0921 - val_loss: 20.0378\n",
      "Epoch 11/100\n",
      "7740/7740 [==============================] - 0s 56us/sample - loss: 0.9744 - val_loss: 19.9971\n",
      "Epoch 12/100\n",
      "7740/7740 [==============================] - 0s 55us/sample - loss: 0.8855 - val_loss: 19.9839\n",
      "Epoch 13/100\n",
      "7740/7740 [==============================] - 0s 55us/sample - loss: 0.8178 - val_loss: 19.9964\n",
      "Epoch 14/100\n",
      "7740/7740 [==============================] - 0s 54us/sample - loss: 0.7659 - val_loss: 20.0215\n",
      "Epoch 15/100\n",
      "7740/7740 [==============================] - 0s 55us/sample - loss: 0.7260 - val_loss: 20.0579\n",
      "Epoch 16/100\n",
      "7740/7740 [==============================] - 0s 55us/sample - loss: 0.6950 - val_loss: 20.1105\n",
      "Epoch 17/100\n",
      "7740/7740 [==============================] - 0s 54us/sample - loss: 0.6709 - val_loss: 20.1648\n",
      "Epoch 18/100\n",
      "7740/7740 [==============================] - 0s 55us/sample - loss: 0.6518 - val_loss: 20.2247\n",
      "Epoch 19/100\n",
      "7740/7740 [==============================] - 0s 54us/sample - loss: 0.6366 - val_loss: 20.2845\n",
      "Epoch 20/100\n",
      "7740/7740 [==============================] - 0s 57us/sample - loss: 0.6245 - val_loss: 20.3550\n",
      "Epoch 21/100\n",
      "7740/7740 [==============================] - 0s 59us/sample - loss: 0.6147 - val_loss: 20.4260\n",
      "Epoch 22/100\n",
      "7740/7740 [==============================] - 0s 61us/sample - loss: 0.6067 - val_loss: 20.4958\n",
      "3870/3870 [==============================] - 0s 31us/sample - loss: 1.0972\n",
      "[CV]  learning_rate=0.0003099230412972121, n_hidden=0, n_neurons=49, total=   9.8s\n",
      "[CV] learning_rate=0.0003099230412972121, n_hidden=0, n_neurons=49 ...\n",
      "Train on 7740 samples, validate on 3870 samples\n",
      "Epoch 1/100\n",
      "7740/7740 [==============================] - 1s 79us/sample - loss: 6.1534 - val_loss: 7.6082\n",
      "Epoch 2/100\n",
      "7740/7740 [==============================] - 0s 63us/sample - loss: 4.4875 - val_loss: 4.9014\n",
      "Epoch 3/100\n",
      "7740/7740 [==============================] - 0s 60us/sample - loss: 3.3698 - val_loss: 3.2853\n"
     ]
    },
    {
     "name": "stdout",
     "output_type": "stream",
     "text": [
      "Epoch 4/100\n",
      "7740/7740 [==============================] - 1s 67us/sample - loss: 2.6022 - val_loss: 2.3426\n",
      "Epoch 5/100\n",
      "7740/7740 [==============================] - 0s 60us/sample - loss: 2.0664 - val_loss: 1.7733\n",
      "Epoch 6/100\n",
      "7740/7740 [==============================] - 0s 60us/sample - loss: 1.6865 - val_loss: 1.4371\n",
      "Epoch 7/100\n",
      "7740/7740 [==============================] - 0s 59us/sample - loss: 1.4144 - val_loss: 1.2377\n",
      "Epoch 8/100\n",
      "7740/7740 [==============================] - 0s 59us/sample - loss: 1.2173 - val_loss: 1.1218\n",
      "Epoch 9/100\n",
      "7740/7740 [==============================] - 0s 58us/sample - loss: 1.0732 - val_loss: 1.0580\n",
      "Epoch 10/100\n",
      "7740/7740 [==============================] - 0s 61us/sample - loss: 0.9674 - val_loss: 1.0234\n",
      "Epoch 11/100\n",
      "7740/7740 [==============================] - 0s 57us/sample - loss: 0.8892 - val_loss: 0.9967\n",
      "Epoch 12/100\n",
      "7740/7740 [==============================] - 0s 55us/sample - loss: 0.8310 - val_loss: 0.9828\n",
      "Epoch 13/100\n",
      "7740/7740 [==============================] - 0s 55us/sample - loss: 0.7874 - val_loss: 0.9636\n",
      "Epoch 14/100\n",
      "7740/7740 [==============================] - 0s 55us/sample - loss: 0.7544 - val_loss: 0.9520\n",
      "Epoch 15/100\n",
      "7740/7740 [==============================] - 0s 56us/sample - loss: 0.7294 - val_loss: 0.9401\n",
      "Epoch 16/100\n",
      "7740/7740 [==============================] - 0s 56us/sample - loss: 0.7101 - val_loss: 0.9402\n",
      "Epoch 17/100\n",
      "7740/7740 [==============================] - 0s 56us/sample - loss: 0.6951 - val_loss: 0.9493\n",
      "Epoch 18/100\n",
      "7740/7740 [==============================] - 0s 54us/sample - loss: 0.6833 - val_loss: 0.9449\n",
      "Epoch 19/100\n",
      "7740/7740 [==============================] - 0s 53us/sample - loss: 0.6738 - val_loss: 0.9472\n",
      "Epoch 20/100\n",
      "7740/7740 [==============================] - 0s 54us/sample - loss: 0.6660 - val_loss: 0.9560\n",
      "Epoch 21/100\n",
      "7740/7740 [==============================] - 0s 54us/sample - loss: 0.6597 - val_loss: 0.9580\n",
      "Epoch 22/100\n",
      "7740/7740 [==============================] - 0s 54us/sample - loss: 0.6543 - val_loss: 0.9593\n",
      "Epoch 23/100\n",
      "7740/7740 [==============================] - 0s 53us/sample - loss: 0.6496 - val_loss: 0.9608\n",
      "Epoch 24/100\n",
      "7740/7740 [==============================] - 0s 53us/sample - loss: 0.6456 - val_loss: 0.9579\n",
      "Epoch 25/100\n",
      "7740/7740 [==============================] - 0s 55us/sample - loss: 0.6419 - val_loss: 0.9564\n",
      "3870/3870 [==============================] - 0s 26us/sample - loss: 0.6453\n",
      "[CV]  learning_rate=0.0003099230412972121, n_hidden=0, n_neurons=49, total=  11.4s\n",
      "[CV] learning_rate=0.0033625641252688094, n_hidden=2, n_neurons=42 ...\n",
      "Train on 7740 samples, validate on 3870 samples\n",
      "Epoch 1/100\n",
      "7740/7740 [==============================] - 1s 84us/sample - loss: 1.3940 - val_loss: 12.7105\n",
      "Epoch 2/100\n",
      "7740/7740 [==============================] - 0s 62us/sample - loss: 0.7302 - val_loss: 4.0264\n",
      "Epoch 3/100\n",
      "7740/7740 [==============================] - 0s 63us/sample - loss: 0.5546 - val_loss: 0.6581\n",
      "Epoch 4/100\n",
      "7740/7740 [==============================] - 0s 62us/sample - loss: 0.4725 - val_loss: 0.4863\n",
      "Epoch 5/100\n",
      "7740/7740 [==============================] - 0s 62us/sample - loss: 0.4407 - val_loss: 0.4827\n",
      "Epoch 6/100\n",
      "7740/7740 [==============================] - 0s 62us/sample - loss: 0.4230 - val_loss: 0.4355\n",
      "Epoch 7/100\n",
      "7740/7740 [==============================] - 0s 63us/sample - loss: 0.4089 - val_loss: 0.4474\n",
      "Epoch 8/100\n",
      "7740/7740 [==============================] - 0s 62us/sample - loss: 0.4005 - val_loss: 0.4165\n",
      "Epoch 9/100\n",
      "7740/7740 [==============================] - 0s 63us/sample - loss: 0.3942 - val_loss: 0.4195\n",
      "Epoch 10/100\n",
      "7740/7740 [==============================] - 1s 65us/sample - loss: 0.3864 - val_loss: 0.4090\n",
      "Epoch 11/100\n",
      "7740/7740 [==============================] - 0s 63us/sample - loss: 0.3800 - val_loss: 0.3859\n",
      "Epoch 12/100\n",
      "7740/7740 [==============================] - 1s 68us/sample - loss: 0.3767 - val_loss: 0.3827\n",
      "Epoch 13/100\n",
      "7740/7740 [==============================] - 0s 65us/sample - loss: 0.3722 - val_loss: 0.3834\n",
      "Epoch 14/100\n",
      "7740/7740 [==============================] - 0s 62us/sample - loss: 0.3676 - val_loss: 0.3921\n",
      "Epoch 15/100\n",
      "7740/7740 [==============================] - 0s 62us/sample - loss: 0.3643 - val_loss: 0.3808\n",
      "Epoch 16/100\n",
      "7740/7740 [==============================] - 0s 62us/sample - loss: 0.3632 - val_loss: 0.3849\n",
      "Epoch 17/100\n",
      "7740/7740 [==============================] - 0s 62us/sample - loss: 0.3595 - val_loss: 0.3894\n",
      "Epoch 18/100\n",
      "7740/7740 [==============================] - 0s 62us/sample - loss: 0.3570 - val_loss: 0.3844\n",
      "Epoch 19/100\n",
      "7740/7740 [==============================] - 0s 62us/sample - loss: 0.3560 - val_loss: 0.3801\n",
      "Epoch 20/100\n",
      "7740/7740 [==============================] - 0s 61us/sample - loss: 0.3534 - val_loss: 0.3620\n",
      "Epoch 21/100\n",
      "7740/7740 [==============================] - 0s 64us/sample - loss: 0.3507 - val_loss: 0.3653\n",
      "Epoch 22/100\n",
      "7740/7740 [==============================] - 0s 64us/sample - loss: 0.3495 - val_loss: 0.3751\n",
      "Epoch 23/100\n",
      "7740/7740 [==============================] - 0s 64us/sample - loss: 0.3480 - val_loss: 0.3661\n",
      "Epoch 24/100\n",
      "7740/7740 [==============================] - 0s 63us/sample - loss: 0.3457 - val_loss: 0.3620\n",
      "Epoch 25/100\n",
      "7740/7740 [==============================] - 0s 64us/sample - loss: 0.3439 - val_loss: 0.3773\n",
      "Epoch 26/100\n",
      "7740/7740 [==============================] - 0s 62us/sample - loss: 0.3441 - val_loss: 0.3463\n",
      "Epoch 27/100\n",
      "7740/7740 [==============================] - 0s 62us/sample - loss: 0.3432 - val_loss: 0.3723\n",
      "Epoch 28/100\n",
      "7740/7740 [==============================] - 0s 62us/sample - loss: 0.3405 - val_loss: 0.3710\n",
      "Epoch 29/100\n",
      "7740/7740 [==============================] - 0s 62us/sample - loss: 0.3384 - val_loss: 0.3462\n",
      "Epoch 30/100\n",
      "7740/7740 [==============================] - 0s 63us/sample - loss: 0.3375 - val_loss: 0.3574\n",
      "Epoch 31/100\n",
      "7740/7740 [==============================] - 0s 63us/sample - loss: 0.3359 - val_loss: 0.3712\n",
      "Epoch 32/100\n",
      "7740/7740 [==============================] - 0s 62us/sample - loss: 0.3349 - val_loss: 0.3750\n",
      "Epoch 33/100\n",
      "7740/7740 [==============================] - 0s 63us/sample - loss: 0.3345 - val_loss: 0.3333\n",
      "Epoch 34/100\n",
      "7740/7740 [==============================] - 0s 62us/sample - loss: 0.3332 - val_loss: 0.3516\n",
      "Epoch 35/100\n",
      "7740/7740 [==============================] - 0s 62us/sample - loss: 0.3315 - val_loss: 0.3521\n",
      "Epoch 36/100\n",
      "7740/7740 [==============================] - 0s 64us/sample - loss: 0.3310 - val_loss: 0.3373\n",
      "Epoch 37/100\n",
      "7740/7740 [==============================] - 0s 63us/sample - loss: 0.3300 - val_loss: 0.3442\n",
      "Epoch 38/100\n",
      "7740/7740 [==============================] - 0s 62us/sample - loss: 0.3284 - val_loss: 0.3440\n",
      "Epoch 39/100\n",
      "7740/7740 [==============================] - 0s 62us/sample - loss: 0.3280 - val_loss: 0.3466\n",
      "Epoch 40/100\n",
      "7740/7740 [==============================] - 0s 62us/sample - loss: 0.3275 - val_loss: 0.3503\n",
      "Epoch 41/100\n",
      "7740/7740 [==============================] - 0s 62us/sample - loss: 0.3269 - val_loss: 0.3352\n",
      "Epoch 42/100\n",
      "7740/7740 [==============================] - 0s 62us/sample - loss: 0.3261 - val_loss: 0.3405\n",
      "Epoch 43/100\n",
      "7740/7740 [==============================] - 0s 62us/sample - loss: 0.3250 - val_loss: 0.3611\n",
      "3870/3870 [==============================] - 0s 29us/sample - loss: 0.3648\n",
      "[CV]  learning_rate=0.0033625641252688094, n_hidden=2, n_neurons=42, total=  21.2s\n",
      "[CV] learning_rate=0.0033625641252688094, n_hidden=2, n_neurons=42 ...\n",
      "Train on 7740 samples, validate on 3870 samples\n",
      "Epoch 1/100\n",
      "7740/7740 [==============================] - 1s 83us/sample - loss: 1.1931 - val_loss: 0.9394\n",
      "Epoch 2/100\n",
      "7740/7740 [==============================] - 0s 62us/sample - loss: 0.6049 - val_loss: 0.8525\n",
      "Epoch 3/100\n",
      "7740/7740 [==============================] - 0s 62us/sample - loss: 0.5370 - val_loss: 1.1657\n",
      "Epoch 4/100\n",
      "7740/7740 [==============================] - 0s 62us/sample - loss: 0.4909 - val_loss: 0.9411\n",
      "Epoch 5/100\n",
      "7740/7740 [==============================] - 0s 62us/sample - loss: 0.4622 - val_loss: 0.7834\n",
      "Epoch 6/100\n",
      "7740/7740 [==============================] - 0s 62us/sample - loss: 0.4407 - val_loss: 0.5922\n",
      "Epoch 7/100\n"
     ]
    },
    {
     "name": "stdout",
     "output_type": "stream",
     "text": [
      "7740/7740 [==============================] - 0s 62us/sample - loss: 0.4252 - val_loss: 0.4672\n",
      "Epoch 8/100\n",
      "7740/7740 [==============================] - 0s 62us/sample - loss: 0.4137 - val_loss: 0.3866\n",
      "Epoch 9/100\n",
      "7740/7740 [==============================] - 0s 62us/sample - loss: 0.4047 - val_loss: 0.3882\n",
      "Epoch 10/100\n",
      "7740/7740 [==============================] - 0s 62us/sample - loss: 0.3967 - val_loss: 0.4710\n",
      "Epoch 11/100\n",
      "7740/7740 [==============================] - 0s 62us/sample - loss: 0.3903 - val_loss: 0.4998\n",
      "Epoch 12/100\n",
      "7740/7740 [==============================] - 0s 62us/sample - loss: 0.3837 - val_loss: 0.6031\n",
      "Epoch 13/100\n",
      "7740/7740 [==============================] - 0s 62us/sample - loss: 0.3797 - val_loss: 0.6998\n",
      "Epoch 14/100\n",
      "7740/7740 [==============================] - 0s 63us/sample - loss: 0.3754 - val_loss: 0.8515\n",
      "Epoch 15/100\n",
      "7740/7740 [==============================] - 0s 62us/sample - loss: 0.3709 - val_loss: 0.7902\n",
      "Epoch 16/100\n",
      "7740/7740 [==============================] - 0s 62us/sample - loss: 0.3683 - val_loss: 0.9823\n",
      "Epoch 17/100\n",
      "7740/7740 [==============================] - 0s 61us/sample - loss: 0.3648 - val_loss: 1.0235\n",
      "Epoch 18/100\n",
      "7740/7740 [==============================] - 0s 61us/sample - loss: 0.3628 - val_loss: 1.0548\n",
      "3870/3870 [==============================] - 0s 28us/sample - loss: 0.3868\n",
      "[CV]  learning_rate=0.0033625641252688094, n_hidden=2, n_neurons=42, total=   9.0s\n",
      "[CV] learning_rate=0.0033625641252688094, n_hidden=2, n_neurons=42 ...\n",
      "Train on 7740 samples, validate on 3870 samples\n",
      "Epoch 1/100\n",
      "7740/7740 [==============================] - 1s 83us/sample - loss: 1.1176 - val_loss: 3.6631\n",
      "Epoch 2/100\n",
      "7740/7740 [==============================] - 0s 61us/sample - loss: 0.7068 - val_loss: 2.4415\n",
      "Epoch 3/100\n",
      "7740/7740 [==============================] - 0s 62us/sample - loss: 0.5988 - val_loss: 0.7542\n",
      "Epoch 4/100\n",
      "7740/7740 [==============================] - 0s 62us/sample - loss: 0.5253 - val_loss: 0.8354\n",
      "Epoch 5/100\n",
      "7740/7740 [==============================] - 0s 62us/sample - loss: 0.4824 - val_loss: 0.4450\n",
      "Epoch 6/100\n",
      "7740/7740 [==============================] - 0s 64us/sample - loss: 0.4547 - val_loss: 0.4508\n",
      "Epoch 7/100\n",
      "7740/7740 [==============================] - 0s 62us/sample - loss: 0.4355 - val_loss: 0.4923\n",
      "Epoch 8/100\n",
      "7740/7740 [==============================] - 0s 62us/sample - loss: 0.4245 - val_loss: 0.4276\n",
      "Epoch 9/100\n",
      "7740/7740 [==============================] - 0s 62us/sample - loss: 0.4133 - val_loss: 0.5228\n",
      "Epoch 10/100\n",
      "7740/7740 [==============================] - 0s 62us/sample - loss: 0.4061 - val_loss: 0.4544\n",
      "Epoch 11/100\n",
      "7740/7740 [==============================] - 0s 62us/sample - loss: 0.3993 - val_loss: 0.3845\n",
      "Epoch 12/100\n",
      "7740/7740 [==============================] - 0s 62us/sample - loss: 0.3928 - val_loss: 0.5825\n",
      "Epoch 13/100\n",
      "7740/7740 [==============================] - 0s 62us/sample - loss: 0.3898 - val_loss: 0.4636\n",
      "Epoch 14/100\n",
      "7740/7740 [==============================] - 0s 62us/sample - loss: 0.3842 - val_loss: 0.6485\n",
      "Epoch 15/100\n",
      "7740/7740 [==============================] - 0s 62us/sample - loss: 0.3808 - val_loss: 0.5205\n",
      "Epoch 16/100\n",
      "7740/7740 [==============================] - 0s 63us/sample - loss: 0.3764 - val_loss: 0.5565\n",
      "Epoch 17/100\n",
      "7740/7740 [==============================] - 0s 62us/sample - loss: 0.3740 - val_loss: 0.3703\n",
      "Epoch 18/100\n",
      "7740/7740 [==============================] - 0s 62us/sample - loss: 0.3700 - val_loss: 0.3460\n",
      "Epoch 19/100\n",
      "7740/7740 [==============================] - 0s 62us/sample - loss: 0.3663 - val_loss: 0.6020\n",
      "Epoch 20/100\n",
      "7740/7740 [==============================] - 0s 62us/sample - loss: 0.3701 - val_loss: 0.5423\n",
      "Epoch 21/100\n",
      "7740/7740 [==============================] - 0s 61us/sample - loss: 0.3631 - val_loss: 0.3545\n",
      "Epoch 22/100\n",
      "7740/7740 [==============================] - 0s 62us/sample - loss: 0.3601 - val_loss: 0.3745\n",
      "Epoch 23/100\n",
      "7740/7740 [==============================] - 0s 62us/sample - loss: 0.3576 - val_loss: 0.3672\n",
      "Epoch 24/100\n",
      "7740/7740 [==============================] - 0s 62us/sample - loss: 0.3553 - val_loss: 0.3775\n",
      "Epoch 25/100\n",
      "7740/7740 [==============================] - 0s 62us/sample - loss: 0.3531 - val_loss: 0.5842\n",
      "Epoch 26/100\n",
      "7740/7740 [==============================] - 0s 63us/sample - loss: 0.3537 - val_loss: 0.3427\n",
      "Epoch 27/100\n",
      "7740/7740 [==============================] - 0s 62us/sample - loss: 0.3499 - val_loss: 0.4517\n",
      "Epoch 28/100\n",
      "7740/7740 [==============================] - 0s 62us/sample - loss: 0.3520 - val_loss: 0.3971\n",
      "Epoch 29/100\n",
      "7740/7740 [==============================] - 0s 62us/sample - loss: 0.3483 - val_loss: 0.3307\n",
      "Epoch 30/100\n",
      "7740/7740 [==============================] - 0s 62us/sample - loss: 0.3481 - val_loss: 0.3352\n",
      "Epoch 31/100\n",
      "7740/7740 [==============================] - 0s 62us/sample - loss: 0.3458 - val_loss: 0.3398\n",
      "Epoch 32/100\n",
      "7740/7740 [==============================] - 0s 62us/sample - loss: 0.3438 - val_loss: 0.5529\n",
      "Epoch 33/100\n",
      "7740/7740 [==============================] - 0s 62us/sample - loss: 0.3440 - val_loss: 0.3624\n",
      "Epoch 34/100\n",
      "7740/7740 [==============================] - 0s 62us/sample - loss: 0.3413 - val_loss: 0.5745\n",
      "Epoch 35/100\n",
      "7740/7740 [==============================] - 0s 62us/sample - loss: 0.3429 - val_loss: 0.3335\n",
      "Epoch 36/100\n",
      "7740/7740 [==============================] - 0s 62us/sample - loss: 0.3395 - val_loss: 0.3256\n",
      "Epoch 37/100\n",
      "7740/7740 [==============================] - 0s 62us/sample - loss: 0.3388 - val_loss: 0.6801\n",
      "Epoch 38/100\n",
      "7740/7740 [==============================] - 0s 62us/sample - loss: 0.3424 - val_loss: 0.3271\n",
      "Epoch 39/100\n",
      "7740/7740 [==============================] - 0s 62us/sample - loss: 0.3362 - val_loss: 0.8728\n",
      "Epoch 40/100\n",
      "7740/7740 [==============================] - 0s 62us/sample - loss: 0.3417 - val_loss: 1.1696\n",
      "Epoch 41/100\n",
      "7740/7740 [==============================] - 0s 62us/sample - loss: 0.3532 - val_loss: 1.4030\n",
      "Epoch 42/100\n",
      "7740/7740 [==============================] - 0s 62us/sample - loss: 0.3476 - val_loss: 0.4004\n",
      "Epoch 43/100\n",
      "7740/7740 [==============================] - 0s 62us/sample - loss: 0.3387 - val_loss: 0.6380\n",
      "Epoch 44/100\n",
      "7740/7740 [==============================] - 0s 62us/sample - loss: 0.3354 - val_loss: 0.3229\n",
      "Epoch 45/100\n",
      "7740/7740 [==============================] - 0s 62us/sample - loss: 0.3325 - val_loss: 0.4888\n",
      "Epoch 46/100\n",
      "7740/7740 [==============================] - 0s 62us/sample - loss: 0.3331 - val_loss: 0.4259\n",
      "Epoch 47/100\n",
      "7740/7740 [==============================] - 0s 62us/sample - loss: 0.3331 - val_loss: 0.6908\n",
      "Epoch 48/100\n",
      "7740/7740 [==============================] - 0s 62us/sample - loss: 0.3319 - val_loss: 0.3173\n",
      "Epoch 49/100\n",
      "7740/7740 [==============================] - 0s 62us/sample - loss: 0.3295 - val_loss: 0.6959\n",
      "Epoch 50/100\n",
      "7740/7740 [==============================] - 0s 62us/sample - loss: 0.3378 - val_loss: 0.5946\n",
      "Epoch 51/100\n",
      "7740/7740 [==============================] - 0s 62us/sample - loss: 0.3311 - val_loss: 0.5934\n",
      "Epoch 52/100\n",
      "7740/7740 [==============================] - 0s 62us/sample - loss: 0.3296 - val_loss: 0.4290\n",
      "Epoch 53/100\n",
      "7740/7740 [==============================] - 0s 62us/sample - loss: 0.3284 - val_loss: 0.4567\n",
      "Epoch 54/100\n",
      "7740/7740 [==============================] - 0s 62us/sample - loss: 0.3287 - val_loss: 0.3442\n",
      "Epoch 55/100\n",
      "7740/7740 [==============================] - 0s 62us/sample - loss: 0.3286 - val_loss: 0.4242\n",
      "Epoch 56/100\n",
      "7740/7740 [==============================] - 0s 63us/sample - loss: 0.3257 - val_loss: 0.4037\n",
      "Epoch 57/100\n",
      "7740/7740 [==============================] - 0s 62us/sample - loss: 0.3242 - val_loss: 0.3202\n",
      "Epoch 58/100\n",
      "7740/7740 [==============================] - 0s 63us/sample - loss: 0.3236 - val_loss: 0.4917\n",
      "3870/3870 [==============================] - 0s 28us/sample - loss: 0.3270\n",
      "[CV]  learning_rate=0.0033625641252688094, n_hidden=2, n_neurons=42, total=  28.2s\n"
     ]
    },
    {
     "name": "stderr",
     "output_type": "stream",
     "text": [
      "[Parallel(n_jobs=1)]: Done  30 out of  30 | elapsed:  8.3min finished\n"
     ]
    },
    {
     "ename": "RuntimeError",
     "evalue": "Cannot clone object <tensorflow.python.keras.wrappers.scikit_learn.KerasRegressor object at 0x0000015386986288>, as the constructor either does not set or modifies parameter learning_rate",
     "output_type": "error",
     "traceback": [
      "\u001b[1;31m---------------------------------------------------------------------------\u001b[0m",
      "\u001b[1;31mRuntimeError\u001b[0m                              Traceback (most recent call last)",
      "\u001b[1;32m<ipython-input-169-5ae18773bdf6>\u001b[0m in \u001b[0;36m<module>\u001b[1;34m\u001b[0m\n\u001b[0;32m     11\u001b[0m rnd_search_cv.fit(X_train, y_train, epochs=100,\n\u001b[0;32m     12\u001b[0m                   \u001b[0mvalidation_data\u001b[0m\u001b[1;33m=\u001b[0m\u001b[1;33m(\u001b[0m\u001b[0mX_valid\u001b[0m\u001b[1;33m,\u001b[0m \u001b[0my_valid\u001b[0m\u001b[1;33m)\u001b[0m\u001b[1;33m,\u001b[0m\u001b[1;33m\u001b[0m\u001b[1;33m\u001b[0m\u001b[0m\n\u001b[1;32m---> 13\u001b[1;33m                   callbacks=[keras.callbacks.EarlyStopping(patience=10)])\n\u001b[0m",
      "\u001b[1;32m~\\.conda\\envs\\tf2\\lib\\site-packages\\sklearn\\model_selection\\_search.py\u001b[0m in \u001b[0;36mfit\u001b[1;34m(self, X, y, groups, **fit_params)\u001b[0m\n\u001b[0;32m    734\u001b[0m             \u001b[1;31m# of the params are estimators as well.\u001b[0m\u001b[1;33m\u001b[0m\u001b[1;33m\u001b[0m\u001b[1;33m\u001b[0m\u001b[0m\n\u001b[0;32m    735\u001b[0m             self.best_estimator_ = clone(clone(base_estimator).set_params(\n\u001b[1;32m--> 736\u001b[1;33m                 **self.best_params_))\n\u001b[0m\u001b[0;32m    737\u001b[0m             \u001b[0mrefit_start_time\u001b[0m \u001b[1;33m=\u001b[0m \u001b[0mtime\u001b[0m\u001b[1;33m.\u001b[0m\u001b[0mtime\u001b[0m\u001b[1;33m(\u001b[0m\u001b[1;33m)\u001b[0m\u001b[1;33m\u001b[0m\u001b[1;33m\u001b[0m\u001b[0m\n\u001b[0;32m    738\u001b[0m             \u001b[1;32mif\u001b[0m \u001b[0my\u001b[0m \u001b[1;32mis\u001b[0m \u001b[1;32mnot\u001b[0m \u001b[1;32mNone\u001b[0m\u001b[1;33m:\u001b[0m\u001b[1;33m\u001b[0m\u001b[1;33m\u001b[0m\u001b[0m\n",
      "\u001b[1;32m~\\.conda\\envs\\tf2\\lib\\site-packages\\sklearn\\base.py\u001b[0m in \u001b[0;36mclone\u001b[1;34m(estimator, safe)\u001b[0m\n\u001b[0;32m     80\u001b[0m             raise RuntimeError('Cannot clone object %s, as the constructor '\n\u001b[0;32m     81\u001b[0m                                \u001b[1;34m'either does not set or modifies parameter %s'\u001b[0m \u001b[1;33m%\u001b[0m\u001b[1;33m\u001b[0m\u001b[1;33m\u001b[0m\u001b[0m\n\u001b[1;32m---> 82\u001b[1;33m                                (estimator, name))\n\u001b[0m\u001b[0;32m     83\u001b[0m     \u001b[1;32mreturn\u001b[0m \u001b[0mnew_object\u001b[0m\u001b[1;33m\u001b[0m\u001b[1;33m\u001b[0m\u001b[0m\n\u001b[0;32m     84\u001b[0m \u001b[1;33m\u001b[0m\u001b[0m\n",
      "\u001b[1;31mRuntimeError\u001b[0m: Cannot clone object <tensorflow.python.keras.wrappers.scikit_learn.KerasRegressor object at 0x0000015386986288>, as the constructor either does not set or modifies parameter learning_rate"
     ]
    }
   ],
   "source": [
    "from scipy.stats import reciprocal\n",
    "from sklearn.model_selection import RandomizedSearchCV\n",
    "\n",
    "param_distribs = {\n",
    "    \"n_hidden\": [0, 1, 2, 3],\n",
    "    \"n_neurons\": np.arange(1, 100),\n",
    "    \"learning_rate\": reciprocal(3e-4, 3e-2),\n",
    "}\n",
    "\n",
    "rnd_search_cv = RandomizedSearchCV(keras_reg, param_distribs, n_iter=10, cv=3, verbose=2)\n",
    "rnd_search_cv.fit(X_train, y_train, epochs=100,\n",
    "                  validation_data=(X_valid, y_valid),\n",
    "                  callbacks=[keras.callbacks.EarlyStopping(patience=10)])"
   ]
  },
  {
   "cell_type": "code",
   "execution_count": null,
   "metadata": {},
   "outputs": [],
   "source": [
    "rnd_search_cv.best_params_"
   ]
  },
  {
   "cell_type": "code",
   "execution_count": null,
   "metadata": {},
   "outputs": [],
   "source": [
    "rnd_search_cv.best_score_"
   ]
  },
  {
   "cell_type": "code",
   "execution_count": null,
   "metadata": {},
   "outputs": [],
   "source": [
    "rnd_search_cv.best_estimator_"
   ]
  },
  {
   "cell_type": "code",
   "execution_count": null,
   "metadata": {},
   "outputs": [],
   "source": [
    "rnd_search_cv.score(X_test, y_test)"
   ]
  },
  {
   "cell_type": "code",
   "execution_count": null,
   "metadata": {},
   "outputs": [],
   "source": [
    "model = rnd_search_cv.best_estimator_.model\n",
    "model"
   ]
  },
  {
   "cell_type": "code",
   "execution_count": null,
   "metadata": {
    "scrolled": true
   },
   "outputs": [],
   "source": [
    "model.evaluate(X_test, y_test)"
   ]
  },
  {
   "cell_type": "markdown",
   "metadata": {},
   "source": [
    "# Exercise solutions"
   ]
  },
  {
   "cell_type": "markdown",
   "metadata": {},
   "source": [
    "## 1. to 9."
   ]
  },
  {
   "cell_type": "markdown",
   "metadata": {},
   "source": [
    "See appendix A."
   ]
  },
  {
   "cell_type": "markdown",
   "metadata": {},
   "source": [
    "## 10."
   ]
  },
  {
   "cell_type": "markdown",
   "metadata": {},
   "source": [
    "*Exercise: Train a deep MLP on the MNIST dataset (you can load it using `keras.datasets.mnist.load_data()`. See if you can get over 98% precision. Try searching for the optimal learning rate by using the approach presented in this chapter (i.e., by growing the learning rate exponentially, plotting the loss, and finding the point where the loss shoots up). Try adding all the bells and whistles—save checkpoints, use early stopping, and plot learning curves using TensorBoard.*"
   ]
  },
  {
   "cell_type": "markdown",
   "metadata": {},
   "source": [
    "Let's load the dataset:"
   ]
  },
  {
   "cell_type": "code",
   "execution_count": null,
   "metadata": {},
   "outputs": [],
   "source": [
    "(X_train_full, y_train_full), (X_test, y_test) = keras.datasets.mnist.load_data()"
   ]
  },
  {
   "cell_type": "markdown",
   "metadata": {},
   "source": [
    "Just like for the Fashion MNIST dataset, the MNIST training set contains 60,000 grayscale images, each 28x28 pixels:"
   ]
  },
  {
   "cell_type": "code",
   "execution_count": null,
   "metadata": {},
   "outputs": [],
   "source": [
    "X_train_full.shape"
   ]
  },
  {
   "cell_type": "markdown",
   "metadata": {},
   "source": [
    "Each pixel intensity is also represented as a byte (0 to 255):"
   ]
  },
  {
   "cell_type": "code",
   "execution_count": null,
   "metadata": {},
   "outputs": [],
   "source": [
    "X_train_full.dtype"
   ]
  },
  {
   "cell_type": "markdown",
   "metadata": {},
   "source": [
    "Let's split the full training set into a validation set and a (smaller) training set. We also scale the pixel intensities down to the 0-1 range and convert them to floats, by dividing by 255, just like we did for Fashion MNIST:"
   ]
  },
  {
   "cell_type": "code",
   "execution_count": null,
   "metadata": {},
   "outputs": [],
   "source": [
    "X_valid, X_train = X_train_full[:5000] / 255., X_train_full[5000:] / 255.\n",
    "y_valid, y_train = y_train_full[:5000], y_train_full[5000:]\n",
    "X_test = X_test / 255."
   ]
  },
  {
   "cell_type": "markdown",
   "metadata": {},
   "source": [
    "Let's plot an image using Matplotlib's `imshow()` function, with a `'binary'`\n",
    " color map:"
   ]
  },
  {
   "cell_type": "code",
   "execution_count": null,
   "metadata": {},
   "outputs": [],
   "source": [
    "plt.imshow(X_train[0], cmap=\"binary\")\n",
    "plt.axis('off')\n",
    "plt.show()"
   ]
  },
  {
   "cell_type": "markdown",
   "metadata": {},
   "source": [
    "The labels are the class IDs (represented as uint8), from 0 to 9. Conveniently, the class IDs correspond to the digits represented in the images, so we don't need a `class_names` array:"
   ]
  },
  {
   "cell_type": "code",
   "execution_count": null,
   "metadata": {},
   "outputs": [],
   "source": [
    "y_train"
   ]
  },
  {
   "cell_type": "markdown",
   "metadata": {},
   "source": [
    "The validation set contains 5,000 images, and the test set contains 10,000 images:"
   ]
  },
  {
   "cell_type": "code",
   "execution_count": null,
   "metadata": {},
   "outputs": [],
   "source": [
    "X_valid.shape"
   ]
  },
  {
   "cell_type": "code",
   "execution_count": null,
   "metadata": {},
   "outputs": [],
   "source": [
    "X_test.shape"
   ]
  },
  {
   "cell_type": "markdown",
   "metadata": {},
   "source": [
    "Let's take a look at a sample of the images in the dataset:"
   ]
  },
  {
   "cell_type": "code",
   "execution_count": null,
   "metadata": {},
   "outputs": [],
   "source": [
    "n_rows = 4\n",
    "n_cols = 10\n",
    "plt.figure(figsize=(n_cols * 1.2, n_rows * 1.2))\n",
    "for row in range(n_rows):\n",
    "    for col in range(n_cols):\n",
    "        index = n_cols * row + col\n",
    "        plt.subplot(n_rows, n_cols, index + 1)\n",
    "        plt.imshow(X_train[index], cmap=\"binary\", interpolation=\"nearest\")\n",
    "        plt.axis('off')\n",
    "        plt.title(y_train[index], fontsize=12)\n",
    "plt.subplots_adjust(wspace=0.2, hspace=0.5)\n",
    "plt.show()"
   ]
  },
  {
   "cell_type": "markdown",
   "metadata": {},
   "source": [
    "Let's build a simple dense network and find the optimal learning rate. We will need a callback to grow the learning rate at each iteration. It will also record the learning rate and the loss at each iteration:"
   ]
  },
  {
   "cell_type": "code",
   "execution_count": null,
   "metadata": {},
   "outputs": [],
   "source": [
    "K = keras.backend\n",
    "\n",
    "class ExponentialLearningRate(keras.callbacks.Callback):\n",
    "    def __init__(self, factor):\n",
    "        self.factor = factor\n",
    "        self.rates = []\n",
    "        self.losses = []\n",
    "    def on_batch_end(self, batch, logs):\n",
    "        self.rates.append(K.get_value(self.model.optimizer.lr))\n",
    "        self.losses.append(logs[\"loss\"])\n",
    "        K.set_value(self.model.optimizer.lr, self.model.optimizer.lr * self.factor)"
   ]
  },
  {
   "cell_type": "code",
   "execution_count": null,
   "metadata": {},
   "outputs": [],
   "source": [
    "keras.backend.clear_session()\n",
    "np.random.seed(42)\n",
    "tf.random.set_seed(42)"
   ]
  },
  {
   "cell_type": "code",
   "execution_count": null,
   "metadata": {},
   "outputs": [],
   "source": [
    "model = keras.models.Sequential([\n",
    "    keras.layers.Flatten(input_shape=[28, 28]),\n",
    "    keras.layers.Dense(300, activation=\"relu\"),\n",
    "    keras.layers.Dense(100, activation=\"relu\"),\n",
    "    keras.layers.Dense(10, activation=\"softmax\")\n",
    "])"
   ]
  },
  {
   "cell_type": "markdown",
   "metadata": {},
   "source": [
    "We will start with a small learning rate of 1e-3, and grow it by 0.5% at each iteration:"
   ]
  },
  {
   "cell_type": "code",
   "execution_count": null,
   "metadata": {},
   "outputs": [],
   "source": [
    "model.compile(loss=\"sparse_categorical_crossentropy\",\n",
    "              optimizer=keras.optimizers.SGD(lr=1e-3),\n",
    "              metrics=[\"accuracy\"])\n",
    "expon_lr = ExponentialLearningRate(factor=1.005)"
   ]
  },
  {
   "cell_type": "markdown",
   "metadata": {},
   "source": [
    "Now let's train the model for just 1 epoch:"
   ]
  },
  {
   "cell_type": "code",
   "execution_count": null,
   "metadata": {},
   "outputs": [],
   "source": [
    "history = model.fit(X_train, y_train, epochs=1,\n",
    "                    validation_data=(X_valid, y_valid),\n",
    "                    callbacks=[expon_lr])"
   ]
  },
  {
   "cell_type": "markdown",
   "metadata": {},
   "source": [
    "We can now plot the loss as a functionof the learning rate:"
   ]
  },
  {
   "cell_type": "code",
   "execution_count": null,
   "metadata": {},
   "outputs": [],
   "source": [
    "plt.plot(expon_lr.rates, expon_lr.losses)\n",
    "plt.gca().set_xscale('log')\n",
    "plt.hlines(min(expon_lr.losses), min(expon_lr.rates), max(expon_lr.rates))\n",
    "plt.axis([min(expon_lr.rates), max(expon_lr.rates), 0, expon_lr.losses[0]])\n",
    "plt.xlabel(\"Learning rate\")\n",
    "plt.ylabel(\"Loss\")"
   ]
  },
  {
   "cell_type": "markdown",
   "metadata": {},
   "source": [
    "The loss starts shooting back up violently around 3e-1, so let's try using 2e-1 as our learning rate:"
   ]
  },
  {
   "cell_type": "code",
   "execution_count": null,
   "metadata": {},
   "outputs": [],
   "source": [
    "keras.backend.clear_session()\n",
    "np.random.seed(42)\n",
    "tf.random.set_seed(42)"
   ]
  },
  {
   "cell_type": "code",
   "execution_count": null,
   "metadata": {},
   "outputs": [],
   "source": [
    "model = keras.models.Sequential([\n",
    "    keras.layers.Flatten(input_shape=[28, 28]),\n",
    "    keras.layers.Dense(300, activation=\"relu\"),\n",
    "    keras.layers.Dense(100, activation=\"relu\"),\n",
    "    keras.layers.Dense(10, activation=\"softmax\")\n",
    "])"
   ]
  },
  {
   "cell_type": "code",
   "execution_count": null,
   "metadata": {},
   "outputs": [],
   "source": [
    "model.compile(loss=\"sparse_categorical_crossentropy\",\n",
    "              optimizer=keras.optimizers.SGD(lr=2e-1),\n",
    "              metrics=[\"accuracy\"])"
   ]
  },
  {
   "cell_type": "code",
   "execution_count": null,
   "metadata": {},
   "outputs": [],
   "source": [
    "run_index = 1 # increment this at every run\n",
    "run_logdir = os.path.join(os.curdir, \"my_mnist_logs\", \"run_{:03d}\".format(run_index))\n",
    "run_logdir"
   ]
  },
  {
   "cell_type": "code",
   "execution_count": null,
   "metadata": {},
   "outputs": [],
   "source": [
    "early_stopping_cb = keras.callbacks.EarlyStopping(patience=20)\n",
    "checkpoint_cb = keras.callbacks.ModelCheckpoint(\"my_mnist_model.h5\", save_best_only=True)\n",
    "tensorboard_cb = keras.callbacks.TensorBoard(run_logdir)\n",
    "\n",
    "history = model.fit(X_train, y_train, epochs=100,\n",
    "                    validation_data=(X_valid, y_valid),\n",
    "                    callbacks=[early_stopping_cb, checkpoint_cb, tensorboard_cb])"
   ]
  },
  {
   "cell_type": "code",
   "execution_count": null,
   "metadata": {},
   "outputs": [],
   "source": [
    "model = keras.models.load_model(\"my_mnist_model.h5\") # rollback to best model\n",
    "model.evaluate(X_test, y_test)"
   ]
  },
  {
   "cell_type": "markdown",
   "metadata": {},
   "source": [
    "We got over 98% accuracy. Finally, let's look at the learning curves using TensorBoard:"
   ]
  },
  {
   "cell_type": "code",
   "execution_count": null,
   "metadata": {},
   "outputs": [],
   "source": [
    "%tensorboard --logdir=./my_mnist_logs --port=6006"
   ]
  },
  {
   "cell_type": "code",
   "execution_count": null,
   "metadata": {},
   "outputs": [],
   "source": []
  }
 ],
 "metadata": {
  "kernelspec": {
   "display_name": "Python 3",
   "language": "python",
   "name": "python3"
  },
  "language_info": {
   "codemirror_mode": {
    "name": "ipython",
    "version": 3
   },
   "file_extension": ".py",
   "mimetype": "text/x-python",
   "name": "python",
   "nbconvert_exporter": "python",
   "pygments_lexer": "ipython3",
   "version": "3.7.6"
  },
  "nav_menu": {
   "height": "264px",
   "width": "369px"
  },
  "toc": {
   "base_numbering": 1,
   "nav_menu": {},
   "number_sections": true,
   "sideBar": true,
   "skip_h1_title": false,
   "title_cell": "Table of Contents",
   "title_sidebar": "Contents",
   "toc_cell": false,
   "toc_position": {},
   "toc_section_display": "block",
   "toc_window_display": false
  },
  "varInspector": {
   "cols": {
    "lenName": 16,
    "lenType": 16,
    "lenVar": 40
   },
   "kernels_config": {
    "python": {
     "delete_cmd_postfix": "",
     "delete_cmd_prefix": "del ",
     "library": "var_list.py",
     "varRefreshCmd": "print(var_dic_list())"
    },
    "r": {
     "delete_cmd_postfix": ") ",
     "delete_cmd_prefix": "rm(",
     "library": "var_list.r",
     "varRefreshCmd": "cat(var_dic_list()) "
    }
   },
   "types_to_exclude": [
    "module",
    "function",
    "builtin_function_or_method",
    "instance",
    "_Feature"
   ],
   "window_display": false
  }
 },
 "nbformat": 4,
 "nbformat_minor": 4
}
